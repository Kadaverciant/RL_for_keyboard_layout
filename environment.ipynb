{
 "cells": [
  {
   "cell_type": "code",
   "execution_count": 28,
   "metadata": {},
   "outputs": [],
   "source": [
    "keyboard_low = [[ '`', '1', '2', '3', '4', '5', '6', '7', '8', '9', '0', '-', '=', '<back>'],\n",
    "                [ '\\t', 'q', 'w', 'e', 'r', 't', 'y', 'u', 'i', 'o', 'p', '[', ']', \"\\\\\"],\n",
    "                ['<caps>','a', 's', 'd', 'f', 'g', 'h', 'j', 'k', 'l', ';', \"'\", '\\n'],\n",
    "                ['<shift>','z', 'x', 'c', 'v', 'b', 'n', 'm', ',', '.', '/', '<shift>'],\n",
    "                ['<win>', '<alt>', ' ', ' ', ' ', ' ', ' ', ' ', '<alt>', '<fn>']]\n",
    "\n",
    "keyboard_high = [[ '~', '!', '@', '#', '$', '%', '^', '&', '*', '(', ')', '_', '+', '<back>'],\n",
    "                 [ '\\t', 'Q', 'W', 'E', 'R', 'T', 'Y', 'U', 'I', 'O', 'P', '{', '}', \"|\"],\n",
    "                 ['<caps>','A','S','D','F','G','H', 'J', 'K', 'L', ':', '\"', '\\n'],\n",
    "                 ['<shift>','Z', 'X', 'C', 'V', 'B', 'N', 'M', '<', '>', '?', '<shift>',],\n",
    "                 ['<win>', '<alt>',' ', ' ', ' ', ' ', ' ', ' ', '<alt>', '<fn>' ]]\n",
    "                "
   ]
  },
  {
   "cell_type": "code",
   "execution_count": 29,
   "metadata": {},
   "outputs": [
    {
     "data": {
      "text/plain": [
       "[[2, 1]]"
      ]
     },
     "execution_count": 29,
     "metadata": {},
     "output_type": "execute_result"
    }
   ],
   "source": [
    "def generate_dict(keyboard_low, keyboard_high):\n",
    "    low_dict = {}\n",
    "    high_dict = {}\n",
    "\n",
    "    for i in range(len(keyboard_low)):\n",
    "        for j in range(len(keyboard_low[i])):\n",
    "            key = keyboard_low[i][j]\n",
    "            if key in low_dict:\n",
    "                low_dict[key].append([i, j])\n",
    "            else:\n",
    "                low_dict[key] = [[i, j]]\n",
    "\n",
    "    for i in range(len(keyboard_high)):\n",
    "        for j in range(len(keyboard_high[i])):\n",
    "            key = keyboard_high[i][j]\n",
    "            if key in high_dict:\n",
    "                high_dict[key].append([i, j])\n",
    "            else:\n",
    "                high_dict[key] = [[i, j]]\n",
    "    return low_dict, high_dict\n",
    "\n",
    "low_dict, high_dict =generate_dict(keyboard_low, keyboard_high)\n",
    "low_dict['a']"
   ]
  },
  {
   "cell_type": "code",
   "execution_count": 30,
   "metadata": {},
   "outputs": [
    {
     "data": {
      "text/plain": [
       "[[3, 0], [3, 11]]"
      ]
     },
     "execution_count": 30,
     "metadata": {},
     "output_type": "execute_result"
    }
   ],
   "source": [
    "low_dict['<shift>']"
   ]
  },
  {
   "cell_type": "code",
   "execution_count": 31,
   "metadata": {},
   "outputs": [
    {
     "data": {
      "text/plain": [
       "[['~', '!', '@', '#', '$', '%', '^', '&', '*', '(', ')', '_', '+', '<back>'],\n",
       " ['\\t', 'Q', 'W', 'E', 'R', 'T', 'Y', 'U', 'I', 'O', 'P', '{', '}', '|'],\n",
       " ['<caps>', 'A', 'S', 'D', 'F', 'G', 'H', 'J', 'K', 'L', ':', '\"', '\\n'],\n",
       " ['<shift>', 'Z', 'X', 'C', 'V', 'B', 'N', 'M', '<', '>', '?', '<shift>'],\n",
       " ['<win>', '<alt>', ' ', ' ', ' ', ' ', ' ', ' ', '<alt>', '<fn>']]"
      ]
     },
     "execution_count": 31,
     "metadata": {},
     "output_type": "execute_result"
    }
   ],
   "source": [
    "keyboard_high"
   ]
  },
  {
   "cell_type": "code",
   "execution_count": 131,
   "metadata": {},
   "outputs": [],
   "source": [
    "from math import sqrt\n",
    "import numpy as np\n",
    "from copy import deepcopy\n",
    "\n",
    "class finger:\n",
    "    def __init__(self, default, name) -> None:\n",
    "        self.name = name\n",
    "        self.default = default\n",
    "        self.counter = 0\n",
    "        self.current = default\n",
    "        self.typed_keys = 0\n",
    "\n",
    "    def move_to(self, cell):\n",
    "        self.current = cell\n",
    "        self.counter = 4\n",
    "        self.typed_keys += 1\n",
    "\n",
    "    def tick(self):\n",
    "        if self.counter > 0:\n",
    "            self.counter -= 1\n",
    "        else:\n",
    "            return 0\n",
    "        if self.counter == 0:\n",
    "            distance = self.distance_to(self.default)\n",
    "            self.current = self.default\n",
    "            return distance\n",
    "        return 0\n",
    "\n",
    "    def distance_to(self, target):\n",
    "        x1, y1 = self.current\n",
    "        x2, y2 = target\n",
    "        offset = 0\n",
    "        if abs(y1-y2) > 3:\n",
    "            offset = 1\n",
    "        return sqrt(abs(x1-x2)**2 + abs((y1-y2)*1.2)**2+offset)\n",
    "    \n",
    "    def reset(self):\n",
    "        self.current = self.default\n",
    "        self.typed_keys = 0\n",
    "        self.counter = 0\n",
    "    \n",
    "    def print_stat(self):\n",
    "        print(f\"Name: {self.name}\\t\\t Typed keys: {self.typed_keys}\\t Current counter: {self.counter}\\t Current position: {self.current}\\t Default position: {self.default}\")\n",
    "\n",
    "\n",
    "\n",
    "class keyboard:\n",
    "    def __init__(self, keyboard_low, keyboard_high, low_dict, high_dict, show = False):\n",
    "        self.keyboard_low = deepcopy(keyboard_low)\n",
    "        self.keyboard_high = deepcopy(keyboard_high)\n",
    "        self.low_dict = deepcopy(low_dict)\n",
    "        self.high_dict = deepcopy(high_dict)\n",
    "        self.show = show\n",
    "        self.fingers = []\n",
    "        f0 = finger([2, 1], \"левый мизинец\")\n",
    "        f1 = finger([2, 2], \"левый безымянный\")\n",
    "        f2 = finger([2, 3], \"левый средний\")\n",
    "        f3 = finger([2, 4], \"левый указательный\")\n",
    "        f4 = finger([4, 3], \"левый большой\")\n",
    "        f5 = finger([4, 6], \"правый большой\")\n",
    "        f6 = finger([2, 7], \"правый указательный\")\n",
    "        f7 = finger([2, 8], \"правый средний\")\n",
    "        f8 = finger([2, 9], \"правый безымянный\")\n",
    "        f9 = finger([2, 10], \"правый мизинец\")\n",
    "        self.fingers.extend([f0, f1, f2, f3, f4, f5, f6, f7, f8, f9])\n",
    "        self.total_distance = 0\n",
    "\n",
    "    def move_one_finger(self, cells, banned = -1):\n",
    "        best_finger_id = 0\n",
    "        best_distance = 99999\n",
    "        final_cell = [0, 0]\n",
    "        for cell in cells:\n",
    "            distances = []\n",
    "            for i in range(10):\n",
    "                if i != banned:\n",
    "                    distances.append(self.fingers[i].distance_to(cell))\n",
    "                else:\n",
    "                    distances.append(99999)\n",
    "            candidate_finger_id = np.argmin(distances)\n",
    "            candidate_distance = min(distances)\n",
    "            if candidate_distance < best_distance:\n",
    "                best_distance = candidate_distance\n",
    "                best_finger_id = candidate_finger_id\n",
    "                final_cell = cell\n",
    "        return best_finger_id, final_cell, best_distance\n",
    "\n",
    "    def move_two_fingers(self, cells):\n",
    "\n",
    "        distance = 0\n",
    "\n",
    "        f1_shift, c1_shift, d1_shift = self.move_one_finger(self.low_dict['<shift>'])\n",
    "        f1_key, c1_key, d1_key = self.move_one_finger(cells, banned=f1_shift)\n",
    "\n",
    "        f2_key, c2_key, d2_key = self.move_one_finger(cells)\n",
    "        f2_shift, c2_shift, d2_shift = self.move_one_finger(self.low_dict['<shift>'], f2_key)\n",
    "\n",
    "        if d1_shift + d1_key < d2_key + d2_shift:\n",
    "            distance = d1_shift + d1_key \n",
    "            return f1_shift, f1_key, c1_shift, c1_key, distance\n",
    "        else:\n",
    "            distance = d2_key + d2_shift\n",
    "            return f2_key, f2_shift, c2_key, c2_shift, distance\n",
    "\n",
    "    def end_move(self):\n",
    "        for finger in self.fingers:\n",
    "            self.total_distance += finger.tick()\n",
    "    \n",
    "    def find_key(self, key):\n",
    "        if key in self.low_dict:\n",
    "            finger_id, cell, distance = self.move_one_finger(self.low_dict[key], self.fingers)\n",
    "            self.fingers[finger_id].move_to(cell)\n",
    "            self.total_distance += distance\n",
    "            if self.show:\n",
    "                print(key + ': ' + self.fingers[finger_id].name)\n",
    "        elif key in self.high_dict:\n",
    "            f1_id, f2_id, f1_cell, f2_cell, distance = self.move_two_fingers(self.high_dict[key])\n",
    "            self.fingers[f1_id].move_to(f1_cell)\n",
    "            self.fingers[f2_id].move_to(f2_cell)\n",
    "            self.total_distance += distance\n",
    "            if self.show:\n",
    "                print(key + ': ' + self.fingers[f1_id].name + \"+\" + self.fingers[f2_id].name)\n",
    "        else:\n",
    "            print(\"THERE IS NO SUCH KEY: \", key)\n",
    "        self.end_move()\n",
    "    \n",
    "    def type_string(self, str):\n",
    "        for letter in str:\n",
    "            self.find_key(letter)\n",
    "        return self.total_distance\n",
    "    \n",
    "    def swap_cells_low(self, cell1, cell2):\n",
    "        x1, y1 = cell1\n",
    "        key1 = self.keyboard_low[x1][y1]\n",
    "        x2, y2 = cell2\n",
    "        key2 = self.keyboard_low[x2][y2]\n",
    "        self.low_dict[key1].remove(cell1)\n",
    "        self.low_dict[key2].remove(cell2)\n",
    "\n",
    "        self.low_dict[key1].append(cell2)\n",
    "        self.low_dict[key2].append(cell1)\n",
    "\n",
    "        self.keyboard_low[x2][y2] = key1\n",
    "        self.keyboard_low[x1][y1] = key2\n",
    "\n",
    "    def swap_cells_high(self, cell1, cell2):\n",
    "        x1, y1 = cell1\n",
    "        key1 = self.keyboard_high[x1][y1]\n",
    "        x2, y2 = cell2\n",
    "        key2 = self.keyboard_high[x2][y2]\n",
    "        self.high_dict[key1].remove(cell1)\n",
    "        self.high_dict[key2].remove(cell2)\n",
    "\n",
    "        self.high_dict[key1].append(cell2)\n",
    "        self.high_dict[key2].append(cell1)\n",
    "\n",
    "        self.keyboard_high[x2][y2] = key1\n",
    "        self.keyboard_high[x1][y1] = key2\n",
    "\n",
    "    def swap_cells_diff(self, cell_low, cell_high):\n",
    "        x1, y1 = cell_low\n",
    "        key_low = self.keyboard_low[x1][y1]\n",
    "        x2, y2 = cell_high\n",
    "        key_high = self.keyboard_high[x2][y2]\n",
    "        self.low_dict[key_low].remove(cell_low)\n",
    "        self.high_dict[key_high].remove(cell_high)\n",
    "\n",
    "        if key_high in self.low_dict:\n",
    "            self.low_dict[key_high].append(cell_low)\n",
    "        else:\n",
    "            self.low_dict[key_high] = [cell_low]\n",
    "        \n",
    "        if key_low in self.high_dict:\n",
    "            self.high_dict[key_low].append(cell_high)\n",
    "        else:\n",
    "            self.high_dict[key_low] = [cell_high]\n",
    "\n",
    "        self.keyboard_high[x2][y2] = key_low\n",
    "        self.keyboard_low[x1][y1] = key_high\n",
    "\n",
    "    def reset_keyboard(self):\n",
    "        self.total_distance = 0\n",
    "        for f in self.fingers:\n",
    "            f.reset()\n",
    "    \n",
    "    def show_fingers_stat(self):\n",
    "        for f in self.fingers:\n",
    "            f.print_stat()\n"
   ]
  },
  {
   "cell_type": "code",
   "execution_count": 132,
   "metadata": {},
   "outputs": [],
   "source": [
    "all_keys = []\n",
    "keyboard_shape = []\n",
    "\n",
    "for i in range(len(keyboard_low)):\n",
    "    keyboard_shape.append(len(keyboard_low[i]))\n",
    "    for j in range(len(keyboard_low[i])):\n",
    "        key = keyboard_high[i][j]\n",
    "        if key != '<shift>':\n",
    "            all_keys.append(key)\n",
    "\n",
    "for i in range(len(keyboard_high)):\n",
    "    for j in range(len(keyboard_high[i])):\n",
    "        key = keyboard_high[i][j]\n",
    "        if key != '<shift>':\n",
    "            all_keys.append(key)"
   ]
  },
  {
   "cell_type": "code",
   "execution_count": 133,
   "metadata": {},
   "outputs": [
    {
     "data": {
      "text/plain": [
       "([['*', '*', '_', 'V', '\\n', 'B', ' ', 'X', 'N', 'B', '_', 'A', ' ', '<fn>'],\n",
       "  ['S',\n",
       "   '}',\n",
       "   '!',\n",
       "   'I',\n",
       "   'L',\n",
       "   ' ',\n",
       "   '<caps>',\n",
       "   '#',\n",
       "   'K',\n",
       "   '<win>',\n",
       "   '|',\n",
       "   'G',\n",
       "   ' ',\n",
       "   '?'],\n",
       "  [' ', ' ', 'V', 'S', 'T', '<back>', '}', '<shift>', '!', 'O', 'L', 'W', '{'],\n",
       "  ['U',\n",
       "   'P',\n",
       "   'M',\n",
       "   '<alt>',\n",
       "   'O',\n",
       "   '<caps>',\n",
       "   '\\t',\n",
       "   '<alt>',\n",
       "   '\"',\n",
       "   '<win>',\n",
       "   'N',\n",
       "   '<'],\n",
       "  ['<shift>', ' ', 'W', '@', '@', 'C', '$', 'F', '(', 'Q']],\n",
       " [['?', ')', '%', ' ', 'E', 'U', 'Q', '|', 'G', 'Y', '%', ' ', 'D', 'R'],\n",
       "  ['P', '+', 'T', '^', '#', ')', '$', ':', ' ', '\\n', 'H', 'Z', '+', '&'],\n",
       "  [':', 'Y', '<', '~', '&', '^', '>', '<shift>', 'H', 'Z', 'F', '<alt>', 'D'],\n",
       "  ['\"', 'A', '<back>', 'R', '<fn>', '~', '\\t', '<alt>', 'E', 'J', 'M', 'X'],\n",
       "  ['<shift>', ' ', '>', 'K', '{', 'C', '(', ' ', 'J', 'I']])"
      ]
     },
     "execution_count": 133,
     "metadata": {},
     "output_type": "execute_result"
    }
   ],
   "source": [
    "import random \n",
    "\n",
    "def generate_cell(keyboard_shape):\n",
    "    x = random.randint(0, len(keyboard_shape)-1)\n",
    "    y = random.randint(0, keyboard_shape[x]-1)\n",
    "    return x, y\n",
    "\n",
    "def generate_layout(all_keys, keyboard_shape):\n",
    "    low = [[0 for _ in range(row)] for row in keyboard_shape] \n",
    "    high = [[0 for _ in range(row)] for row in keyboard_shape] \n",
    "    x1, y1 = generate_cell(keyboard_shape)\n",
    "    x2, y2 = x1, y1\n",
    "    while x1 == x2 and y1 == y2:\n",
    "        x2, y2 = generate_cell(keyboard_shape)\n",
    "    low[x1][y1] = '<shift>'\n",
    "    high[x1][y1] = '<shift>'\n",
    "    low[x2][y2] = '<shift>'\n",
    "    high[x2][y2] = '<shift>'\n",
    "    \n",
    "    temp = deepcopy(all_keys)\n",
    "    random.shuffle(temp)\n",
    "    \n",
    "    for i in range(len(low)):\n",
    "        for j in range(len(low[i])):\n",
    "            key = low[i][j]\n",
    "            if key == '<shift>':\n",
    "                continue\n",
    "            key = temp.pop()\n",
    "            low[i][j] = key\n",
    "    \n",
    "    for i in range(len(high)):\n",
    "        for j in range(len(high[i])):\n",
    "            key = high[i][j]\n",
    "            if key == '<shift>':\n",
    "                continue\n",
    "            key = temp.pop()\n",
    "            high[i][j] = key\n",
    "\n",
    "    return low, high\n",
    "\n",
    "\n",
    "generate_layout(all_keys, keyboard_shape)"
   ]
  },
  {
   "cell_type": "code",
   "execution_count": 134,
   "metadata": {},
   "outputs": [
    {
     "data": {
      "text/plain": [
       "122"
      ]
     },
     "execution_count": 134,
     "metadata": {},
     "output_type": "execute_result"
    }
   ],
   "source": [
    "len(all_keys)"
   ]
  },
  {
   "cell_type": "code",
   "execution_count": 135,
   "metadata": {},
   "outputs": [
    {
     "data": {
      "text/plain": [
       "[14, 14, 13, 12, 10]"
      ]
     },
     "execution_count": 135,
     "metadata": {},
     "output_type": "execute_result"
    }
   ],
   "source": [
    "keyboard_shape"
   ]
  },
  {
   "cell_type": "code",
   "execution_count": 136,
   "metadata": {},
   "outputs": [
    {
     "data": {
      "text/plain": [
       "([[2, 2]], [[1, 1]], [[2, 2]], [[1, 1]])"
      ]
     },
     "execution_count": 136,
     "metadata": {},
     "output_type": "execute_result"
    }
   ],
   "source": [
    "k = keyboard(keyboard_low, keyboard_high, low_dict, high_dict, show=True)\n",
    "k.low_dict['s'], k.low_dict['q'], k.high_dict['S'], k.high_dict['Q']"
   ]
  },
  {
   "cell_type": "code",
   "execution_count": 137,
   "metadata": {},
   "outputs": [],
   "source": [
    "k.swap_cells_low([1, 1], [2, 2])\n",
    "k.swap_cells_high([1, 1], [2, 2])"
   ]
  },
  {
   "cell_type": "code",
   "execution_count": 138,
   "metadata": {},
   "outputs": [
    {
     "data": {
      "text/plain": [
       "([[1, 1]], [[2, 2]], [[1, 1]], [[2, 2]])"
      ]
     },
     "execution_count": 138,
     "metadata": {},
     "output_type": "execute_result"
    }
   ],
   "source": [
    "k.low_dict['s'], k.low_dict['q'], k.high_dict['S'], k.high_dict['Q']"
   ]
  },
  {
   "cell_type": "code",
   "execution_count": 139,
   "metadata": {},
   "outputs": [
    {
     "data": {
      "text/plain": [
       "[['`', '1', '2', '3', '4', '5', '6', '7', '8', '9', '0', '-', '=', '<back>'],\n",
       " ['\\t', 's', 'w', 'e', 'r', 't', 'y', 'u', 'i', 'o', 'p', '[', ']', '\\\\'],\n",
       " ['<caps>', 'a', 'q', 'd', 'f', 'g', 'h', 'j', 'k', 'l', ';', \"'\", '\\n'],\n",
       " ['<shift>', 'z', 'x', 'c', 'v', 'b', 'n', 'm', ',', '.', '/', '<shift>'],\n",
       " ['<win>', '<alt>', ' ', ' ', ' ', ' ', ' ', ' ', '<alt>', '<fn>']]"
      ]
     },
     "execution_count": 139,
     "metadata": {},
     "output_type": "execute_result"
    }
   ],
   "source": [
    "k.keyboard_low"
   ]
  },
  {
   "cell_type": "code",
   "execution_count": 140,
   "metadata": {},
   "outputs": [
    {
     "data": {
      "text/plain": [
       "[['~', '!', '@', '#', '$', '%', '^', '&', '*', '(', ')', '_', '+', '<back>'],\n",
       " ['\\t', 'S', 'W', 'E', 'R', 'T', 'Y', 'U', 'I', 'O', 'P', '{', '}', '|'],\n",
       " ['<caps>', 'A', 'Q', 'D', 'F', 'G', 'H', 'J', 'K', 'L', ':', '\"', '\\n'],\n",
       " ['<shift>', 'Z', 'X', 'C', 'V', 'B', 'N', 'M', '<', '>', '?', '<shift>'],\n",
       " ['<win>', '<alt>', ' ', ' ', ' ', ' ', ' ', ' ', '<alt>', '<fn>']]"
      ]
     },
     "execution_count": 140,
     "metadata": {},
     "output_type": "execute_result"
    }
   ],
   "source": [
    "k.keyboard_high"
   ]
  },
  {
   "cell_type": "code",
   "execution_count": 141,
   "metadata": {},
   "outputs": [
    {
     "data": {
      "text/plain": [
       "([[1, 2]], [[1, 3]])"
      ]
     },
     "execution_count": 141,
     "metadata": {},
     "output_type": "execute_result"
    }
   ],
   "source": [
    "k.low_dict['w'], k.high_dict['E']"
   ]
  },
  {
   "cell_type": "code",
   "execution_count": 142,
   "metadata": {},
   "outputs": [
    {
     "data": {
      "text/plain": [
       "[['`', '1', '2', '3', '4', '5', '6', '7', '8', '9', '0', '-', '=', '<back>'],\n",
       " ['\\t', 's', 'E', 'e', 'r', 't', 'y', 'u', 'i', 'o', 'p', '[', ']', '\\\\'],\n",
       " ['<caps>', 'a', 'q', 'd', 'f', 'g', 'h', 'j', 'k', 'l', ';', \"'\", '\\n'],\n",
       " ['<shift>', 'z', 'x', 'c', 'v', 'b', 'n', 'm', ',', '.', '/', '<shift>'],\n",
       " ['<win>', '<alt>', ' ', ' ', ' ', ' ', ' ', ' ', '<alt>', '<fn>']]"
      ]
     },
     "execution_count": 142,
     "metadata": {},
     "output_type": "execute_result"
    }
   ],
   "source": [
    "k.swap_cells_diff([1, 2], [1, 3])\n",
    "k.keyboard_low"
   ]
  },
  {
   "cell_type": "code",
   "execution_count": 143,
   "metadata": {},
   "outputs": [
    {
     "data": {
      "text/plain": [
       "[['~', '!', '@', '#', '$', '%', '^', '&', '*', '(', ')', '_', '+', '<back>'],\n",
       " ['\\t', 'S', 'W', 'w', 'R', 'T', 'Y', 'U', 'I', 'O', 'P', '{', '}', '|'],\n",
       " ['<caps>', 'A', 'Q', 'D', 'F', 'G', 'H', 'J', 'K', 'L', ':', '\"', '\\n'],\n",
       " ['<shift>', 'Z', 'X', 'C', 'V', 'B', 'N', 'M', '<', '>', '?', '<shift>'],\n",
       " ['<win>', '<alt>', ' ', ' ', ' ', ' ', ' ', ' ', '<alt>', '<fn>']]"
      ]
     },
     "execution_count": 143,
     "metadata": {},
     "output_type": "execute_result"
    }
   ],
   "source": [
    "k.keyboard_high"
   ]
  },
  {
   "cell_type": "code",
   "execution_count": 144,
   "metadata": {},
   "outputs": [
    {
     "data": {
      "text/plain": [
       "([], [], [[1, 3]], [[1, 2]])"
      ]
     },
     "execution_count": 144,
     "metadata": {},
     "output_type": "execute_result"
    }
   ],
   "source": [
    "k.low_dict['w'], k.high_dict['E'], k.high_dict['w'], k.low_dict['E'], "
   ]
  },
  {
   "cell_type": "code",
   "execution_count": 145,
   "metadata": {},
   "outputs": [
    {
     "name": "stdout",
     "output_type": "stream",
     "text": [
      "Name: левый мизинец\t\t Typed keys: 0\t Current counter: 0\t Current position: [2, 1]\t Default position: [2, 1]\n",
      "Name: левый безымянный\t\t Typed keys: 0\t Current counter: 0\t Current position: [2, 2]\t Default position: [2, 2]\n",
      "Name: левый средний\t\t Typed keys: 0\t Current counter: 0\t Current position: [2, 3]\t Default position: [2, 3]\n",
      "Name: левый указательный\t\t Typed keys: 0\t Current counter: 0\t Current position: [2, 4]\t Default position: [2, 4]\n",
      "Name: левый большой\t\t Typed keys: 0\t Current counter: 0\t Current position: [4, 3]\t Default position: [4, 3]\n",
      "Name: правый большой\t\t Typed keys: 0\t Current counter: 0\t Current position: [4, 6]\t Default position: [4, 6]\n",
      "Name: правый указательный\t\t Typed keys: 0\t Current counter: 0\t Current position: [2, 7]\t Default position: [2, 7]\n",
      "Name: правый средний\t\t Typed keys: 0\t Current counter: 0\t Current position: [2, 8]\t Default position: [2, 8]\n",
      "Name: правый безымянный\t\t Typed keys: 0\t Current counter: 0\t Current position: [2, 9]\t Default position: [2, 9]\n",
      "Name: правый мизинец\t\t Typed keys: 0\t Current counter: 0\t Current position: [2, 10]\t Default position: [2, 10]\n"
     ]
    }
   ],
   "source": [
    "k.show_fingers_stat()"
   ]
  },
  {
   "cell_type": "code",
   "execution_count": 146,
   "metadata": {},
   "outputs": [
    {
     "name": "stdout",
     "output_type": "stream",
     "text": [
      "H: правый указательный+левый мизинец\n",
      "i: правый средний\n",
      " : левый большой\n",
      "m: правый большой\n",
      "y: правый указательный\n",
      " : левый большой\n",
      "n: правый большой\n",
      "a: левый мизинец\n",
      "m: правый указательный\n",
      "e: левый средний\n",
      " : левый большой\n",
      "i: правый средний\n",
      "s: левый мизинец\n",
      " : левый большой\n",
      "S: левый мизинец+правый мизинец\n",
      "e: левый средний\n",
      "v: левый указательный\n",
      "a: левый мизинец\n",
      "!: левый мизинец+правый мизинец\n"
     ]
    },
    {
     "data": {
      "text/plain": [
       "32.096399481450646"
      ]
     },
     "execution_count": 146,
     "metadata": {},
     "output_type": "execute_result"
    }
   ],
   "source": [
    "k.type_string('Hi my name is Seva!')"
   ]
  },
  {
   "cell_type": "code",
   "execution_count": 147,
   "metadata": {},
   "outputs": [
    {
     "name": "stdout",
     "output_type": "stream",
     "text": [
      "Name: левый мизинец\t\t Typed keys: 6\t Current counter: 3\t Current position: [0, 1]\t Default position: [2, 1]\n",
      "Name: левый безымянный\t\t Typed keys: 0\t Current counter: 0\t Current position: [2, 2]\t Default position: [2, 2]\n",
      "Name: левый средний\t\t Typed keys: 2\t Current counter: 0\t Current position: [2, 3]\t Default position: [2, 3]\n",
      "Name: левый указательный\t\t Typed keys: 1\t Current counter: 1\t Current position: [3, 4]\t Default position: [2, 4]\n",
      "Name: левый большой\t\t Typed keys: 4\t Current counter: 0\t Current position: [4, 3]\t Default position: [4, 3]\n",
      "Name: правый большой\t\t Typed keys: 2\t Current counter: 0\t Current position: [4, 6]\t Default position: [4, 6]\n",
      "Name: правый указательный\t\t Typed keys: 3\t Current counter: 0\t Current position: [2, 7]\t Default position: [2, 7]\n",
      "Name: правый средний\t\t Typed keys: 2\t Current counter: 0\t Current position: [2, 8]\t Default position: [2, 8]\n",
      "Name: правый безымянный\t\t Typed keys: 0\t Current counter: 0\t Current position: [2, 9]\t Default position: [2, 9]\n",
      "Name: правый мизинец\t\t Typed keys: 2\t Current counter: 3\t Current position: [3, 11]\t Default position: [2, 10]\n"
     ]
    }
   ],
   "source": [
    "k.show_fingers_stat()"
   ]
  },
  {
   "cell_type": "code",
   "execution_count": 148,
   "metadata": {},
   "outputs": [
    {
     "name": "stdout",
     "output_type": "stream",
     "text": [
      "Name: левый мизинец\t\t Typed keys: 0\t Current counter: 0\t Current position: [2, 1]\t Default position: [2, 1]\n",
      "Name: левый безымянный\t\t Typed keys: 0\t Current counter: 0\t Current position: [2, 2]\t Default position: [2, 2]\n",
      "Name: левый средний\t\t Typed keys: 0\t Current counter: 0\t Current position: [2, 3]\t Default position: [2, 3]\n",
      "Name: левый указательный\t\t Typed keys: 0\t Current counter: 0\t Current position: [2, 4]\t Default position: [2, 4]\n",
      "Name: левый большой\t\t Typed keys: 0\t Current counter: 0\t Current position: [4, 3]\t Default position: [4, 3]\n",
      "Name: правый большой\t\t Typed keys: 0\t Current counter: 0\t Current position: [4, 6]\t Default position: [4, 6]\n",
      "Name: правый указательный\t\t Typed keys: 0\t Current counter: 0\t Current position: [2, 7]\t Default position: [2, 7]\n",
      "Name: правый средний\t\t Typed keys: 0\t Current counter: 0\t Current position: [2, 8]\t Default position: [2, 8]\n",
      "Name: правый безымянный\t\t Typed keys: 0\t Current counter: 0\t Current position: [2, 9]\t Default position: [2, 9]\n",
      "Name: правый мизинец\t\t Typed keys: 0\t Current counter: 0\t Current position: [2, 10]\t Default position: [2, 10]\n"
     ]
    }
   ],
   "source": [
    "k.reset_keyboard()\n",
    "k.show_fingers_stat()"
   ]
  },
  {
   "cell_type": "markdown",
   "metadata": {},
   "source": [
    "As we can see, we successfully can swap different keys in given keyboard and calculate distance function fro given string."
   ]
  },
  {
   "cell_type": "markdown",
   "metadata": {},
   "source": [
    "# Check\n",
    "\n",
    "let's check on some program from this [dataset](https://www.kaggle.com/datasets/joshuwamiller/software-code-dataset-cc)."
   ]
  },
  {
   "cell_type": "code",
   "execution_count": 14,
   "metadata": {},
   "outputs": [
    {
     "data": {
      "text/plain": [
       "14"
      ]
     },
     "execution_count": 14,
     "metadata": {},
     "output_type": "execute_result"
    }
   ],
   "source": [
    "import pandas as pd\n",
    "\n",
    "df = pd.read_csv(\"./validated/200717.cpp.csv\", sep='`')\n",
    "temp = df['code']\n",
    "len(temp)\n"
   ]
  },
  {
   "cell_type": "code",
   "execution_count": 15,
   "metadata": {},
   "outputs": [],
   "source": [
    "temp_sent = '\\n'.join(temp)"
   ]
  },
  {
   "cell_type": "code",
   "execution_count": 16,
   "metadata": {},
   "outputs": [
    {
     "data": {
      "text/plain": [
       "'void update(bool flag[DIM][DIM], string type, string pos) {\\n\\tint x=pos[0]-\\'a\\', y=pos[1]-\\'1\\';\\n\\tif(type==\"rook\") {\\n\\t\\tfor (int i=0; i<DIM; i++) {\\n\\t\\t\\tfor (int j=0; j<DIM; j++) {\\n\\t\\t\\t\\tif((i==x || j==y) && !(i==x && j==y)) flag[i][j]=true;\\n\\t\\tfor (int i=-1; i<=1; i++) {\\n\\t\\t\\tfor (int j=-1; j<=1; j++) {\\n\\t\\t\\t\\tif(!(i==0 && j==0)) {\\n\\t\\t\\t\\t\\tint u=x+i, v=y+j;\\n\\t\\t\\t\\t\\tif(0<=u && u<DIM && 0<=v && v<DIM) flag[u][v]=true;\\nint main() {\\n\\tbool flag[DIM][DIM];\\n\\tfor (int i=0; i<DIM; i++) for (int j=0; j<DIM; j++) flag[i][j]=false;'"
      ]
     },
     "execution_count": 16,
     "metadata": {},
     "output_type": "execute_result"
    }
   ],
   "source": [
    "temp_sent"
   ]
  },
  {
   "cell_type": "code",
   "execution_count": 17,
   "metadata": {},
   "outputs": [
    {
     "data": {
      "text/plain": [
       "972.7854054794448"
      ]
     },
     "execution_count": 17,
     "metadata": {},
     "output_type": "execute_result"
    }
   ],
   "source": [
    "k1 = keyboard(keyboard_low, keyboard_high, low_dict, high_dict)\n",
    "k1.type_string(temp_sent)"
   ]
  },
  {
   "cell_type": "code",
   "execution_count": 18,
   "metadata": {},
   "outputs": [
    {
     "data": {
      "text/plain": [
       "[['`', '1', '2', '3', '4', '5', '6', '7', '8', '9', '0', '-', '=', '<back>'],\n",
       " ['\\t', 'q', 'w', 'e', 'r', 't', 'y', 'u', 'i', 'o', 'p', '[', ']', '\\\\'],\n",
       " ['<caps>', 'a', 's', 'd', 'f', 'g', 'h', 'j', 'k', 'l', ';', \"'\", '\\n'],\n",
       " ['<shift>', 'z', 'x', 'c', 'v', 'b', 'n', 'm', ',', '.', '/', '<shift>'],\n",
       " ['<win>', '<alt>', ' ', ' ', ' ', ' ', ' ', ' ', '<alt>', '<fn>']]"
      ]
     },
     "execution_count": 18,
     "metadata": {},
     "output_type": "execute_result"
    }
   ],
   "source": [
    "k1.keyboard_low"
   ]
  },
  {
   "cell_type": "markdown",
   "metadata": {},
   "source": [
    "Everything works"
   ]
  },
  {
   "cell_type": "markdown",
   "metadata": {},
   "source": [
    "## Build cpp dataset"
   ]
  },
  {
   "cell_type": "code",
   "execution_count": null,
   "metadata": {},
   "outputs": [],
   "source": [
    "import os\n",
    "from tqdm import tqdm\n",
    "count = 0\n",
    "directory = \"./validated\"\n",
    "sentences = []\n",
    "for filename in tqdm(os.listdir(directory)):\n",
    "    f = os.path.join(directory, filename)\n",
    "    df = pd.read_csv(f, sep='`')\n",
    "    temp = df['code']\n",
    "    temp_sent = '\\n'.join(temp)\n",
    "    sentences.append(temp_sent)\n",
    "    count += 1"
   ]
  },
  {
   "cell_type": "code",
   "execution_count": null,
   "metadata": {},
   "outputs": [
    {
     "data": {
      "text/html": [
       "<div>\n",
       "<style scoped>\n",
       "    .dataframe tbody tr th:only-of-type {\n",
       "        vertical-align: middle;\n",
       "    }\n",
       "\n",
       "    .dataframe tbody tr th {\n",
       "        vertical-align: top;\n",
       "    }\n",
       "\n",
       "    .dataframe thead th {\n",
       "        text-align: right;\n",
       "    }\n",
       "</style>\n",
       "<table border=\"1\" class=\"dataframe\">\n",
       "  <thead>\n",
       "    <tr style=\"text-align: right;\">\n",
       "      <th></th>\n",
       "      <th>0</th>\n",
       "    </tr>\n",
       "  </thead>\n",
       "  <tbody>\n",
       "    <tr>\n",
       "      <th>0</th>\n",
       "      <td>point operator-(point p1,point p2)\\n  p1.x-=p2...</td>\n",
       "    </tr>\n",
       "    <tr>\n",
       "      <th>1</th>\n",
       "      <td>int main() {\\n    map&lt;char, int&gt; m;\\n    m['6'...</td>\n",
       "    </tr>\n",
       "    <tr>\n",
       "      <th>2</th>\n",
       "      <td>int main()\\n\\tint n,s[1001],cnt=0;\\n\\tscanf(\"%...</td>\n",
       "    </tr>\n",
       "    <tr>\n",
       "      <th>3</th>\n",
       "      <td>int main() {\\n\\tcin &gt;&gt; n;\\n\\tfor (int i = 0; i...</td>\n",
       "    </tr>\n",
       "    <tr>\n",
       "      <th>4</th>\n",
       "      <td>int main()\\n      char a, b, c, d, kozir;\\n ...</td>\n",
       "    </tr>\n",
       "  </tbody>\n",
       "</table>\n",
       "</div>"
      ],
      "text/plain": [
       "                                                   0\n",
       "0  point operator-(point p1,point p2)\\n  p1.x-=p2...\n",
       "1  int main() {\\n    map<char, int> m;\\n    m['6'...\n",
       "2  int main()\\n\\tint n,s[1001],cnt=0;\\n\\tscanf(\"%...\n",
       "3  int main() {\\n\\tcin >> n;\\n\\tfor (int i = 0; i...\n",
       "4    int main()\\n      char a, b, c, d, kozir;\\n ..."
      ]
     },
     "execution_count": 78,
     "metadata": {},
     "output_type": "execute_result"
    }
   ],
   "source": [
    "cpp_programs = pd.DataFrame(sentences)\n",
    "cpp_programs.head()"
   ]
  },
  {
   "cell_type": "code",
   "execution_count": null,
   "metadata": {},
   "outputs": [],
   "source": [
    "cpp_programs.columns = ['text']"
   ]
  },
  {
   "cell_type": "code",
   "execution_count": null,
   "metadata": {},
   "outputs": [
    {
     "data": {
      "text/html": [
       "<div>\n",
       "<style scoped>\n",
       "    .dataframe tbody tr th:only-of-type {\n",
       "        vertical-align: middle;\n",
       "    }\n",
       "\n",
       "    .dataframe tbody tr th {\n",
       "        vertical-align: top;\n",
       "    }\n",
       "\n",
       "    .dataframe thead th {\n",
       "        text-align: right;\n",
       "    }\n",
       "</style>\n",
       "<table border=\"1\" class=\"dataframe\">\n",
       "  <thead>\n",
       "    <tr style=\"text-align: right;\">\n",
       "      <th></th>\n",
       "      <th>text</th>\n",
       "    </tr>\n",
       "  </thead>\n",
       "  <tbody>\n",
       "    <tr>\n",
       "      <th>0</th>\n",
       "      <td>point operator-(point p1,point p2)\\n  p1.x-=p2...</td>\n",
       "    </tr>\n",
       "    <tr>\n",
       "      <th>1</th>\n",
       "      <td>int main() {\\n    map&lt;char, int&gt; m;\\n    m['6'...</td>\n",
       "    </tr>\n",
       "    <tr>\n",
       "      <th>2</th>\n",
       "      <td>int main()\\n\\tint n,s[1001],cnt=0;\\n\\tscanf(\"%...</td>\n",
       "    </tr>\n",
       "    <tr>\n",
       "      <th>3</th>\n",
       "      <td>int main() {\\n\\tcin &gt;&gt; n;\\n\\tfor (int i = 0; i...</td>\n",
       "    </tr>\n",
       "    <tr>\n",
       "      <th>4</th>\n",
       "      <td>int main()\\n      char a, b, c, d, kozir;\\n ...</td>\n",
       "    </tr>\n",
       "  </tbody>\n",
       "</table>\n",
       "</div>"
      ],
      "text/plain": [
       "                                                text\n",
       "0  point operator-(point p1,point p2)\\n  p1.x-=p2...\n",
       "1  int main() {\\n    map<char, int> m;\\n    m['6'...\n",
       "2  int main()\\n\\tint n,s[1001],cnt=0;\\n\\tscanf(\"%...\n",
       "3  int main() {\\n\\tcin >> n;\\n\\tfor (int i = 0; i...\n",
       "4    int main()\\n      char a, b, c, d, kozir;\\n ..."
      ]
     },
     "execution_count": 81,
     "metadata": {},
     "output_type": "execute_result"
    }
   ],
   "source": [
    "cpp_programs.head()"
   ]
  },
  {
   "cell_type": "code",
   "execution_count": null,
   "metadata": {},
   "outputs": [
    {
     "data": {
      "text/plain": [
       "(119989, 119989)"
      ]
     },
     "execution_count": 82,
     "metadata": {},
     "output_type": "execute_result"
    }
   ],
   "source": [
    "len(sentences), len(cpp_programs)"
   ]
  },
  {
   "cell_type": "code",
   "execution_count": null,
   "metadata": {},
   "outputs": [],
   "source": [
    "cpp_programs.to_csv(\"./cpp_programs.csv\")"
   ]
  },
  {
   "cell_type": "code",
   "execution_count": null,
   "metadata": {},
   "outputs": [
    {
     "data": {
      "text/html": [
       "<div>\n",
       "<style scoped>\n",
       "    .dataframe tbody tr th:only-of-type {\n",
       "        vertical-align: middle;\n",
       "    }\n",
       "\n",
       "    .dataframe tbody tr th {\n",
       "        vertical-align: top;\n",
       "    }\n",
       "\n",
       "    .dataframe thead th {\n",
       "        text-align: right;\n",
       "    }\n",
       "</style>\n",
       "<table border=\"1\" class=\"dataframe\">\n",
       "  <thead>\n",
       "    <tr style=\"text-align: right;\">\n",
       "      <th></th>\n",
       "      <th>text</th>\n",
       "    </tr>\n",
       "  </thead>\n",
       "  <tbody>\n",
       "    <tr>\n",
       "      <th>0</th>\n",
       "      <td>point operator-(point p1,point p2)\\n  p1.x-=p2...</td>\n",
       "    </tr>\n",
       "    <tr>\n",
       "      <th>1</th>\n",
       "      <td>int main() {\\n    map&lt;char, int&gt; m;\\n    m['6'...</td>\n",
       "    </tr>\n",
       "    <tr>\n",
       "      <th>2</th>\n",
       "      <td>int main()\\n\\tint n,s[1001],cnt=0;\\n\\tscanf(\"%...</td>\n",
       "    </tr>\n",
       "    <tr>\n",
       "      <th>3</th>\n",
       "      <td>int main() {\\n\\tcin &gt;&gt; n;\\n\\tfor (int i = 0; i...</td>\n",
       "    </tr>\n",
       "    <tr>\n",
       "      <th>4</th>\n",
       "      <td>int main()\\n      char a, b, c, d, kozir;\\n ...</td>\n",
       "    </tr>\n",
       "  </tbody>\n",
       "</table>\n",
       "</div>"
      ],
      "text/plain": [
       "                                                text\n",
       "0  point operator-(point p1,point p2)\\n  p1.x-=p2...\n",
       "1  int main() {\\n    map<char, int> m;\\n    m['6'...\n",
       "2  int main()\\n\\tint n,s[1001],cnt=0;\\n\\tscanf(\"%...\n",
       "3  int main() {\\n\\tcin >> n;\\n\\tfor (int i = 0; i...\n",
       "4    int main()\\n      char a, b, c, d, kozir;\\n ..."
      ]
     },
     "execution_count": 85,
     "metadata": {},
     "output_type": "execute_result"
    }
   ],
   "source": [
    "test_df = pd.read_csv(\"./cpp_programs.csv\", index_col=0)\n",
    "test_df.head()"
   ]
  },
  {
   "cell_type": "code",
   "execution_count": null,
   "metadata": {},
   "outputs": [],
   "source": []
  }
 ],
 "metadata": {
  "kernelspec": {
   "display_name": "d_env",
   "language": "python",
   "name": "python3"
  },
  "language_info": {
   "codemirror_mode": {
    "name": "ipython",
    "version": 3
   },
   "file_extension": ".py",
   "mimetype": "text/x-python",
   "name": "python",
   "nbconvert_exporter": "python",
   "pygments_lexer": "ipython3",
   "version": "3.10.11"
  }
 },
 "nbformat": 4,
 "nbformat_minor": 2
}

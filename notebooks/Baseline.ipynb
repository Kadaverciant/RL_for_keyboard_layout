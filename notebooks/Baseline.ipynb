{
 "cells": [
  {
   "cell_type": "markdown",
   "metadata": {},
   "source": [
    "# Main generator\n"
   ]
  },
  {
   "cell_type": "code",
   "execution_count": 1,
   "metadata": {},
   "outputs": [],
   "source": [
    "import random\n",
    "from ast import literal_eval\n",
    "from copy import deepcopy\n",
    "from typing import Literal, Optional\n",
    "\n",
    "import matplotlib.pyplot as plt\n",
    "import numpy as np\n",
    "import pandas as pd\n",
    "import torch\n",
    "from tqdm import tqdm"
   ]
  },
  {
   "cell_type": "code",
   "execution_count": 2,
   "metadata": {},
   "outputs": [],
   "source": [
    "QWERTY_LOW_LAYOUT: list[list[str]] = [\n",
    "    [\"`\", \"1\", \"2\", \"3\", \"4\", \"5\", \"6\", \"7\", \"8\", \"9\", \"0\", \"-\", \"=\", \"<back>\"],\n",
    "    [\"<tab>\", \"q\", \"w\", \"e\", \"r\", \"t\", \"y\", \"u\", \"i\", \"o\", \"p\", \"[\", \"]\", \"\\\\\"],\n",
    "    [\n",
    "        \"<caps>\",\n",
    "        \"a\",\n",
    "        \"s\",\n",
    "        \"d\",\n",
    "        \"f\",\n",
    "        \"g\",\n",
    "        \"h\",\n",
    "        \"j\",\n",
    "        \"k\",\n",
    "        \"l\",\n",
    "        \";\",\n",
    "        \"'\",\n",
    "        \"<enter>\",\n",
    "        \"<enter>\",\n",
    "    ],\n",
    "    [\n",
    "        \"<shift>\",\n",
    "        \"<shift>\",\n",
    "        \"z\",\n",
    "        \"x\",\n",
    "        \"c\",\n",
    "        \"v\",\n",
    "        \"b\",\n",
    "        \"n\",\n",
    "        \"m\",\n",
    "        \",\",\n",
    "        \".\",\n",
    "        \"/\",\n",
    "        \"<shift>\",\n",
    "        \"<shift>\",\n",
    "    ],\n",
    "    [\n",
    "        \"<ctrl>\",\n",
    "        \"<alt>\",\n",
    "        \"<space>\",\n",
    "        \"<space>\",\n",
    "        \"<space>\",\n",
    "        \"<space>\",\n",
    "        \"<space>\",\n",
    "        \"<space>\",\n",
    "        \"<space>\",\n",
    "        \"<alt>\",\n",
    "        \"<ctrl>\",\n",
    "    ],\n",
    "]\n",
    "\n",
    "QWERTY_HIGH_LAYOUT: list[list[str]] = [\n",
    "    [\"~\", \"!\", \"@\", \"#\", \"$\", \"%\", \"^\", \"&\", \"*\", \"(\", \")\", \"_\", \"+\", \"<back>\"],\n",
    "    [\"<tab>\", \"Q\", \"W\", \"E\", \"R\", \"T\", \"Y\", \"U\", \"I\", \"O\", \"P\", \"{\", \"}\", \"|\"],\n",
    "    [\n",
    "        \"<caps>\",\n",
    "        \"A\",\n",
    "        \"S\",\n",
    "        \"D\",\n",
    "        \"F\",\n",
    "        \"G\",\n",
    "        \"H\",\n",
    "        \"J\",\n",
    "        \"K\",\n",
    "        \"L\",\n",
    "        \":\",\n",
    "        '\"',\n",
    "        \"<enter>\",\n",
    "        \"<enter>\",\n",
    "    ],\n",
    "    [\n",
    "        \"<shift>\",\n",
    "        \"<shift>\",\n",
    "        \"Z\",\n",
    "        \"X\",\n",
    "        \"C\",\n",
    "        \"V\",\n",
    "        \"B\",\n",
    "        \"N\",\n",
    "        \"M\",\n",
    "        \"<\",\n",
    "        \">\",\n",
    "        \"?\",\n",
    "        \"<shift>\",\n",
    "        \"<shift>\",\n",
    "    ],\n",
    "    [\n",
    "        \"<ctrl>\",\n",
    "        \"<alt>\",\n",
    "        \"<space>\",\n",
    "        \"<space>\",\n",
    "        \"<space>\",\n",
    "        \"<space>\",\n",
    "        \"<space>\",\n",
    "        \"<space>\",\n",
    "        \"<space>\",\n",
    "        \"<alt>\",\n",
    "        \"<ctrl>\",\n",
    "    ],\n",
    "]"
   ]
  },
  {
   "cell_type": "code",
   "execution_count": 3,
   "metadata": {},
   "outputs": [
    {
     "data": {
      "text/plain": [
       "(5, 14, 14, 14, 14, 11)"
      ]
     },
     "execution_count": 3,
     "metadata": {},
     "output_type": "execute_result"
    }
   ],
   "source": [
    "(\n",
    "    len(QWERTY_HIGH_LAYOUT),\n",
    "    len(QWERTY_HIGH_LAYOUT[0]),\n",
    "    len(QWERTY_HIGH_LAYOUT[1]),\n",
    "    len(QWERTY_HIGH_LAYOUT[2]),\n",
    "    len(QWERTY_HIGH_LAYOUT[3]),\n",
    "    len(QWERTY_HIGH_LAYOUT[4]),\n",
    ")"
   ]
  },
  {
   "cell_type": "code",
   "execution_count": 4,
   "metadata": {},
   "outputs": [],
   "source": [
    "def get_buttons_set(\n",
    "    low_layout: list[list[str]], high_layout: list[list[str]]\n",
    ") -> set[str]:\n",
    "    buttons: set[str] = set()\n",
    "\n",
    "    for layout in [low_layout, high_layout]:\n",
    "        for i in range(len(layout)):\n",
    "            for btn in layout[i]:\n",
    "                buttons.add(btn)\n",
    "\n",
    "    return buttons\n",
    "\n",
    "\n",
    "def get_keyboard_shape(layout: list[list[str]]) -> tuple[int, ...]:\n",
    "    shape = [len(row) for row in layout]\n",
    "\n",
    "    return tuple(shape)\n",
    "\n",
    "\n",
    "BUTTONS_SET = get_buttons_set(QWERTY_LOW_LAYOUT, QWERTY_HIGH_LAYOUT)\n",
    "KEYBOARD_LAYOUT_SHAPE = get_keyboard_shape(QWERTY_LOW_LAYOUT)\n",
    "KEYBOARD_LAYOUT_CUMSUM_SHAPE = np.cumsum(KEYBOARD_LAYOUT_SHAPE)\n",
    "KEYS = sum(KEYBOARD_LAYOUT_SHAPE) * 2"
   ]
  },
  {
   "cell_type": "code",
   "execution_count": 5,
   "metadata": {},
   "outputs": [],
   "source": [
    "def get_encode_dicts() -> tuple[dict[tuple[int, int], int], dict[int, tuple[int, int]]]:\n",
    "    pair_to_id = {}\n",
    "    id_to_pair = {}\n",
    "    counter = 0\n",
    "    for i in range(134):\n",
    "        for j in range(i + 1, 134):\n",
    "            pair_to_id[(i, j)] = counter\n",
    "            id_to_pair[counter] = (i, j)\n",
    "            counter += 1\n",
    "    return pair_to_id, id_to_pair\n",
    "\n",
    "\n",
    "PAIR_TO_ID, ID_TO_PAIR = get_encode_dicts()\n",
    "ACTION_SPACE_SIZE = len(PAIR_TO_ID)"
   ]
  },
  {
   "cell_type": "code",
   "execution_count": 6,
   "metadata": {},
   "outputs": [],
   "source": [
    "def convert_int_to_cord(n: int) -> tuple[int, int, int]:\n",
    "    shift = 0\n",
    "    row = 0\n",
    "    column = 0\n",
    "    if n >= KEYS:\n",
    "        return 2, 0, 0\n",
    "    if n < 0:\n",
    "        return 2, 0, 0\n",
    "    if n >= KEYS // 2:\n",
    "        n -= KEYS // 2\n",
    "        shift = 1\n",
    "    for i in range(len(KEYBOARD_LAYOUT_CUMSUM_SHAPE)):\n",
    "        if n < KEYBOARD_LAYOUT_CUMSUM_SHAPE[i]:\n",
    "            row = i\n",
    "            break\n",
    "    if row > 0:\n",
    "        n -= KEYBOARD_LAYOUT_CUMSUM_SHAPE[row - 1]\n",
    "    column = n\n",
    "    return shift, row, column"
   ]
  },
  {
   "cell_type": "code",
   "execution_count": 7,
   "metadata": {},
   "outputs": [
    {
     "data": {
      "text/plain": [
       "(14, 14, 14, 14, 11)"
      ]
     },
     "execution_count": 7,
     "metadata": {},
     "output_type": "execute_result"
    }
   ],
   "source": [
    "KEYBOARD_LAYOUT_SHAPE"
   ]
  },
  {
   "cell_type": "code",
   "execution_count": 8,
   "metadata": {},
   "outputs": [],
   "source": [
    "def encode_decode_buttons(buttons: set[str]) -> tuple[dict[str, int], dict[int, str]]:\n",
    "    letters_dict = {}\n",
    "    for idx, letter in enumerate(\"abcdefghijklmnopqrstuvwxyz\"):\n",
    "        letters_dict[letter] = idx + 1\n",
    "\n",
    "    offset = len(letters_dict)\n",
    "    for idx, letter in enumerate(\"abcdefghijklmnopqrstuvwxyz\".upper()):\n",
    "        letters_dict[letter] = offset + idx + 1\n",
    "\n",
    "    encode_value = len(letters_dict) + 1\n",
    "    encode_dict = {}\n",
    "    decode_dict = {}\n",
    "    for btn in sorted(buttons):\n",
    "        if btn in letters_dict:\n",
    "            decode_dict[letters_dict[btn]] = btn\n",
    "            encode_dict[btn] = letters_dict[btn]\n",
    "        else:\n",
    "            decode_dict[encode_value] = btn\n",
    "            encode_dict[btn] = encode_value\n",
    "            encode_value += 1\n",
    "    return encode_dict, decode_dict\n",
    "\n",
    "\n",
    "ENCODE_DICT, DECODE_DICT = encode_decode_buttons(BUTTONS_SET)\n",
    "ENCODED_BUTTONS_SET = {ENCODE_DICT[btn] for btn in BUTTONS_SET}\n",
    "SHIFT_CODE = ENCODE_DICT[\"<shift>\"]"
   ]
  },
  {
   "cell_type": "code",
   "execution_count": 9,
   "metadata": {},
   "outputs": [],
   "source": [
    "for btn in BUTTONS_SET:\n",
    "    assert btn == DECODE_DICT[ENCODE_DICT[btn]]"
   ]
  },
  {
   "cell_type": "code",
   "execution_count": 10,
   "metadata": {},
   "outputs": [],
   "source": [
    "Layout = list[list[int]]\n",
    "\n",
    "\n",
    "def encode_layout(layout: list[list[str]]) -> Layout:\n",
    "    return [[ENCODE_DICT[btn] for btn in layout[i]] for i in range(len(layout))]\n",
    "\n",
    "\n",
    "def decode_layout(layout: Layout) -> list[list[str]]:\n",
    "    return [[DECODE_DICT[btn] for btn in layout[i]] for i in range(len(layout))]\n",
    "\n",
    "\n",
    "QWERTY_ENCODED_HIGH: Layout = encode_layout(QWERTY_HIGH_LAYOUT)\n",
    "QWERTY_ENCODED_LOW: Layout = encode_layout(QWERTY_LOW_LAYOUT)"
   ]
  },
  {
   "cell_type": "code",
   "execution_count": 11,
   "metadata": {},
   "outputs": [],
   "source": [
    "def get_all_buttons_encoded(high_layout: Layout, low_layout: Layout) -> list[int]:\n",
    "    all_buttons = []\n",
    "\n",
    "    for layout in (low_layout, high_layout):\n",
    "        for row in layout:\n",
    "            all_buttons.extend(row)\n",
    "    return all_buttons\n",
    "\n",
    "\n",
    "ALL_BUTTONS_ENCODED = get_all_buttons_encoded(QWERTY_ENCODED_HIGH, QWERTY_ENCODED_LOW)"
   ]
  },
  {
   "cell_type": "code",
   "execution_count": 12,
   "metadata": {},
   "outputs": [],
   "source": [
    "LogType = Literal[\"basic\"] | Literal[\"debug\"] | Literal[\"error\"]\n",
    "\n",
    "\n",
    "class Logger:\n",
    "    def __init__(self, verbose: bool = True, hide_types: list[LogType] = []) -> None:\n",
    "        self.verbose = verbose\n",
    "        self.hide_types = set(hide_types)\n",
    "\n",
    "    def log(self, message: str, log_type: LogType = \"basic\") -> None:\n",
    "        if self.verbose and log_type not in self.hide_types:\n",
    "            print(message)\n",
    "\n",
    "\n",
    "LOGGER = Logger()"
   ]
  },
  {
   "cell_type": "code",
   "execution_count": 13,
   "metadata": {},
   "outputs": [],
   "source": [
    "Position = tuple[int, int]\n",
    "\n",
    "\n",
    "class Finger:\n",
    "    def __init__(\n",
    "        self, initial_position: Position, name: str, logger: Logger = LOGGER\n",
    "    ) -> None:\n",
    "        self.name = name\n",
    "        self.initial_position = initial_position\n",
    "\n",
    "        self.logger = logger\n",
    "\n",
    "        self.reset()\n",
    "\n",
    "        # Constants\n",
    "\n",
    "        self.wait_before_return = 4  # in ticks\n",
    "\n",
    "        self.long_row_move_shift = 3\n",
    "        self.long_row_move_penalty = 1\n",
    "\n",
    "        self.row_penalty_coefficient = 1\n",
    "        self.column_penalty_coefficient = 1.2\n",
    "\n",
    "    def reset(self):\n",
    "        self.current_position = self.initial_position\n",
    "        self.ticks_before_return = 0  # if == 0, returns to the initial position\n",
    "        self.typed_keys = 0\n",
    "\n",
    "    def move(self, position: Position):\n",
    "        self.current_position = position\n",
    "\n",
    "        self.ticks_before_return = self.wait_before_return\n",
    "        self.typed_keys += 1\n",
    "\n",
    "    def tick(self) -> float:\n",
    "        if self.ticks_before_return > 0:\n",
    "            self.ticks_before_return -= 1\n",
    "\n",
    "        if self.ticks_before_return == 0:\n",
    "            score = self.get_score(self.initial_position)\n",
    "            self.current_position = self.initial_position\n",
    "            return score\n",
    "\n",
    "        return 0\n",
    "\n",
    "    def get_score(self, target_position: Position) -> float:\n",
    "        x1, y1 = self.current_position\n",
    "        x2, y2 = target_position\n",
    "\n",
    "        row_distance = abs(x1 - x2) ** 2\n",
    "        column_distance = abs(y1 - y2) ** 2\n",
    "\n",
    "        penalty = 0\n",
    "        if row_distance > self.long_row_move_shift:\n",
    "            penalty = self.long_row_move_penalty\n",
    "        return (\n",
    "            row_distance * self.row_penalty_coefficient\n",
    "            + column_distance * self.column_penalty_coefficient\n",
    "            + penalty\n",
    "        )\n",
    "\n",
    "    def show_statistics(self):\n",
    "        self.logger.log(\n",
    "            f\"Name: {self.name:22} \\\n",
    "            Typed keys: {self.typed_keys:5} \\\n",
    "            Ticks before return: {self.ticks_before_return:5} \\\n",
    "            Current position: {self.current_position}\\t\\\n",
    "            Default position: {self.initial_position}\"\n",
    "        )"
   ]
  },
  {
   "cell_type": "code",
   "execution_count": 14,
   "metadata": {},
   "outputs": [],
   "source": [
    "DEFAULT_FINGERS: list[Finger] = [\n",
    "    Finger((2, 1), \"левый мизинец\"),\n",
    "    Finger((2, 2), \"левый безымянный\"),\n",
    "    Finger((2, 3), \"левый средний\"),\n",
    "    Finger((2, 4), \"левый указательный\"),\n",
    "    Finger((4, 3), \"левый большой\"),\n",
    "    Finger((4, 6), \"правый большой\"),\n",
    "    Finger((2, 7), \"правый указательный\"),\n",
    "    Finger((2, 8), \"правый средний\"),\n",
    "    Finger((2, 9), \"правый безымянный\"),\n",
    "    Finger((2, 10), \"правый мизинец\"),\n",
    "]\n",
    "\n",
    "SwapType = Literal[\"low_layout\"] | Literal[\"high_layout\"] | Literal[\"between_layouts\"]\n",
    "\n",
    "\n",
    "class KeyboardLayout:\n",
    "    @staticmethod\n",
    "    def layout_to_dict(\n",
    "        layout: Layout, unused_layout: Layout\n",
    "    ) -> dict[int, list[Position]]:\n",
    "        layout_dict: dict[int, list[Position]] = {}\n",
    "\n",
    "        for i in range(len(layout)):\n",
    "            for j in range(len(layout[i])):\n",
    "                button = layout[i][j]\n",
    "                if button in layout_dict:\n",
    "                    layout_dict[button].append((i, j))\n",
    "                else:\n",
    "                    layout_dict[button] = [(i, j)]\n",
    "\n",
    "        for i in range(len(unused_layout)):\n",
    "            for j in range(len(unused_layout[i])):\n",
    "                button = unused_layout[i][j]\n",
    "                if button not in layout_dict:\n",
    "                    layout_dict[button] = []\n",
    "\n",
    "        return layout_dict\n",
    "\n",
    "    def _finish_move(self):\n",
    "        for finger in self.fingers:\n",
    "            self.total_score += finger.tick()\n",
    "\n",
    "    def __init__(self, low_layout: Layout, high_layout: Layout, logger: Logger = LOGGER):\n",
    "        self.low_layout = deepcopy(low_layout)\n",
    "        self.high_layout = deepcopy(high_layout)\n",
    "\n",
    "        self.low_layout_dict = KeyboardLayout.layout_to_dict(\n",
    "            self.low_layout, self.high_layout\n",
    "        )\n",
    "        self.high_layout_dict = KeyboardLayout.layout_to_dict(\n",
    "            self.high_layout, self.low_layout\n",
    "        )\n",
    "\n",
    "        self.logger = logger\n",
    "\n",
    "        self.fingers = deepcopy(DEFAULT_FINGERS)\n",
    "\n",
    "        self.reset()\n",
    "\n",
    "    def reset(self):\n",
    "        self.total_score: float = 0\n",
    "        self.typed_keys: int = 0\n",
    "        for f in self.fingers:\n",
    "            f.reset()\n",
    "\n",
    "    def move_one_finger(\n",
    "        self, positions: list[Position], busy_finger_id: Optional[int] = None\n",
    "    ) -> tuple[tuple[int, Position], float]:\n",
    "        best_finger_id: int = 0\n",
    "        best_score = np.inf\n",
    "\n",
    "        final_position: Position = (0, 0)\n",
    "\n",
    "        for position in positions:\n",
    "            scores = [\n",
    "                finger.get_score(position) if i != busy_finger_id else np.inf\n",
    "                for i, finger in enumerate(self.fingers)\n",
    "            ]\n",
    "\n",
    "            candidate_finger_id = int(np.argmin(scores))\n",
    "            candidate_score = scores[candidate_finger_id]\n",
    "\n",
    "            if candidate_score < best_score:\n",
    "                best_score = candidate_score\n",
    "                best_finger_id = candidate_finger_id\n",
    "                final_position = position\n",
    "\n",
    "        return (best_finger_id, final_position), best_score\n",
    "\n",
    "    def move_two_fingers(\n",
    "        self, positions: list[Position]\n",
    "    ) -> tuple[tuple[int, Position], tuple[int, Position], float]:\n",
    "        shift_positions = self.low_layout_dict[SHIFT_CODE]\n",
    "        if len(shift_positions) == 0:\n",
    "            print(\"ERROR SHIFT IS UNREACHABLE\")\n",
    "            return (0, (0, 0)), (0, (0, 0)), 9999\n",
    "\n",
    "        # firstly reach SHIFT, then - positions\n",
    "        finger_shift_info_1, shift_distance_1 = self.move_one_finger(shift_positions)\n",
    "        finger_btn_info_1, d1_btn = self.move_one_finger(\n",
    "            positions, finger_shift_info_1[0]\n",
    "        )\n",
    "        total_distance_1 = shift_distance_1 + d1_btn\n",
    "\n",
    "        # firstly reach positions, then - SHIFT\n",
    "        finger_btn_info_2, d1_btn = self.move_one_finger(positions)\n",
    "        finger_shift_info_2, shift_distance_2 = self.move_one_finger(\n",
    "            shift_positions, finger_btn_info_2[0]\n",
    "        )\n",
    "        total_distance_2 = shift_distance_2 + d1_btn\n",
    "\n",
    "        if total_distance_1 < total_distance_2:\n",
    "            return finger_btn_info_1, finger_shift_info_1, total_distance_1\n",
    "\n",
    "        return finger_btn_info_2, finger_shift_info_2, total_distance_2\n",
    "\n",
    "    def find_button(self, button: int):\n",
    "        if button in self.low_layout_dict and len(self.low_layout_dict[button]) > 0:\n",
    "            (finger_id, finger_position), score = self.move_one_finger(\n",
    "                self.low_layout_dict[button]\n",
    "            )\n",
    "\n",
    "            self.fingers[finger_id].move(finger_position)\n",
    "            self.total_score += score\n",
    "            self.typed_keys += 1\n",
    "\n",
    "            self.logger.log(f\"{button}:\\t{self.fingers[finger_id].name}\")\n",
    "\n",
    "        elif button in self.high_layout_dict and len(self.high_layout_dict[button]) > 0:\n",
    "            (\n",
    "                (finger_id_1, finger_position_1),\n",
    "                (finger_id_2, finger_position_2),\n",
    "                score,\n",
    "            ) = self.move_two_fingers(self.high_layout_dict[button])\n",
    "\n",
    "            self.fingers[finger_id_1].move(finger_position_1)\n",
    "            self.fingers[finger_id_2].move(finger_position_2)\n",
    "            self.total_score += score\n",
    "            self.typed_keys += 2\n",
    "\n",
    "            self.logger.log(\n",
    "                f\"{button}:\\t{self.fingers[finger_id_1].name} + {self.fingers[finger_id_2].name}\"\n",
    "            )\n",
    "\n",
    "        else:\n",
    "            self.logger.log(f\"NO SUCH KEY: {button}\")\n",
    "\n",
    "        self._finish_move()\n",
    "\n",
    "    def type_text(self, text: list[str]) -> float:\n",
    "        for button in text:\n",
    "            self.find_button(ENCODE_DICT[button])\n",
    "        return self.total_score\n",
    "\n",
    "    def type_encoded_text(self, encoded_text: list[int]) -> float:\n",
    "        for button in encoded_text:\n",
    "            self.find_button(button)\n",
    "        return self.total_score\n",
    "\n",
    "    def swap_buttons(self, position1: Position, position2: Position, swap_type: SwapType):\n",
    "        if swap_type == \"high_layout\":\n",
    "            layout_from = layout_to = self.high_layout\n",
    "            layout_from_dict = layout_to_dict = self.high_layout_dict\n",
    "        elif swap_type == \"low_layout\":\n",
    "            layout_from = layout_to = self.low_layout\n",
    "            layout_from_dict = layout_to_dict = self.low_layout_dict\n",
    "        else:  # swap_type == \"between_layouts\"\n",
    "            layout_from = self.low_layout\n",
    "            layout_to = self.high_layout\n",
    "            layout_from_dict = self.low_layout_dict\n",
    "            layout_to_dict = self.high_layout_dict\n",
    "\n",
    "        x1, y1 = position1\n",
    "        btn1 = layout_from[x1][y1]\n",
    "        x2, y2 = position2\n",
    "        btn2 = layout_to[x2][y2]\n",
    "\n",
    "        layout_from[x1][y1], layout_to[x2][y2] = layout_to[x2][y2], layout_from[x1][y1]\n",
    "\n",
    "        layout_from_dict[btn1].remove(position1)\n",
    "        layout_to_dict[btn2].remove(position2)\n",
    "\n",
    "        layout_from_dict[btn2].append(position1)\n",
    "        layout_to_dict[btn1].append(position2)\n",
    "\n",
    "    def decode_layouts(self) -> tuple[list[list[str]], list[list[str]]]:\n",
    "        return (decode_layout(self.low_layout), decode_layout(self.high_layout))\n",
    "\n",
    "    def get_string_layouts(self) -> str:\n",
    "        low_layout, high_layout = self.decode_layouts()\n",
    "        result_string = \"High layout:\\n\"\n",
    "        for row in high_layout:\n",
    "            for s in row:\n",
    "                result_string += f\"{s:8}\"\n",
    "            result_string += \"\\n\"\n",
    "        result_string += \"\\n\"\n",
    "\n",
    "        result_string += \"\\nLow layout:\\n\"\n",
    "        for row in low_layout:\n",
    "            for s in row:\n",
    "                result_string += f\"{s:8}\"\n",
    "            result_string += \"\\n\"\n",
    "        result_string += \"\\n\"\n",
    "\n",
    "        return result_string\n",
    "\n",
    "    def show_statistics(self):\n",
    "        self.logger.log(\"\\nStatistics:\")\n",
    "        for f in self.fingers:\n",
    "            f.show_statistics()\n",
    "\n",
    "    def flatten(self):\n",
    "        flatten = []\n",
    "        for row in self.low_layout:\n",
    "            flatten.extend(row)\n",
    "        for row in self.high_layout:\n",
    "            flatten.extend(row)\n",
    "\n",
    "        flatten = [x / len(BUTTONS_SET) for x in flatten]\n",
    "        return torch.as_tensor(flatten, dtype=torch.float32)\n",
    "\n",
    "    def get_average_score(self) -> float:\n",
    "        return self.total_score / self.typed_keys"
   ]
  },
  {
   "cell_type": "code",
   "execution_count": 15,
   "metadata": {},
   "outputs": [
    {
     "data": {
      "text/plain": [
       "([[80, 101, 86, 35, 85, 86, 95, 18, 81, 88, 66, 5, 90, 86],\n",
       "  [26, 102, 46, 58, 37, 79, 15, 2, 60, 61, 14, 25, 84, 87],\n",
       "  [12, 85, 76, 45, 93, 28, 53, 71, 82, 34, 41, 86, 98, 73],\n",
       "  [85, 84, 94, 86, 100, 87, 42, 9, 32, 81, 87, 78, 31, 84],\n",
       "  [84, 10, 67, 43, 70, 11, 62, 75, 89, 87, 13]],\n",
       " [[40, 8, 39, 87, 87, 96, 87, 33, 82, 83, 97, 55, 91, 48],\n",
       "  [64, 56, 47, 65, 87, 87, 68, 87, 63, 23, 52, 99, 59, 6],\n",
       "  [69, 16, 57, 54, 22, 87, 81, 86, 72, 1, 49, 86, 44, 36],\n",
       "  [51, 87, 92, 3, 19, 24, 30, 4, 27, 86, 29, 38, 74, 87],\n",
       "  [83, 20, 17, 77, 7, 81, 50, 85, 88, 21, 87]])"
      ]
     },
     "execution_count": 15,
     "metadata": {},
     "output_type": "execute_result"
    }
   ],
   "source": [
    "def generate_random_layout(\n",
    "    all_buttons_encoded: list[int],\n",
    "    keyboard_shape: tuple[int, ...],\n",
    "    seed: Optional[int] = None,\n",
    ") -> tuple[Layout, Layout]:\n",
    "    if seed is not None:\n",
    "        random.seed(seed)\n",
    "\n",
    "    all_buttons = all_buttons_encoded.copy()\n",
    "\n",
    "    low_layout = [[0 for _ in range(row_length)] for row_length in keyboard_shape]\n",
    "    high_layout = [[0 for _ in range(row_length)] for row_length in keyboard_shape]\n",
    "\n",
    "    # Push single SHIFT to the low layout\n",
    "    all_buttons.remove(SHIFT_CODE)\n",
    "    random.shuffle(all_buttons)\n",
    "\n",
    "    shift_position_low_layout = random.randint(0, len(all_buttons_encoded) // 2)\n",
    "    all_buttons.insert(shift_position_low_layout, SHIFT_CODE)\n",
    "    pointer = 0\n",
    "    for layout in (low_layout, high_layout):\n",
    "        for i, row_length in enumerate(keyboard_shape):\n",
    "            for j in range(row_length):\n",
    "                layout[i][j] = all_buttons[pointer]\n",
    "                pointer += 1\n",
    "\n",
    "    return low_layout, high_layout\n",
    "\n",
    "\n",
    "sample_low_layout, sample_high_layout = generate_random_layout(\n",
    "    ALL_BUTTONS_ENCODED, KEYBOARD_LAYOUT_SHAPE\n",
    ")\n",
    "sample_low_layout, sample_high_layout"
   ]
  },
  {
   "cell_type": "markdown",
   "metadata": {},
   "source": [
    "### Test Keyboard"
   ]
  },
  {
   "cell_type": "code",
   "execution_count": 16,
   "metadata": {},
   "outputs": [
    {
     "name": "stdout",
     "output_type": "stream",
     "text": [
      "High layout:\n",
      "~       !       @       #       $       %       ^       &       *       (       )       _       +       <back>  \n",
      "<tab>   Q       W       E       R       T       Y       U       I       O       P       {       }       |       \n",
      "<caps>  A       S       D       F       G       H       J       K       L       :       \"       <enter> <enter> \n",
      "<shift> <shift> Z       X       C       V       B       N       M       <       >       ?       <shift> <shift> \n",
      "<ctrl>  <alt>   <space> <space> <space> <space> <space> <space> <space> <alt>   <ctrl>  \n",
      "\n",
      "\n",
      "Low layout:\n",
      "`       1       2       3       4       5       6       7       8       9       0       -       =       <back>  \n",
      "<tab>   q       w       e       r       t       y       u       i       o       p       [       ]       \\       \n",
      "<caps>  a       s       d       f       g       h       j       k       l       ;       '       <enter> <enter> \n",
      "<shift> <shift> z       x       c       v       b       n       m       ,       .       /       <shift> <shift> \n",
      "<ctrl>  <alt>   <space> <space> <space> <space> <space> <space> <space> <alt>   <ctrl>  \n",
      "\n",
      "\n"
     ]
    }
   ],
   "source": [
    "qwerty_keyboard = KeyboardLayout(QWERTY_ENCODED_LOW, QWERTY_ENCODED_HIGH, LOGGER)\n",
    "print(qwerty_keyboard.get_string_layouts())"
   ]
  },
  {
   "cell_type": "code",
   "execution_count": 17,
   "metadata": {},
   "outputs": [
    {
     "name": "stdout",
     "output_type": "stream",
     "text": [
      "[(2, 2)]\n",
      "[(0, 2)]\n",
      "[(2, 2)]\n",
      "[(0, 2)]\n"
     ]
    }
   ],
   "source": [
    "print(qwerty_keyboard.low_layout_dict[ENCODE_DICT[\"s\"]])\n",
    "print(qwerty_keyboard.low_layout_dict[ENCODE_DICT[\"2\"]])\n",
    "print(qwerty_keyboard.high_layout_dict[ENCODE_DICT[\"S\"]])\n",
    "print(qwerty_keyboard.high_layout_dict[ENCODE_DICT[\"@\"]])"
   ]
  },
  {
   "cell_type": "code",
   "execution_count": 18,
   "metadata": {},
   "outputs": [
    {
     "name": "stdout",
     "output_type": "stream",
     "text": [
      "[(0, 2)]\n",
      "[(2, 2)]\n",
      "[(0, 2)]\n",
      "[(2, 2)]\n"
     ]
    }
   ],
   "source": [
    "qwerty_keyboard.swap_buttons((2, 2), (0, 2), \"low_layout\")\n",
    "qwerty_keyboard.swap_buttons((2, 2), (0, 2), \"high_layout\")\n",
    "\n",
    "print(qwerty_keyboard.low_layout_dict[ENCODE_DICT[\"s\"]])\n",
    "print(qwerty_keyboard.low_layout_dict[ENCODE_DICT[\"2\"]])\n",
    "print(qwerty_keyboard.high_layout_dict[ENCODE_DICT[\"S\"]])\n",
    "print(qwerty_keyboard.high_layout_dict[ENCODE_DICT[\"@\"]])"
   ]
  },
  {
   "cell_type": "code",
   "execution_count": 19,
   "metadata": {},
   "outputs": [
    {
     "name": "stdout",
     "output_type": "stream",
     "text": [
      "73\n",
      "51\n"
     ]
    }
   ],
   "source": [
    "print(qwerty_keyboard.low_layout[0][5])\n",
    "print(qwerty_keyboard.high_layout[1][6])"
   ]
  },
  {
   "cell_type": "code",
   "execution_count": 20,
   "metadata": {},
   "outputs": [
    {
     "name": "stdout",
     "output_type": "stream",
     "text": [
      "51\n",
      "73\n"
     ]
    }
   ],
   "source": [
    "qwerty_keyboard.swap_buttons((0, 5), (1, 6), \"between_layouts\")\n",
    "print(qwerty_keyboard.low_layout[0][5])\n",
    "print(qwerty_keyboard.high_layout[1][6])"
   ]
  },
  {
   "cell_type": "code",
   "execution_count": 21,
   "metadata": {},
   "outputs": [
    {
     "name": "stdout",
     "output_type": "stream",
     "text": [
      "\n",
      "Statistics:\n",
      "Name: левый мизинец                      Typed keys:     0             Ticks before return:     0             Current position: (2, 1)\t            Default position: (2, 1)\n",
      "Name: левый безымянный                   Typed keys:     0             Ticks before return:     0             Current position: (2, 2)\t            Default position: (2, 2)\n",
      "Name: левый средний                      Typed keys:     0             Ticks before return:     0             Current position: (2, 3)\t            Default position: (2, 3)\n",
      "Name: левый указательный                 Typed keys:     0             Ticks before return:     0             Current position: (2, 4)\t            Default position: (2, 4)\n",
      "Name: левый большой                      Typed keys:     0             Ticks before return:     0             Current position: (4, 3)\t            Default position: (4, 3)\n",
      "Name: правый большой                     Typed keys:     0             Ticks before return:     0             Current position: (4, 6)\t            Default position: (4, 6)\n",
      "Name: правый указательный                Typed keys:     0             Ticks before return:     0             Current position: (2, 7)\t            Default position: (2, 7)\n",
      "Name: правый средний                     Typed keys:     0             Ticks before return:     0             Current position: (2, 8)\t            Default position: (2, 8)\n",
      "Name: правый безымянный                  Typed keys:     0             Ticks before return:     0             Current position: (2, 9)\t            Default position: (2, 9)\n",
      "Name: правый мизинец                     Typed keys:     0             Ticks before return:     0             Current position: (2, 10)\t            Default position: (2, 10)\n"
     ]
    }
   ],
   "source": [
    "qwerty_keyboard.show_statistics()"
   ]
  },
  {
   "cell_type": "code",
   "execution_count": 22,
   "metadata": {},
   "outputs": [
    {
     "name": "stdout",
     "output_type": "stream",
     "text": [
      "42:\tправый мизинец + левый мизинец\n",
      "18:\tлевый указательный\n",
      "15:\tправый безымянный\n",
      "3:\tлевый средний\n",
      "18:\tлевый указательный\n",
      "1:\tлевый мизинец\n",
      "19:\tлевый безымянный\n",
      "20:\tлевый указательный\n",
      "9:\tправый средний\n",
      "14:\tправый указательный\n",
      "1:\tлевый мизинец\n",
      "20:\tлевый указательный\n",
      "9:\tправый средний\n",
      "15:\tправый безымянный\n",
      "14:\tправый указательный\n",
      "53:\tлевый мизинец + левый безымянный\n"
     ]
    },
    {
     "data": {
      "text/plain": [
       "44.400000000000006"
      ]
     },
     "execution_count": 22,
     "metadata": {},
     "output_type": "execute_result"
    }
   ],
   "source": [
    "qwerty_keyboard.type_text(list(\"Procrastination!\"))"
   ]
  },
  {
   "cell_type": "code",
   "execution_count": 23,
   "metadata": {},
   "outputs": [
    {
     "name": "stdout",
     "output_type": "stream",
     "text": [
      "\n",
      "Statistics:\n",
      "Name: левый мизинец                      Typed keys:     4             Ticks before return:     3             Current position: (0, 1)\t            Default position: (2, 1)\n",
      "Name: левый безымянный                   Typed keys:     2             Ticks before return:     3             Current position: (3, 1)\t            Default position: (2, 2)\n",
      "Name: левый средний                      Typed keys:     1             Ticks before return:     0             Current position: (2, 3)\t            Default position: (2, 3)\n",
      "Name: левый указательный                 Typed keys:     4             Ticks before return:     0             Current position: (2, 4)\t            Default position: (2, 4)\n",
      "Name: левый большой                      Typed keys:     0             Ticks before return:     0             Current position: (4, 3)\t            Default position: (4, 3)\n",
      "Name: правый большой                     Typed keys:     0             Ticks before return:     0             Current position: (4, 6)\t            Default position: (4, 6)\n",
      "Name: правый указательный                Typed keys:     2             Ticks before return:     2             Current position: (3, 7)\t            Default position: (2, 7)\n",
      "Name: правый средний                     Typed keys:     2             Ticks before return:     0             Current position: (2, 8)\t            Default position: (2, 8)\n",
      "Name: правый безымянный                  Typed keys:     2             Ticks before return:     1             Current position: (1, 9)\t            Default position: (2, 9)\n",
      "Name: правый мизинец                     Typed keys:     1             Ticks before return:     0             Current position: (2, 10)\t            Default position: (2, 10)\n"
     ]
    }
   ],
   "source": [
    "qwerty_keyboard.show_statistics()"
   ]
  },
  {
   "cell_type": "markdown",
   "metadata": {},
   "source": [
    "As we can see, we successfully can swap different keys in given keyboard and calculate distance function fro given string.\n"
   ]
  },
  {
   "cell_type": "markdown",
   "metadata": {},
   "source": [
    "## Data loading & preprocessing"
   ]
  },
  {
   "cell_type": "code",
   "execution_count": 24,
   "metadata": {},
   "outputs": [
    {
     "data": {
      "text/html": [
       "<div>\n",
       "<style scoped>\n",
       "    .dataframe tbody tr th:only-of-type {\n",
       "        vertical-align: middle;\n",
       "    }\n",
       "\n",
       "    .dataframe tbody tr th {\n",
       "        vertical-align: top;\n",
       "    }\n",
       "\n",
       "    .dataframe thead th {\n",
       "        text-align: right;\n",
       "    }\n",
       "</style>\n",
       "<table border=\"1\" class=\"dataframe\">\n",
       "  <thead>\n",
       "    <tr style=\"text-align: right;\">\n",
       "      <th></th>\n",
       "      <th>encoded_text</th>\n",
       "    </tr>\n",
       "  </thead>\n",
       "  <tbody>\n",
       "    <tr>\n",
       "      <th>0</th>\n",
       "      <td>[16, 15, 9, 14, 20, 87, 15, 16, 5, 18, 1, 20, ...</td>\n",
       "    </tr>\n",
       "    <tr>\n",
       "      <th>1</th>\n",
       "      <td>[9, 14, 20, 87, 13, 1, 9, 14, 60, 61, 87, 99, ...</td>\n",
       "    </tr>\n",
       "    <tr>\n",
       "      <th>2</th>\n",
       "      <td>[9, 14, 20, 87, 13, 1, 9, 14, 60, 61, 85, 88, ...</td>\n",
       "    </tr>\n",
       "    <tr>\n",
       "      <th>3</th>\n",
       "      <td>[9, 14, 20, 87, 13, 1, 9, 14, 60, 61, 87, 99, ...</td>\n",
       "    </tr>\n",
       "    <tr>\n",
       "      <th>4</th>\n",
       "      <td>[87, 87, 9, 14, 20, 87, 13, 1, 9, 14, 60, 61, ...</td>\n",
       "    </tr>\n",
       "  </tbody>\n",
       "</table>\n",
       "</div>"
      ],
      "text/plain": [
       "                                        encoded_text\n",
       "0  [16, 15, 9, 14, 20, 87, 15, 16, 5, 18, 1, 20, ...\n",
       "1  [9, 14, 20, 87, 13, 1, 9, 14, 60, 61, 87, 99, ...\n",
       "2  [9, 14, 20, 87, 13, 1, 9, 14, 60, 61, 85, 88, ...\n",
       "3  [9, 14, 20, 87, 13, 1, 9, 14, 60, 61, 87, 99, ...\n",
       "4  [87, 87, 9, 14, 20, 87, 13, 1, 9, 14, 60, 61, ..."
      ]
     },
     "execution_count": 24,
     "metadata": {},
     "output_type": "execute_result"
    }
   ],
   "source": [
    "data_points = pd.read_csv(\"../data/raw/encoded_programs.csv\", index_col=0)\n",
    "data_points.head()"
   ]
  },
  {
   "cell_type": "code",
   "execution_count": 25,
   "metadata": {},
   "outputs": [
    {
     "data": {
      "text/plain": [
       "(10, 400)"
      ]
     },
     "execution_count": 25,
     "metadata": {},
     "output_type": "execute_result"
    }
   ],
   "source": [
    "dataset = np.array(\n",
    "    [np.array(text) for text in data_points[\"encoded_text\"].apply(literal_eval).to_list()]\n",
    ")\n",
    "dataset.shape"
   ]
  },
  {
   "cell_type": "code",
   "execution_count": 26,
   "metadata": {},
   "outputs": [],
   "source": [
    "LIMIT_DATA: int = 10  # use only several data points\n",
    "data = dataset[:LIMIT_DATA]"
   ]
  },
  {
   "cell_type": "markdown",
   "metadata": {},
   "source": [
    "## Measure QWERTY"
   ]
  },
  {
   "cell_type": "code",
   "execution_count": 27,
   "metadata": {},
   "outputs": [
    {
     "name": "stderr",
     "output_type": "stream",
     "text": [
      " 60%|██████    | 6/10 [00:00<00:00, 15.66it/s, qwerty=6.57e+3, random=9.03e+3]"
     ]
    },
    {
     "name": "stderr",
     "output_type": "stream",
     "text": [
      "100%|██████████| 10/10 [00:00<00:00, 14.97it/s, qwerty=1.03e+4, random=1.41e+4]\n"
     ]
    }
   ],
   "source": [
    "qwerty_keyboard = KeyboardLayout(\n",
    "    QWERTY_ENCODED_LOW, QWERTY_ENCODED_HIGH, Logger(verbose=False)\n",
    ")\n",
    "\n",
    "random_low, random_high = generate_random_layout(\n",
    "    ALL_BUTTONS_ENCODED, KEYBOARD_LAYOUT_SHAPE, seed=42\n",
    ")\n",
    "random_keyboard = KeyboardLayout(random_low, random_high, Logger(verbose=False))\n",
    "\n",
    "\n",
    "loop = tqdm(data)\n",
    "for text in loop:\n",
    "    qwerty_score_total = qwerty_keyboard.type_encoded_text(text)\n",
    "    random_score_total = random_keyboard.type_encoded_text(text)\n",
    "    loop.set_postfix({\"qwerty\": qwerty_score_total, \"random\": random_score_total})"
   ]
  },
  {
   "cell_type": "code",
   "execution_count": 28,
   "metadata": {},
   "outputs": [
    {
     "name": "stdout",
     "output_type": "stream",
     "text": [
      "High layout:\n",
      "~       !       @       #       $       %       ^       &       *       (       )       _       +       <back>  \n",
      "<tab>   Q       W       E       R       T       Y       U       I       O       P       {       }       |       \n",
      "<caps>  A       S       D       F       G       H       J       K       L       :       \"       <enter> <enter> \n",
      "<shift> <shift> Z       X       C       V       B       N       M       <       >       ?       <shift> <shift> \n",
      "<ctrl>  <alt>   <space> <space> <space> <space> <space> <space> <space> <alt>   <ctrl>  \n",
      "\n",
      "\n",
      "Low layout:\n",
      "`       1       2       3       4       5       6       7       8       9       0       -       =       <back>  \n",
      "<tab>   q       w       e       r       t       y       u       i       o       p       [       ]       \\       \n",
      "<caps>  a       s       d       f       g       h       j       k       l       ;       '       <enter> <enter> \n",
      "<shift> <shift> z       x       c       v       b       n       m       ,       .       /       <shift> <shift> \n",
      "<ctrl>  <alt>   <space> <space> <space> <space> <space> <space> <space> <alt>   <ctrl>  \n",
      "\n",
      "\n"
     ]
    }
   ],
   "source": [
    "print(qwerty_keyboard.get_string_layouts())"
   ]
  },
  {
   "cell_type": "code",
   "execution_count": 29,
   "metadata": {},
   "outputs": [
    {
     "name": "stdout",
     "output_type": "stream",
     "text": [
      "qwerty_keyboard.total_score=10273\n",
      "random_keyboard.total_score=14137\n"
     ]
    }
   ],
   "source": [
    "print(f\"{qwerty_keyboard.total_score=:.0f}\")\n",
    "print(f\"{random_keyboard.total_score=:.0f}\")"
   ]
  },
  {
   "cell_type": "code",
   "execution_count": 30,
   "metadata": {},
   "outputs": [
    {
     "name": "stdout",
     "output_type": "stream",
     "text": [
      "High layout:\n",
      "H       &       V       <tab>   8       p       v       l       <space> 0       <space> q       @       <space> \n",
      "5       g       X       x       c       =       n       N       <space> |       <ctrl>  t       G       z       \n",
      ">       \"       y       D       `       <space> ?       <space> <ctrl>  <shift> <shift> O       E       {       \n",
      "[       %       M       _       <alt>   a       \\       <shift> 3       4       <shift> (       -       #       \n",
      "B       <space> Y       <back>  <caps>  j       <space> <space> $       6       <caps>  \n",
      "\n",
      "\n",
      "Low layout:\n",
      "]       m       F       b       <enter> u       1       :       d       ^       9       w       <alt>   '       \n",
      "<shift> U       7       P       s       <space> .       <alt>   C       ,       f       K       <space> <ctrl>  \n",
      "r       <alt>   Q       *       <shift> k       2       !       Z       S       <tab>   }       /       <shift> \n",
      "<space> R       W       h       J       <space> ;       <       <enter> A       <enter> <space> <shift> I       \n",
      "i       <back>  ~       o       L       <enter> <ctrl>  e       )       T       +       \n",
      "\n",
      "\n"
     ]
    }
   ],
   "source": [
    "print(random_keyboard.get_string_layouts())"
   ]
  },
  {
   "cell_type": "code",
   "execution_count": 31,
   "metadata": {},
   "outputs": [
    {
     "data": {
      "text/plain": [
       "10272.600000000048"
      ]
     },
     "execution_count": 31,
     "metadata": {},
     "output_type": "execute_result"
    }
   ],
   "source": [
    "qwerty_keyboard.total_score"
   ]
  },
  {
   "cell_type": "markdown",
   "metadata": {},
   "source": [
    "## Score estimator "
   ]
  },
  {
   "cell_type": "code",
   "execution_count": 32,
   "metadata": {},
   "outputs": [],
   "source": [
    "def generate_random_layouts(n: int) -> list[KeyboardLayout]:\n",
    "    layouts = []\n",
    "    for i in range(n):\n",
    "        random_low, random_high = generate_random_layout(\n",
    "            ALL_BUTTONS_ENCODED, KEYBOARD_LAYOUT_SHAPE, seed=i\n",
    "        )\n",
    "        layouts.append(KeyboardLayout(random_low, random_high, Logger(verbose=False)))\n",
    "    return layouts\n",
    "\n",
    "\n",
    "def estimate_layouts(layouts: list[KeyboardLayout], dataset: np.ndarray) -> torch.Tensor:\n",
    "    loop = tqdm(dataset)\n",
    "    for layout in layouts:\n",
    "        layout.reset()\n",
    "    for text in loop:\n",
    "        for layout in layouts:\n",
    "            layout.type_encoded_text(text)\n",
    "\n",
    "    return torch.as_tensor([layout.total_score for layout in layouts])"
   ]
  },
  {
   "cell_type": "code",
   "execution_count": 33,
   "metadata": {},
   "outputs": [
    {
     "name": "stderr",
     "output_type": "stream",
     "text": [
      "100%|██████████| 10/10 [00:02<00:00,  4.83it/s]\n"
     ]
    }
   ],
   "source": [
    "LAYOUTS_NUMBER = 5\n",
    "\n",
    "random_layouts = generate_random_layouts(LAYOUTS_NUMBER)\n",
    "random_layouts_scores = estimate_layouts(random_layouts, data)"
   ]
  },
  {
   "cell_type": "code",
   "execution_count": 34,
   "metadata": {},
   "outputs": [
    {
     "name": "stdout",
     "output_type": "stream",
     "text": [
      "BEST_RANDOM=10499.2001953125\n"
     ]
    }
   ],
   "source": [
    "BEST_RANDOM = min(random_layouts_scores).item()\n",
    "print(f\"{BEST_RANDOM=}\")"
   ]
  },
  {
   "cell_type": "code",
   "execution_count": 38,
   "metadata": {},
   "outputs": [
    {
     "data": {
      "image/png": "[encoded data removed]",
      "text/plain": [
       "<Figure size 1600x900 with 1 Axes>"
      ]
     },
     "metadata": {},
     "output_type": "display_data"
    }
   ],
   "source": [
    "def plot_scores(\n",
    "    scores: torch.Tensor,\n",
    "    x_lim: Optional[float] = None,\n",
    "    figsize: tuple[int, int] = (16, 9),\n",
    "):\n",
    "    qwerty_scores = [qwerty_keyboard.total_score for _ in range(len(scores))]\n",
    "    random_scores = [x.item() for x in scores]\n",
    "    plt.subplots(1, 1, figsize=figsize)\n",
    "    points = list(range(len(random_scores)))\n",
    "    plt.scatter(points, random_scores, s=10, label=\"Layout score\")\n",
    "    plt.plot(qwerty_scores, label=\"QWERTY score\", color=\"red\")\n",
    "    plt.legend()\n",
    "    plt.grid()\n",
    "    if x_lim is None:\n",
    "        x_lim = len(random_scores) - 1\n",
    "    plt.xlim([0, x_lim])\n",
    "    plt.xticks(points[:x_lim])\n",
    "    plt.ylabel(\"Score\")\n",
    "    plt.xlabel(\"Random layout #\")\n",
    "    plt.title(\"Scores for random layouts\")\n",
    "    plt.show()\n",
    "\n",
    "\n",
    "plot_scores(random_layouts_scores)"
   ]
  },
  {
   "cell_type": "code",
   "execution_count": 39,
   "metadata": {},
   "outputs": [
    {
     "data": {
      "image/png": "[encoded data removed]",
      "text/plain": [
       "<Figure size 1600x900 with 1 Axes>"
      ]
     },
     "metadata": {},
     "output_type": "display_data"
    }
   ],
   "source": [
    "plot_scores(random_layouts_scores, x_lim=100)"
   ]
  },
  {
   "cell_type": "code",
   "execution_count": 43,
   "metadata": {},
   "outputs": [
    {
     "name": "stdout",
     "output_type": "stream",
     "text": [
      "High layout:\n",
      "<shift> <space> j       <space> d       <tab>   L       .       ?       W       <back>  c       (       Y       \n",
      "G       <shift> <space> <alt>   D       <shift> :       I       C       e       B       <enter> S       \"       \n",
      "a       s       i       %       <space> !       <shift> n       <enter> <space> v       3       <ctrl>  h       \n",
      "<alt>   <alt>   #       b       <ctrl>  Z       <space> K       ,       Q       <ctrl>  y       U       *       \n",
      "4       <space> \\       _       f       +       z       }       u       o       <tab>   \n",
      "\n",
      "\n",
      "Low layout:\n",
      "-       >       5       &       R       9       2       F       <caps>  ~       <shift> H       =       w       \n",
      "q       {       <enter> p       7       8       ^       M       r       1       |       <space> 6       `       \n",
      "N       J       ;       [       <enter> E       X       <       <back>  <space> ]       l       /       g       \n",
      "<shift> <space> m       t       A       O       '       0       x       <shift> <ctrl>  <shift> $       <space> \n",
      "<space> @       )       k       P       <caps>  V       <space> <space> <alt>   T       \n",
      "\n",
      "\n"
     ]
    }
   ],
   "source": [
    "random_scores = [x.item() for x in random_layouts_scores]\n",
    "best_layout_idx = np.argmin(random_scores)\n",
    "best_layout = random_layouts[best_layout_idx]\n",
    "print(best_layout.get_string_layouts())"
   ]
  }
 ],
 "metadata": {
  "kernelspec": {
   "display_name": "d_env",
   "language": "python",
   "name": "python3"
  },
  "language_info": {
   "codemirror_mode": {
    "name": "ipython",
    "version": 3
   },
   "file_extension": ".py",
   "mimetype": "text/x-python",
   "name": "python",
   "nbconvert_exporter": "python",
   "pygments_lexer": "ipython3",
   "version": "3.10.11"
  }
 },
 "nbformat": 4,
 "nbformat_minor": 2
}

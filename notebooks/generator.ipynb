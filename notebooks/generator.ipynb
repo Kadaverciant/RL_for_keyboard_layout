{
 "cells": [
  {
   "cell_type": "markdown",
   "metadata": {},
   "source": [
    "# Main generator\n"
   ]
  },
  {
   "cell_type": "code",
   "execution_count": null,
   "metadata": {},
   "outputs": [],
   "source": [
    "import random\n",
    "from copy import deepcopy\n",
    "from typing import Literal, Optional\n",
    "\n",
    "import numpy as np"
   ]
  },
  {
   "cell_type": "code",
   "execution_count": 28,
   "metadata": {},
   "outputs": [],
   "source": [
    "Layout = list[list[str]]\n",
    "\n",
    "\n",
    "QWERTY_LOW_LAYOUT: Layout = [\n",
    "    [\"`\", \"1\", \"2\", \"3\", \"4\", \"5\", \"6\", \"7\", \"8\", \"9\", \"0\", \"-\", \"=\", \"<back>\"],\n",
    "    [\"<tab>\", \"q\", \"w\", \"e\", \"r\", \"t\", \"y\", \"u\", \"i\", \"o\", \"p\", \"[\", \"]\", \"\\\\\"],\n",
    "    [\"<caps>\", \"a\", \"s\", \"d\", \"f\", \"g\", \"h\", \"j\", \"k\", \"l\", \";\", \"'\", \"<enter>\"],\n",
    "    [\"<shift>\", \"z\", \"x\", \"c\", \"v\", \"b\", \"n\", \"m\", \",\", \".\", \"/\", \"<shift>\"],\n",
    "    [\"<win>\", \"<alt>\", \" \", \" \", \" \", \" \", \" \", \" \", \"<alt>\", \"<fn>\"],\n",
    "]\n",
    "\n",
    "QWERTY_HIGH_LAYOUT: Layout = [\n",
    "    [\"~\", \"!\", \"@\", \"#\", \"$\", \"%\", \"^\", \"&\", \"*\", \"(\", \")\", \"_\", \"+\", \"<back>\"],\n",
    "    [\"<tab>\", \"Q\", \"W\", \"E\", \"R\", \"T\", \"Y\", \"U\", \"I\", \"O\", \"P\", \"{\", \"}\", \"|\"],\n",
    "    [\"<caps>\", \"A\", \"S\", \"D\", \"F\", \"G\", \"H\", \"J\", \"K\", \"L\", \":\", '\"', \"<enter>\"],\n",
    "    [\"<shift>\", \"Z\", \"X\", \"C\", \"V\", \"B\", \"N\", \"M\", \"<\", \">\", \"?\", \"<shift>\"],\n",
    "    [\"<win>\", \"<alt>\", \" \", \" \", \" \", \" \", \" \", \" \", \"<alt>\", \"<fn>\"],\n",
    "]"
   ]
  },
  {
   "cell_type": "code",
   "execution_count": null,
   "metadata": {},
   "outputs": [],
   "source": [
    "LogType = Literal[\"basic\"] | Literal[\"debug\"] | Literal[\"error\"]\n",
    "\n",
    "\n",
    "class Logger:\n",
    "    def __init__(self, verbose: bool = True, hide_types: list[LogType] = []) -> None:\n",
    "        self.verbose = verbose\n",
    "        self.hide_types = set(hide_types)\n",
    "\n",
    "    def log(self, message: str, log_type: LogType = \"basic\") -> None:\n",
    "        if self.verbose and log_type not in self.hide_types:\n",
    "            print(message)\n",
    "\n",
    "\n",
    "LOGGER = Logger()"
   ]
  },
  {
   "cell_type": "code",
   "execution_count": 131,
   "metadata": {},
   "outputs": [],
   "source": [
    "Position = tuple[int, int]\n",
    "\n",
    "\n",
    "class Finger:\n",
    "    def __init__(\n",
    "        self, initial_position: Position, name: str, logger: Logger = LOGGER\n",
    "    ) -> None:\n",
    "        self.name = name\n",
    "        self.initial_position = initial_position\n",
    "\n",
    "        self.logger = logger\n",
    "\n",
    "        self.reset()\n",
    "\n",
    "        # Constants\n",
    "\n",
    "        self.wait_before_return = 4  # in ticks\n",
    "\n",
    "        self.long_row_move_shift = 3\n",
    "        self.long_row_move_penalty = 1\n",
    "\n",
    "        self.row_penalty_coefficient = 1\n",
    "        self.column_penalty_coefficient = 1.2\n",
    "\n",
    "    def reset(self):\n",
    "        self.current_position = self.initial_position\n",
    "        self.ticks_before_return = 0  # if == 0, returns to the initial position\n",
    "        self.typed_keys = 0\n",
    "\n",
    "    def move(self, position: Position):\n",
    "        self.current_position = position\n",
    "\n",
    "        self.ticks_before_return = self.wait_before_return\n",
    "        self.typed_keys += 1\n",
    "\n",
    "    def tick(self) -> float:\n",
    "        if self.ticks_before_return > 0:\n",
    "            self.ticks_before_return -= 1\n",
    "\n",
    "        if self.ticks_before_return == 0:\n",
    "            score = self.get_score(self.initial_position)\n",
    "            self.current_position = self.initial_position\n",
    "            return score\n",
    "\n",
    "        return 0\n",
    "\n",
    "    def get_score(self, target_position: Position) -> float:\n",
    "        x1, y1 = self.current_position\n",
    "        x2, y2 = target_position\n",
    "\n",
    "        row_distance = abs(x1 - x2) ** 2\n",
    "        column_distance = abs(y1 - y2) ** 2\n",
    "\n",
    "        penalty = 0\n",
    "        if row_distance > self.long_row_move_shift:\n",
    "            penalty = self.long_row_move_penalty\n",
    "        return (\n",
    "            row_distance * self.row_penalty_coefficient\n",
    "            + column_distance * self.column_penalty_coefficient\n",
    "            + penalty\n",
    "        )\n",
    "\n",
    "    def show_statistics(self):\n",
    "        self.logger.log(\n",
    "            f\"Name: {self.name}\\t\\\n",
    "            Typed keys: {self.typed_keys}\\t\\\n",
    "            Ticks before return: {self.ticks_before_return}\\t\\\n",
    "            Current position: {self.current_position}\\t\\\n",
    "            Default position: {self.initial_position}\\n\\n\"\n",
    "        )"
   ]
  },
  {
   "cell_type": "code",
   "execution_count": null,
   "metadata": {},
   "outputs": [],
   "source": [
    "DEFAULT_FINGERS: list[Finger] = [\n",
    "    Finger((2, 1), \"левый мизинец\"),\n",
    "    Finger((2, 2), \"левый безымянный\"),\n",
    "    Finger((2, 3), \"левый средний\"),\n",
    "    Finger((2, 4), \"левый указательный\"),\n",
    "    Finger((4, 3), \"левый большой\"),\n",
    "    Finger((4, 6), \"правый большой\"),\n",
    "    Finger((2, 7), \"правый указательный\"),\n",
    "    Finger((2, 8), \"правый средний\"),\n",
    "    Finger((2, 9), \"правый безымянный\"),\n",
    "    Finger((2, 10), \"правый мизинец\"),\n",
    "]\n",
    "\n",
    "SwapType = Literal[\"low_layout\"] | Literal[\"high_layout\"] | Literal[\"between_layouts\"]\n",
    "\n",
    "\n",
    "class KeyboardLayout:\n",
    "    @staticmethod\n",
    "    def layout_to_dict(layout: Layout) -> dict[str, list[Position]]:\n",
    "        layout_dict: dict[str, list[Position]] = {}\n",
    "\n",
    "        for i in range(len(layout)):\n",
    "            for j in range(len(layout[i])):\n",
    "                button = layout[i][j]\n",
    "                if button in layout_dict:\n",
    "                    layout_dict[button].append((i, j))\n",
    "                else:\n",
    "                    layout_dict[button] = [(i, j)]\n",
    "\n",
    "        return layout_dict\n",
    "\n",
    "    def _finish_move(self):\n",
    "        for finger in self.fingers:\n",
    "            self.total_score += finger.tick()\n",
    "\n",
    "    def __init__(self, low_layout: Layout, high_layout: Layout, logger: Logger = LOGGER):\n",
    "        self.low_layout = deepcopy(low_layout)\n",
    "        self.high_layout = deepcopy(high_layout)\n",
    "\n",
    "        self.low_layout_dict = KeyboardLayout.layout_to_dict(self.low_layout)\n",
    "        self.high_layout_dict = KeyboardLayout.layout_to_dict(self.high_layout)\n",
    "\n",
    "        self.logger = logger\n",
    "\n",
    "        self.fingers = deepcopy(DEFAULT_FINGERS)\n",
    "\n",
    "        self.reset()\n",
    "\n",
    "    def reset(self):\n",
    "        self.total_score = 0\n",
    "        for f in self.fingers:\n",
    "            f.reset()\n",
    "\n",
    "    def move_one_finger(\n",
    "        self, positions: list[Position], busy_finger_id: Optional[int] = None\n",
    "    ) -> tuple[tuple[int, Position], float]:\n",
    "        best_finger_id: int = 0\n",
    "        best_score = np.inf\n",
    "\n",
    "        final_position: Position = (0, 0)\n",
    "\n",
    "        for position in positions:\n",
    "            scores = [\n",
    "                finger.get_score(position) if i != busy_finger_id else np.inf\n",
    "                for i, finger in enumerate(self.fingers)\n",
    "            ]\n",
    "\n",
    "            candidate_finger_id = int(np.argmin(scores))\n",
    "            candidate_score = scores[candidate_finger_id]\n",
    "\n",
    "            if candidate_score < best_score:\n",
    "                best_score = candidate_score\n",
    "                best_finger_id = candidate_finger_id\n",
    "                final_position = position\n",
    "\n",
    "        return (best_finger_id, final_position), best_score\n",
    "\n",
    "    def move_two_fingers(\n",
    "        self, positions: list[Position]\n",
    "    ) -> tuple[tuple[int, Position], tuple[int, Position], float]:\n",
    "        shift_positions = self.low_layout_dict[\"<shift>\"]\n",
    "\n",
    "        # firstly reach SHIFT, then - positions\n",
    "        finger_shift_info_1, shift_distance_1 = self.move_one_finger(shift_positions)\n",
    "        finger_btn_info_1, d1_btn = self.move_one_finger(\n",
    "            positions, finger_shift_info_1[0]\n",
    "        )\n",
    "        total_distance_1 = shift_distance_1 + d1_btn\n",
    "\n",
    "        # firstly reach positions, then - SHIFT\n",
    "        finger_btn_info_2, d1_btn = self.move_one_finger(positions)\n",
    "        finger_shift_info_2, shift_distance_2 = self.move_one_finger(\n",
    "            shift_positions, finger_btn_info_2[0]\n",
    "        )\n",
    "        total_distance_2 = shift_distance_2 + d1_btn\n",
    "\n",
    "        if total_distance_1 < total_distance_2:\n",
    "            return finger_btn_info_1, finger_shift_info_1, total_distance_1\n",
    "\n",
    "        return finger_btn_info_2, finger_shift_info_2, total_distance_2\n",
    "\n",
    "    def find_button(self, button: str):\n",
    "        if button in self.low_layout_dict:\n",
    "            (finger_id, finger_position), score = self.move_one_finger(\n",
    "                self.low_layout_dict[button]\n",
    "            )\n",
    "\n",
    "            self.fingers[finger_id].move(finger_position)\n",
    "            self.total_score += score\n",
    "\n",
    "            self.logger.log(f\"{button}:\\t{self.fingers[finger_id].name}\")\n",
    "\n",
    "        elif button in self.high_layout_dict:\n",
    "            (\n",
    "                (finger_id_1, finger_position_1),\n",
    "                (finger_id_2, finger_position_2),\n",
    "                score,\n",
    "            ) = self.move_two_fingers(self.high_layout_dict[button])\n",
    "\n",
    "            self.fingers[finger_id_1].move(finger_position_1)\n",
    "            self.fingers[finger_id_2].move(finger_position_2)\n",
    "            self.total_score += score\n",
    "\n",
    "            self.logger.log(\n",
    "                f\"{button}:\\t{self.fingers[finger_id_1].name} + {self.fingers[finger_id_2].name}\"\n",
    "            )\n",
    "\n",
    "        else:\n",
    "            self.logger.log(f\"NO SUCH KEY: {button}\")\n",
    "\n",
    "        self._finish_move()\n",
    "\n",
    "    def type_text(self, text: list[str]) -> float:\n",
    "        for button in text:\n",
    "            self.find_button(button)\n",
    "\n",
    "        return self.total_score\n",
    "\n",
    "    def swap_buttons(self, position1: Position, position2: Position, swap_type: SwapType):\n",
    "        if swap_type == \"high_layout\":\n",
    "            layout_from = layout_to = self.high_layout\n",
    "            layout_from_dict = layout_to_dict = self.high_layout_dict\n",
    "        elif swap_type == \"low_layout\":\n",
    "            layout_from = layout_to = self.low_layout\n",
    "            layout_from_dict = layout_to_dict = self.low_layout_dict\n",
    "        else:  # swap_type == \"between_layouts\"\n",
    "            layout_from = self.low_layout\n",
    "            layout_to = self.high_layout\n",
    "            layout_from_dict = self.low_layout_dict\n",
    "            layout_to_dict = self.high_layout_dict\n",
    "\n",
    "        x1, y1 = position1\n",
    "        btn1 = layout_from[x1][y1]\n",
    "        x2, y2 = position2\n",
    "        btn2 = layout_to[x2][y2]\n",
    "\n",
    "        layout_from[x1][y1], layout_to[x2][y2] = layout_to[x2][y2], layout_from[x1][y1]\n",
    "\n",
    "        layout_from_dict[btn1].remove(position1)\n",
    "        layout_from_dict[btn1].append(position2)\n",
    "\n",
    "        layout_to_dict[btn2].append(position1)\n",
    "        layout_to_dict[btn2].remove(position2)\n",
    "\n",
    "    def show_statistics(self):\n",
    "        self.logger.log(\"\\nStatistics:\")\n",
    "        for f in self.fingers:\n",
    "            f.show_statistics()"
   ]
  },
  {
   "cell_type": "code",
   "execution_count": null,
   "metadata": {},
   "outputs": [],
   "source": [
    "def get_buttons_set() -> set[str]:\n",
    "    buttons: set[str] = set()\n",
    "\n",
    "    for layout in [QWERTY_LOW_LAYOUT, QWERTY_HIGH_LAYOUT]:\n",
    "        for i in range(len(layout)):\n",
    "            for btn in layout[i]:\n",
    "                buttons.add(btn)\n",
    "\n",
    "    return buttons\n",
    "\n",
    "\n",
    "BUTTONS_SET = get_buttons_set()\n",
    "KEYBOARD_LAYOUT_SHAPE = (len(QWERTY_HIGH_LAYOUT), len(QWERTY_HIGH_LAYOUT[0]))"
   ]
  },
  {
   "cell_type": "code",
   "execution_count": 133,
   "metadata": {},
   "outputs": [
    {
     "data": {
      "text/plain": [
       "([['*', '*', '_', 'V', '\\n', 'B', ' ', 'X', 'N', 'B', '_', 'A', ' ', '<fn>'],\n",
       "  ['S',\n",
       "   '}',\n",
       "   '!',\n",
       "   'I',\n",
       "   'L',\n",
       "   ' ',\n",
       "   '<caps>',\n",
       "   '#',\n",
       "   'K',\n",
       "   '<win>',\n",
       "   '|',\n",
       "   'G',\n",
       "   ' ',\n",
       "   '?'],\n",
       "  [' ', ' ', 'V', 'S', 'T', '<back>', '}', '<shift>', '!', 'O', 'L', 'W', '{'],\n",
       "  ['U',\n",
       "   'P',\n",
       "   'M',\n",
       "   '<alt>',\n",
       "   'O',\n",
       "   '<caps>',\n",
       "   '\\t',\n",
       "   '<alt>',\n",
       "   '\"',\n",
       "   '<win>',\n",
       "   'N',\n",
       "   '<'],\n",
       "  ['<shift>', ' ', 'W', '@', '@', 'C', '$', 'F', '(', 'Q']],\n",
       " [['?', ')', '%', ' ', 'E', 'U', 'Q', '|', 'G', 'Y', '%', ' ', 'D', 'R'],\n",
       "  ['P', '+', 'T', '^', '#', ')', '$', ':', ' ', '\\n', 'H', 'Z', '+', '&'],\n",
       "  [':', 'Y', '<', '~', '&', '^', '>', '<shift>', 'H', 'Z', 'F', '<alt>', 'D'],\n",
       "  ['\"', 'A', '<back>', 'R', '<fn>', '~', '\\t', '<alt>', 'E', 'J', 'M', 'X'],\n",
       "  ['<shift>', ' ', '>', 'K', '{', 'C', '(', ' ', 'J', 'I']])"
      ]
     },
     "execution_count": 133,
     "metadata": {},
     "output_type": "execute_result"
    }
   ],
   "source": [
    "def generate_cell(keyboard_shape):\n",
    "    x = random.randint(0, len(keyboard_shape) - 1)\n",
    "    y = random.randint(0, keyboard_shape[x] - 1)\n",
    "    return x, y\n",
    "\n",
    "\n",
    "def generate_layout(all_keys, keyboard_shape):\n",
    "    low = [[0 for _ in range(row)] for row in keyboard_shape]\n",
    "    high = [[0 for _ in range(row)] for row in keyboard_shape]\n",
    "    x1, y1 = generate_cell(keyboard_shape)\n",
    "    x2, y2 = x1, y1\n",
    "    while x1 == x2 and y1 == y2:\n",
    "        x2, y2 = generate_cell(keyboard_shape)\n",
    "    low[x1][y1] = \"<shift>\"\n",
    "    high[x1][y1] = \"<shift>\"\n",
    "    low[x2][y2] = \"<shift>\"\n",
    "    high[x2][y2] = \"<shift>\"\n",
    "\n",
    "    temp = deepcopy(all_keys)\n",
    "    random.shuffle(temp)\n",
    "\n",
    "    for i in range(len(low)):\n",
    "        for j in range(len(low[i])):\n",
    "            key = low[i][j]\n",
    "            if key == \"<shift>\":\n",
    "                continue\n",
    "            key = temp.pop()\n",
    "            low[i][j] = key\n",
    "\n",
    "    for i in range(len(high)):\n",
    "        for j in range(len(high[i])):\n",
    "            key = high[i][j]\n",
    "            if key == \"<shift>\":\n",
    "                continue\n",
    "            key = temp.pop()\n",
    "            high[i][j] = key\n",
    "\n",
    "    return low, high\n",
    "\n",
    "\n",
    "generate_layout(all_keys, keyboard_shape)"
   ]
  },
  {
   "cell_type": "code",
   "execution_count": 134,
   "metadata": {},
   "outputs": [
    {
     "data": {
      "text/plain": [
       "122"
      ]
     },
     "execution_count": 134,
     "metadata": {},
     "output_type": "execute_result"
    }
   ],
   "source": [
    "len(all_keys)"
   ]
  },
  {
   "cell_type": "code",
   "execution_count": 135,
   "metadata": {},
   "outputs": [
    {
     "data": {
      "text/plain": [
       "[14, 14, 13, 12, 10]"
      ]
     },
     "execution_count": 135,
     "metadata": {},
     "output_type": "execute_result"
    }
   ],
   "source": [
    "keyboard_shape"
   ]
  },
  {
   "cell_type": "code",
   "execution_count": 136,
   "metadata": {},
   "outputs": [
    {
     "data": {
      "text/plain": [
       "([[2, 2]], [[1, 1]], [[2, 2]], [[1, 1]])"
      ]
     },
     "execution_count": 136,
     "metadata": {},
     "output_type": "execute_result"
    }
   ],
   "source": [
    "k = keyboard(QWERTY_LOW_LAYOUT, high_layout, low_layout_dict, high_dict, show=True)\n",
    "k.low_dict[\"s\"], k.low_dict[\"q\"], k.high_dict[\"S\"], k.high_dict[\"Q\"]"
   ]
  },
  {
   "cell_type": "code",
   "execution_count": 137,
   "metadata": {},
   "outputs": [],
   "source": [
    "k.swap_cells_low([1, 1], [2, 2])\n",
    "k.swap_cells_high([1, 1], [2, 2])"
   ]
  },
  {
   "cell_type": "code",
   "execution_count": 138,
   "metadata": {},
   "outputs": [
    {
     "data": {
      "text/plain": [
       "([[1, 1]], [[2, 2]], [[1, 1]], [[2, 2]])"
      ]
     },
     "execution_count": 138,
     "metadata": {},
     "output_type": "execute_result"
    }
   ],
   "source": [
    "k.low_dict[\"s\"], k.low_dict[\"q\"], k.high_dict[\"S\"], k.high_dict[\"Q\"]"
   ]
  },
  {
   "cell_type": "code",
   "execution_count": 139,
   "metadata": {},
   "outputs": [
    {
     "data": {
      "text/plain": [
       "[['`', '1', '2', '3', '4', '5', '6', '7', '8', '9', '0', '-', '=', '<back>'],\n",
       " ['\\t', 's', 'w', 'e', 'r', 't', 'y', 'u', 'i', 'o', 'p', '[', ']', '\\\\'],\n",
       " ['<caps>', 'a', 'q', 'd', 'f', 'g', 'h', 'j', 'k', 'l', ';', \"'\", '\\n'],\n",
       " ['<shift>', 'z', 'x', 'c', 'v', 'b', 'n', 'm', ',', '.', '/', '<shift>'],\n",
       " ['<win>', '<alt>', ' ', ' ', ' ', ' ', ' ', ' ', '<alt>', '<fn>']]"
      ]
     },
     "execution_count": 139,
     "metadata": {},
     "output_type": "execute_result"
    }
   ],
   "source": [
    "k.keyboard_low"
   ]
  },
  {
   "cell_type": "code",
   "execution_count": 140,
   "metadata": {},
   "outputs": [
    {
     "data": {
      "text/plain": [
       "[['~', '!', '@', '#', '$', '%', '^', '&', '*', '(', ')', '_', '+', '<back>'],\n",
       " ['\\t', 'S', 'W', 'E', 'R', 'T', 'Y', 'U', 'I', 'O', 'P', '{', '}', '|'],\n",
       " ['<caps>', 'A', 'Q', 'D', 'F', 'G', 'H', 'J', 'K', 'L', ':', '\"', '\\n'],\n",
       " ['<shift>', 'Z', 'X', 'C', 'V', 'B', 'N', 'M', '<', '>', '?', '<shift>'],\n",
       " ['<win>', '<alt>', ' ', ' ', ' ', ' ', ' ', ' ', '<alt>', '<fn>']]"
      ]
     },
     "execution_count": 140,
     "metadata": {},
     "output_type": "execute_result"
    }
   ],
   "source": [
    "k.keyboard_high"
   ]
  },
  {
   "cell_type": "code",
   "execution_count": 141,
   "metadata": {},
   "outputs": [
    {
     "data": {
      "text/plain": [
       "([[1, 2]], [[1, 3]])"
      ]
     },
     "execution_count": 141,
     "metadata": {},
     "output_type": "execute_result"
    }
   ],
   "source": [
    "k.low_dict[\"w\"], k.high_dict[\"E\"]"
   ]
  },
  {
   "cell_type": "code",
   "execution_count": 142,
   "metadata": {},
   "outputs": [
    {
     "data": {
      "text/plain": [
       "[['`', '1', '2', '3', '4', '5', '6', '7', '8', '9', '0', '-', '=', '<back>'],\n",
       " ['\\t', 's', 'E', 'e', 'r', 't', 'y', 'u', 'i', 'o', 'p', '[', ']', '\\\\'],\n",
       " ['<caps>', 'a', 'q', 'd', 'f', 'g', 'h', 'j', 'k', 'l', ';', \"'\", '\\n'],\n",
       " ['<shift>', 'z', 'x', 'c', 'v', 'b', 'n', 'm', ',', '.', '/', '<shift>'],\n",
       " ['<win>', '<alt>', ' ', ' ', ' ', ' ', ' ', ' ', '<alt>', '<fn>']]"
      ]
     },
     "execution_count": 142,
     "metadata": {},
     "output_type": "execute_result"
    }
   ],
   "source": [
    "k.swap_cells_diff([1, 2], [1, 3])\n",
    "k.keyboard_low"
   ]
  },
  {
   "cell_type": "code",
   "execution_count": 143,
   "metadata": {},
   "outputs": [
    {
     "data": {
      "text/plain": [
       "[['~', '!', '@', '#', '$', '%', '^', '&', '*', '(', ')', '_', '+', '<back>'],\n",
       " ['\\t', 'S', 'W', 'w', 'R', 'T', 'Y', 'U', 'I', 'O', 'P', '{', '}', '|'],\n",
       " ['<caps>', 'A', 'Q', 'D', 'F', 'G', 'H', 'J', 'K', 'L', ':', '\"', '\\n'],\n",
       " ['<shift>', 'Z', 'X', 'C', 'V', 'B', 'N', 'M', '<', '>', '?', '<shift>'],\n",
       " ['<win>', '<alt>', ' ', ' ', ' ', ' ', ' ', ' ', '<alt>', '<fn>']]"
      ]
     },
     "execution_count": 143,
     "metadata": {},
     "output_type": "execute_result"
    }
   ],
   "source": [
    "k.keyboard_high"
   ]
  },
  {
   "cell_type": "code",
   "execution_count": 144,
   "metadata": {},
   "outputs": [
    {
     "data": {
      "text/plain": [
       "([], [], [[1, 3]], [[1, 2]])"
      ]
     },
     "execution_count": 144,
     "metadata": {},
     "output_type": "execute_result"
    }
   ],
   "source": [
    "(\n",
    "    k.low_dict[\"w\"],\n",
    "    k.high_dict[\"E\"],\n",
    "    k.high_dict[\"w\"],\n",
    "    k.low_dict[\"E\"],\n",
    ")"
   ]
  },
  {
   "cell_type": "code",
   "execution_count": 145,
   "metadata": {},
   "outputs": [
    {
     "name": "stdout",
     "output_type": "stream",
     "text": [
      "Name: левый мизинец\t\t Typed keys: 0\t Current counter: 0\t Current position: [2, 1]\t Default position: [2, 1]\n",
      "Name: левый безымянный\t\t Typed keys: 0\t Current counter: 0\t Current position: [2, 2]\t Default position: [2, 2]\n",
      "Name: левый средний\t\t Typed keys: 0\t Current counter: 0\t Current position: [2, 3]\t Default position: [2, 3]\n",
      "Name: левый указательный\t\t Typed keys: 0\t Current counter: 0\t Current position: [2, 4]\t Default position: [2, 4]\n",
      "Name: левый большой\t\t Typed keys: 0\t Current counter: 0\t Current position: [4, 3]\t Default position: [4, 3]\n",
      "Name: правый большой\t\t Typed keys: 0\t Current counter: 0\t Current position: [4, 6]\t Default position: [4, 6]\n",
      "Name: правый указательный\t\t Typed keys: 0\t Current counter: 0\t Current position: [2, 7]\t Default position: [2, 7]\n",
      "Name: правый средний\t\t Typed keys: 0\t Current counter: 0\t Current position: [2, 8]\t Default position: [2, 8]\n",
      "Name: правый безымянный\t\t Typed keys: 0\t Current counter: 0\t Current position: [2, 9]\t Default position: [2, 9]\n",
      "Name: правый мизинец\t\t Typed keys: 0\t Current counter: 0\t Current position: [2, 10]\t Default position: [2, 10]\n"
     ]
    }
   ],
   "source": [
    "k.show_fingers_stat()"
   ]
  },
  {
   "cell_type": "code",
   "execution_count": 146,
   "metadata": {},
   "outputs": [
    {
     "name": "stdout",
     "output_type": "stream",
     "text": [
      "H: правый указательный+левый мизинец\n",
      "i: правый средний\n",
      " : левый большой\n",
      "m: правый большой\n",
      "y: правый указательный\n",
      " : левый большой\n",
      "n: правый большой\n",
      "a: левый мизинец\n",
      "m: правый указательный\n",
      "e: левый средний\n",
      " : левый большой\n",
      "i: правый средний\n",
      "s: левый мизинец\n",
      " : левый большой\n",
      "S: левый мизинец+правый мизинец\n",
      "e: левый средний\n",
      "v: левый указательный\n",
      "a: левый мизинец\n",
      "!: левый мизинец+правый мизинец\n"
     ]
    },
    {
     "data": {
      "text/plain": [
       "32.096399481450646"
      ]
     },
     "execution_count": 146,
     "metadata": {},
     "output_type": "execute_result"
    }
   ],
   "source": [
    "k.type_string(\"Hi my name is Seva!\")"
   ]
  },
  {
   "cell_type": "code",
   "execution_count": 147,
   "metadata": {},
   "outputs": [
    {
     "name": "stdout",
     "output_type": "stream",
     "text": [
      "Name: левый мизинец\t\t Typed keys: 6\t Current counter: 3\t Current position: [0, 1]\t Default position: [2, 1]\n",
      "Name: левый безымянный\t\t Typed keys: 0\t Current counter: 0\t Current position: [2, 2]\t Default position: [2, 2]\n",
      "Name: левый средний\t\t Typed keys: 2\t Current counter: 0\t Current position: [2, 3]\t Default position: [2, 3]\n",
      "Name: левый указательный\t\t Typed keys: 1\t Current counter: 1\t Current position: [3, 4]\t Default position: [2, 4]\n",
      "Name: левый большой\t\t Typed keys: 4\t Current counter: 0\t Current position: [4, 3]\t Default position: [4, 3]\n",
      "Name: правый большой\t\t Typed keys: 2\t Current counter: 0\t Current position: [4, 6]\t Default position: [4, 6]\n",
      "Name: правый указательный\t\t Typed keys: 3\t Current counter: 0\t Current position: [2, 7]\t Default position: [2, 7]\n",
      "Name: правый средний\t\t Typed keys: 2\t Current counter: 0\t Current position: [2, 8]\t Default position: [2, 8]\n",
      "Name: правый безымянный\t\t Typed keys: 0\t Current counter: 0\t Current position: [2, 9]\t Default position: [2, 9]\n",
      "Name: правый мизинец\t\t Typed keys: 2\t Current counter: 3\t Current position: [3, 11]\t Default position: [2, 10]\n"
     ]
    }
   ],
   "source": [
    "k.show_fingers_stat()"
   ]
  },
  {
   "cell_type": "code",
   "execution_count": 148,
   "metadata": {},
   "outputs": [
    {
     "name": "stdout",
     "output_type": "stream",
     "text": [
      "Name: левый мизинец\t\t Typed keys: 0\t Current counter: 0\t Current position: [2, 1]\t Default position: [2, 1]\n",
      "Name: левый безымянный\t\t Typed keys: 0\t Current counter: 0\t Current position: [2, 2]\t Default position: [2, 2]\n",
      "Name: левый средний\t\t Typed keys: 0\t Current counter: 0\t Current position: [2, 3]\t Default position: [2, 3]\n",
      "Name: левый указательный\t\t Typed keys: 0\t Current counter: 0\t Current position: [2, 4]\t Default position: [2, 4]\n",
      "Name: левый большой\t\t Typed keys: 0\t Current counter: 0\t Current position: [4, 3]\t Default position: [4, 3]\n",
      "Name: правый большой\t\t Typed keys: 0\t Current counter: 0\t Current position: [4, 6]\t Default position: [4, 6]\n",
      "Name: правый указательный\t\t Typed keys: 0\t Current counter: 0\t Current position: [2, 7]\t Default position: [2, 7]\n",
      "Name: правый средний\t\t Typed keys: 0\t Current counter: 0\t Current position: [2, 8]\t Default position: [2, 8]\n",
      "Name: правый безымянный\t\t Typed keys: 0\t Current counter: 0\t Current position: [2, 9]\t Default position: [2, 9]\n",
      "Name: правый мизинец\t\t Typed keys: 0\t Current counter: 0\t Current position: [2, 10]\t Default position: [2, 10]\n"
     ]
    }
   ],
   "source": [
    "k.reset_keyboard()\n",
    "k.show_fingers_stat()"
   ]
  },
  {
   "cell_type": "markdown",
   "metadata": {},
   "source": [
    "As we can see, we successfully can swap different keys in given keyboard and calculate distance function fro given string.\n"
   ]
  },
  {
   "cell_type": "markdown",
   "metadata": {},
   "source": [
    "# Check\n",
    "\n",
    "let's check on some program from this [dataset](https://www.kaggle.com/datasets/joshuwamiller/software-code-dataset-cc).\n"
   ]
  },
  {
   "cell_type": "code",
   "execution_count": 14,
   "metadata": {},
   "outputs": [
    {
     "data": {
      "text/plain": [
       "14"
      ]
     },
     "execution_count": 14,
     "metadata": {},
     "output_type": "execute_result"
    }
   ],
   "source": [
    "import pandas as pd\n",
    "\n",
    "df = pd.read_csv(\"./validated/200717.cpp.csv\", sep=\"`\")\n",
    "temp = df[\"code\"]\n",
    "len(temp)"
   ]
  },
  {
   "cell_type": "code",
   "execution_count": 15,
   "metadata": {},
   "outputs": [],
   "source": [
    "temp_sent = \"\\n\".join(temp)"
   ]
  },
  {
   "cell_type": "code",
   "execution_count": 16,
   "metadata": {},
   "outputs": [
    {
     "data": {
      "text/plain": [
       "'void update(bool flag[DIM][DIM], string type, string pos) {\\n\\tint x=pos[0]-\\'a\\', y=pos[1]-\\'1\\';\\n\\tif(type==\"rook\") {\\n\\t\\tfor (int i=0; i<DIM; i++) {\\n\\t\\t\\tfor (int j=0; j<DIM; j++) {\\n\\t\\t\\t\\tif((i==x || j==y) && !(i==x && j==y)) flag[i][j]=true;\\n\\t\\tfor (int i=-1; i<=1; i++) {\\n\\t\\t\\tfor (int j=-1; j<=1; j++) {\\n\\t\\t\\t\\tif(!(i==0 && j==0)) {\\n\\t\\t\\t\\t\\tint u=x+i, v=y+j;\\n\\t\\t\\t\\t\\tif(0<=u && u<DIM && 0<=v && v<DIM) flag[u][v]=true;\\nint main() {\\n\\tbool flag[DIM][DIM];\\n\\tfor (int i=0; i<DIM; i++) for (int j=0; j<DIM; j++) flag[i][j]=false;'"
      ]
     },
     "execution_count": 16,
     "metadata": {},
     "output_type": "execute_result"
    }
   ],
   "source": [
    "temp_sent"
   ]
  },
  {
   "cell_type": "code",
   "execution_count": 17,
   "metadata": {},
   "outputs": [
    {
     "data": {
      "text/plain": [
       "972.7854054794448"
      ]
     },
     "execution_count": 17,
     "metadata": {},
     "output_type": "execute_result"
    }
   ],
   "source": [
    "k1 = keyboard(QWERTY_LOW_LAYOUT, high_layout, low_layout_dict, high_dict)\n",
    "k1.type_string(temp_sent)"
   ]
  },
  {
   "cell_type": "code",
   "execution_count": 18,
   "metadata": {},
   "outputs": [
    {
     "data": {
      "text/plain": [
       "[['`', '1', '2', '3', '4', '5', '6', '7', '8', '9', '0', '-', '=', '<back>'],\n",
       " ['\\t', 'q', 'w', 'e', 'r', 't', 'y', 'u', 'i', 'o', 'p', '[', ']', '\\\\'],\n",
       " ['<caps>', 'a', 's', 'd', 'f', 'g', 'h', 'j', 'k', 'l', ';', \"'\", '\\n'],\n",
       " ['<shift>', 'z', 'x', 'c', 'v', 'b', 'n', 'm', ',', '.', '/', '<shift>'],\n",
       " ['<win>', '<alt>', ' ', ' ', ' ', ' ', ' ', ' ', '<alt>', '<fn>']]"
      ]
     },
     "execution_count": 18,
     "metadata": {},
     "output_type": "execute_result"
    }
   ],
   "source": [
    "k1.keyboard_low"
   ]
  },
  {
   "cell_type": "markdown",
   "metadata": {},
   "source": [
    "Everything works\n"
   ]
  },
  {
   "cell_type": "markdown",
   "metadata": {},
   "source": [
    "## Build cpp dataset\n"
   ]
  },
  {
   "cell_type": "code",
   "execution_count": null,
   "metadata": {},
   "outputs": [],
   "source": [
    "import os\n",
    "\n",
    "from tqdm import tqdm\n",
    "\n",
    "count = 0\n",
    "directory = \"./validated\"\n",
    "sentences = []\n",
    "for filename in tqdm(os.listdir(directory)):\n",
    "    f = os.path.join(directory, filename)\n",
    "    df = pd.read_csv(f, sep=\"`\")\n",
    "    temp = df[\"code\"]\n",
    "    temp_sent = \"\\n\".join(temp)\n",
    "    sentences.append(temp_sent)\n",
    "    count += 1"
   ]
  },
  {
   "cell_type": "code",
   "execution_count": null,
   "metadata": {},
   "outputs": [
    {
     "data": {
      "text/html": [
       "<div>\n",
       "<style scoped>\n",
       "    .dataframe tbody tr th:only-of-type {\n",
       "        vertical-align: middle;\n",
       "    }\n",
       "\n",
       "    .dataframe tbody tr th {\n",
       "        vertical-align: top;\n",
       "    }\n",
       "\n",
       "    .dataframe thead th {\n",
       "        text-align: right;\n",
       "    }\n",
       "</style>\n",
       "<table border=\"1\" class=\"dataframe\">\n",
       "  <thead>\n",
       "    <tr style=\"text-align: right;\">\n",
       "      <th></th>\n",
       "      <th>0</th>\n",
       "    </tr>\n",
       "  </thead>\n",
       "  <tbody>\n",
       "    <tr>\n",
       "      <th>0</th>\n",
       "      <td>point operator-(point p1,point p2)\\n  p1.x-=p2...</td>\n",
       "    </tr>\n",
       "    <tr>\n",
       "      <th>1</th>\n",
       "      <td>int main() {\\n    map&lt;char, int&gt; m;\\n    m['6'...</td>\n",
       "    </tr>\n",
       "    <tr>\n",
       "      <th>2</th>\n",
       "      <td>int main()\\n\\tint n,s[1001],cnt=0;\\n\\tscanf(\"%...</td>\n",
       "    </tr>\n",
       "    <tr>\n",
       "      <th>3</th>\n",
       "      <td>int main() {\\n\\tcin &gt;&gt; n;\\n\\tfor (int i = 0; i...</td>\n",
       "    </tr>\n",
       "    <tr>\n",
       "      <th>4</th>\n",
       "      <td>int main()\\n      char a, b, c, d, kozir;\\n ...</td>\n",
       "    </tr>\n",
       "  </tbody>\n",
       "</table>\n",
       "</div>"
      ],
      "text/plain": [
       "                                                   0\n",
       "0  point operator-(point p1,point p2)\\n  p1.x-=p2...\n",
       "1  int main() {\\n    map<char, int> m;\\n    m['6'...\n",
       "2  int main()\\n\\tint n,s[1001],cnt=0;\\n\\tscanf(\"%...\n",
       "3  int main() {\\n\\tcin >> n;\\n\\tfor (int i = 0; i...\n",
       "4    int main()\\n      char a, b, c, d, kozir;\\n ..."
      ]
     },
     "execution_count": 78,
     "metadata": {},
     "output_type": "execute_result"
    }
   ],
   "source": [
    "cpp_programs = pd.DataFrame(sentences)\n",
    "cpp_programs.head()"
   ]
  },
  {
   "cell_type": "code",
   "execution_count": null,
   "metadata": {},
   "outputs": [],
   "source": [
    "cpp_programs.columns = [\"text\"]"
   ]
  },
  {
   "cell_type": "code",
   "execution_count": null,
   "metadata": {},
   "outputs": [
    {
     "data": {
      "text/html": [
       "<div>\n",
       "<style scoped>\n",
       "    .dataframe tbody tr th:only-of-type {\n",
       "        vertical-align: middle;\n",
       "    }\n",
       "\n",
       "    .dataframe tbody tr th {\n",
       "        vertical-align: top;\n",
       "    }\n",
       "\n",
       "    .dataframe thead th {\n",
       "        text-align: right;\n",
       "    }\n",
       "</style>\n",
       "<table border=\"1\" class=\"dataframe\">\n",
       "  <thead>\n",
       "    <tr style=\"text-align: right;\">\n",
       "      <th></th>\n",
       "      <th>text</th>\n",
       "    </tr>\n",
       "  </thead>\n",
       "  <tbody>\n",
       "    <tr>\n",
       "      <th>0</th>\n",
       "      <td>point operator-(point p1,point p2)\\n  p1.x-=p2...</td>\n",
       "    </tr>\n",
       "    <tr>\n",
       "      <th>1</th>\n",
       "      <td>int main() {\\n    map&lt;char, int&gt; m;\\n    m['6'...</td>\n",
       "    </tr>\n",
       "    <tr>\n",
       "      <th>2</th>\n",
       "      <td>int main()\\n\\tint n,s[1001],cnt=0;\\n\\tscanf(\"%...</td>\n",
       "    </tr>\n",
       "    <tr>\n",
       "      <th>3</th>\n",
       "      <td>int main() {\\n\\tcin &gt;&gt; n;\\n\\tfor (int i = 0; i...</td>\n",
       "    </tr>\n",
       "    <tr>\n",
       "      <th>4</th>\n",
       "      <td>int main()\\n      char a, b, c, d, kozir;\\n ...</td>\n",
       "    </tr>\n",
       "  </tbody>\n",
       "</table>\n",
       "</div>"
      ],
      "text/plain": [
       "                                                text\n",
       "0  point operator-(point p1,point p2)\\n  p1.x-=p2...\n",
       "1  int main() {\\n    map<char, int> m;\\n    m['6'...\n",
       "2  int main()\\n\\tint n,s[1001],cnt=0;\\n\\tscanf(\"%...\n",
       "3  int main() {\\n\\tcin >> n;\\n\\tfor (int i = 0; i...\n",
       "4    int main()\\n      char a, b, c, d, kozir;\\n ..."
      ]
     },
     "execution_count": 81,
     "metadata": {},
     "output_type": "execute_result"
    }
   ],
   "source": [
    "cpp_programs.head()"
   ]
  },
  {
   "cell_type": "code",
   "execution_count": null,
   "metadata": {},
   "outputs": [
    {
     "data": {
      "text/plain": [
       "(119989, 119989)"
      ]
     },
     "execution_count": 82,
     "metadata": {},
     "output_type": "execute_result"
    }
   ],
   "source": [
    "len(sentences), len(cpp_programs)"
   ]
  },
  {
   "cell_type": "code",
   "execution_count": null,
   "metadata": {},
   "outputs": [],
   "source": [
    "cpp_programs.to_csv(\"./cpp_programs.csv\")"
   ]
  },
  {
   "cell_type": "code",
   "execution_count": null,
   "metadata": {},
   "outputs": [
    {
     "data": {
      "text/html": [
       "<div>\n",
       "<style scoped>\n",
       "    .dataframe tbody tr th:only-of-type {\n",
       "        vertical-align: middle;\n",
       "    }\n",
       "\n",
       "    .dataframe tbody tr th {\n",
       "        vertical-align: top;\n",
       "    }\n",
       "\n",
       "    .dataframe thead th {\n",
       "        text-align: right;\n",
       "    }\n",
       "</style>\n",
       "<table border=\"1\" class=\"dataframe\">\n",
       "  <thead>\n",
       "    <tr style=\"text-align: right;\">\n",
       "      <th></th>\n",
       "      <th>text</th>\n",
       "    </tr>\n",
       "  </thead>\n",
       "  <tbody>\n",
       "    <tr>\n",
       "      <th>0</th>\n",
       "      <td>point operator-(point p1,point p2)\\n  p1.x-=p2...</td>\n",
       "    </tr>\n",
       "    <tr>\n",
       "      <th>1</th>\n",
       "      <td>int main() {\\n    map&lt;char, int&gt; m;\\n    m['6'...</td>\n",
       "    </tr>\n",
       "    <tr>\n",
       "      <th>2</th>\n",
       "      <td>int main()\\n\\tint n,s[1001],cnt=0;\\n\\tscanf(\"%...</td>\n",
       "    </tr>\n",
       "    <tr>\n",
       "      <th>3</th>\n",
       "      <td>int main() {\\n\\tcin &gt;&gt; n;\\n\\tfor (int i = 0; i...</td>\n",
       "    </tr>\n",
       "    <tr>\n",
       "      <th>4</th>\n",
       "      <td>int main()\\n      char a, b, c, d, kozir;\\n ...</td>\n",
       "    </tr>\n",
       "  </tbody>\n",
       "</table>\n",
       "</div>"
      ],
      "text/plain": [
       "                                                text\n",
       "0  point operator-(point p1,point p2)\\n  p1.x-=p2...\n",
       "1  int main() {\\n    map<char, int> m;\\n    m['6'...\n",
       "2  int main()\\n\\tint n,s[1001],cnt=0;\\n\\tscanf(\"%...\n",
       "3  int main() {\\n\\tcin >> n;\\n\\tfor (int i = 0; i...\n",
       "4    int main()\\n      char a, b, c, d, kozir;\\n ..."
      ]
     },
     "execution_count": 85,
     "metadata": {},
     "output_type": "execute_result"
    }
   ],
   "source": [
    "test_df = pd.read_csv(\"./cpp_programs.csv\", index_col=0)\n",
    "test_df.head()"
   ]
  },
  {
   "cell_type": "code",
   "execution_count": null,
   "metadata": {},
   "outputs": [],
   "source": []
  }
 ],
 "metadata": {
  "kernelspec": {
   "display_name": "d_env",
   "language": "python",
   "name": "python3"
  },
  "language_info": {
   "codemirror_mode": {
    "name": "ipython",
    "version": 3
   },
   "file_extension": ".py",
   "mimetype": "text/x-python",
   "name": "python",
   "nbconvert_exporter": "python",
   "pygments_lexer": "ipython3",
   "version": "3.11.0"
  }
 },
 "nbformat": 4,
 "nbformat_minor": 2
}

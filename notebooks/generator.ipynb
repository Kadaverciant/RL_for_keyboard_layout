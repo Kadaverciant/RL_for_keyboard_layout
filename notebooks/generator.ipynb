{
 "cells": [
  {
   "cell_type": "markdown",
   "metadata": {},
   "source": [
    "# Main generator\n"
   ]
  },
  {
   "cell_type": "code",
   "execution_count": 32,
   "metadata": {},
   "outputs": [],
   "source": [
    "import random\n",
    "from copy import deepcopy\n",
    "from typing import Literal, Optional\n",
    "\n",
    "import numpy as np\n",
    "import pandas as pd\n",
    "import torch\n",
    "from tqdm import tqdm"
   ]
  },
  {
   "cell_type": "code",
   "execution_count": 33,
   "metadata": {},
   "outputs": [],
   "source": [
    "# Without alignment\n",
    "QWERTY_LOW_LAYOUT_: list[list[str]] = [\n",
    "    [\"`\", \"1\", \"2\", \"3\", \"4\", \"5\", \"6\", \"7\", \"8\", \"9\", \"0\", \"-\", \"=\", \"<back>\"],\n",
    "    [\"<tab>\", \"q\", \"w\", \"e\", \"r\", \"t\", \"y\", \"u\", \"i\", \"o\", \"p\", \"[\", \"]\", \"\\\\\"],\n",
    "    [\"<caps>\", \"a\", \"s\", \"d\", \"f\", \"g\", \"h\", \"j\", \"k\", \"l\", \";\", \"'\", \"<enter>\"],\n",
    "    [\"<shift>\", \"z\", \"x\", \"c\", \"v\", \"b\", \"n\", \"m\", \",\", \".\", \"/\", \"<shift>\"],\n",
    "    [\n",
    "        \"<ctrl>\",\n",
    "        \"<alt>\",\n",
    "        \"<space>\",\n",
    "        \"<space>\",\n",
    "        \"<space>\",\n",
    "        \"<space>\",\n",
    "        \"<space>\",\n",
    "        \"<space>\",\n",
    "        \"<alt>\",\n",
    "        \"<ctrl>\",\n",
    "    ],\n",
    "]\n",
    "\n",
    "QWERTY_HIGH_LAYOUT_: list[list[str]] = [\n",
    "    [\"~\", \"!\", \"@\", \"#\", \"$\", \"%\", \"^\", \"&\", \"*\", \"(\", \")\", \"_\", \"+\", \"<back>\"],\n",
    "    [\"<tab>\", \"Q\", \"W\", \"E\", \"R\", \"T\", \"Y\", \"U\", \"I\", \"O\", \"P\", \"{\", \"}\", \"|\"],\n",
    "    [\"<caps>\", \"A\", \"S\", \"D\", \"F\", \"G\", \"H\", \"J\", \"K\", \"L\", \":\", '\"', \"<enter>\"],\n",
    "    [\"<shift>\", \"Z\", \"X\", \"C\", \"V\", \"B\", \"N\", \"M\", \"<\", \">\", \"?\", \"<shift>\"],\n",
    "    [\n",
    "        \"<ctrl>\",\n",
    "        \"<alt>\",\n",
    "        \"<space>\",\n",
    "        \"<space>\",\n",
    "        \"<space>\",\n",
    "        \"<space>\",\n",
    "        \"<space>\",\n",
    "        \"<space>\",\n",
    "        \"<alt>\",\n",
    "        \"<ctrl>\",\n",
    "    ],\n",
    "]"
   ]
  },
  {
   "cell_type": "code",
   "execution_count": 34,
   "metadata": {},
   "outputs": [],
   "source": [
    "QWERTY_LOW_LAYOUT: list[list[str]] = [\n",
    "    [\"`\", \"1\", \"2\", \"3\", \"4\", \"5\", \"6\", \"7\", \"8\", \"9\", \"0\", \"-\", \"=\", \"<back>\"],\n",
    "    [\"<tab>\", \"q\", \"w\", \"e\", \"r\", \"t\", \"y\", \"u\", \"i\", \"o\", \"p\", \"[\", \"]\", \"\\\\\"],\n",
    "    [\n",
    "        \"<caps>\",\n",
    "        \"a\",\n",
    "        \"s\",\n",
    "        \"d\",\n",
    "        \"f\",\n",
    "        \"g\",\n",
    "        \"h\",\n",
    "        \"j\",\n",
    "        \"k\",\n",
    "        \"l\",\n",
    "        \";\",\n",
    "        \"'\",\n",
    "        \"<enter>\",\n",
    "        \"<enter>\",\n",
    "    ],\n",
    "    [\n",
    "        \"<shift>\",\n",
    "        \"<shift>\",\n",
    "        \"z\",\n",
    "        \"x\",\n",
    "        \"c\",\n",
    "        \"v\",\n",
    "        \"b\",\n",
    "        \"n\",\n",
    "        \"m\",\n",
    "        \",\",\n",
    "        \".\",\n",
    "        \"/\",\n",
    "        \"<shift>\",\n",
    "        \"<shift>\",\n",
    "    ],\n",
    "    [\n",
    "        \"<ctrl>\",\n",
    "        \"<alt>\",\n",
    "        \"<space>\",\n",
    "        \"<space>\",\n",
    "        \"<space>\",\n",
    "        \"<space>\",\n",
    "        \"<space>\",\n",
    "        \"<space>\",\n",
    "        \"<space>\",\n",
    "        \"<alt>\",\n",
    "        \"<ctrl>\",\n",
    "    ],\n",
    "]\n",
    "\n",
    "QWERTY_HIGH_LAYOUT: list[list[str]] = [\n",
    "    [\"~\", \"!\", \"@\", \"#\", \"$\", \"%\", \"^\", \"&\", \"*\", \"(\", \")\", \"_\", \"+\", \"<back>\"],\n",
    "    [\"<tab>\", \"Q\", \"W\", \"E\", \"R\", \"T\", \"Y\", \"U\", \"I\", \"O\", \"P\", \"{\", \"}\", \"|\"],\n",
    "    [\n",
    "        \"<caps>\",\n",
    "        \"A\",\n",
    "        \"S\",\n",
    "        \"D\",\n",
    "        \"F\",\n",
    "        \"G\",\n",
    "        \"H\",\n",
    "        \"J\",\n",
    "        \"K\",\n",
    "        \"L\",\n",
    "        \":\",\n",
    "        '\"',\n",
    "        \"<enter>\",\n",
    "        \"<enter>\",\n",
    "    ],\n",
    "    [\n",
    "        \"<shift>\",\n",
    "        \"<shift>\",\n",
    "        \"Z\",\n",
    "        \"X\",\n",
    "        \"C\",\n",
    "        \"V\",\n",
    "        \"B\",\n",
    "        \"N\",\n",
    "        \"M\",\n",
    "        \"<\",\n",
    "        \">\",\n",
    "        \"?\",\n",
    "        \"<shift>\",\n",
    "        \"<shift>\",\n",
    "    ],\n",
    "    [\n",
    "        \"<ctrl>\",\n",
    "        \"<alt>\",\n",
    "        \"<space>\",\n",
    "        \"<space>\",\n",
    "        \"<space>\",\n",
    "        \"<space>\",\n",
    "        \"<space>\",\n",
    "        \"<space>\",\n",
    "        \"<space>\",\n",
    "        \"<alt>\",\n",
    "        \"<ctrl>\",\n",
    "    ],\n",
    "]"
   ]
  },
  {
   "cell_type": "code",
   "execution_count": 35,
   "metadata": {},
   "outputs": [
    {
     "data": {
      "text/plain": [
       "(5, 14, 14, 14, 14, 11)"
      ]
     },
     "execution_count": 35,
     "metadata": {},
     "output_type": "execute_result"
    }
   ],
   "source": [
    "(\n",
    "    len(QWERTY_HIGH_LAYOUT),\n",
    "    len(QWERTY_HIGH_LAYOUT[0]),\n",
    "    len(QWERTY_HIGH_LAYOUT[1]),\n",
    "    len(QWERTY_HIGH_LAYOUT[2]),\n",
    "    len(QWERTY_HIGH_LAYOUT[3]),\n",
    "    len(QWERTY_HIGH_LAYOUT[4]),\n",
    ")"
   ]
  },
  {
   "cell_type": "code",
   "execution_count": 36,
   "metadata": {},
   "outputs": [],
   "source": [
    "def get_buttons_set(\n",
    "    low_layout: list[list[str]], high_layout: list[list[str]]\n",
    ") -> set[str]:\n",
    "    buttons: set[str] = set()\n",
    "\n",
    "    for layout in [low_layout, high_layout]:\n",
    "        for i in range(len(layout)):\n",
    "            for btn in layout[i]:\n",
    "                buttons.add(btn)\n",
    "\n",
    "    return buttons\n",
    "\n",
    "\n",
    "def get_keyboard_shape(layout: list[list[str]]) -> tuple[int, ...]:\n",
    "    shape = [len(row) for row in layout]\n",
    "\n",
    "    return tuple(shape)\n",
    "\n",
    "\n",
    "BUTTONS_SET = get_buttons_set(QWERTY_LOW_LAYOUT, QWERTY_HIGH_LAYOUT)\n",
    "KEYBOARD_LAYOUT_SHAPE = get_keyboard_shape(QWERTY_LOW_LAYOUT)\n",
    "KEYBOARD_LAYOUT_CUMSUM_SHAPE = np.cumsum(KEYBOARD_LAYOUT_SHAPE)\n",
    "KEYS = sum(KEYBOARD_LAYOUT_SHAPE) * 2"
   ]
  },
  {
   "cell_type": "code",
   "execution_count": 37,
   "metadata": {},
   "outputs": [],
   "source": [
    "def convert_int_to_cord(n: int) -> tuple[int, int, int]:\n",
    "    shift = 0\n",
    "    row = 0\n",
    "    column = 0\n",
    "    if n >= KEYS:\n",
    "        return 2, 0, 0\n",
    "    if n < 0:\n",
    "        return 2, 0, 0\n",
    "    if n >= KEYS // 2:\n",
    "        n -= KEYS // 2\n",
    "        shift = 1\n",
    "    for i in range(len(KEYBOARD_LAYOUT_CUMSUM_SHAPE)):\n",
    "        if n < KEYBOARD_LAYOUT_CUMSUM_SHAPE[i]:\n",
    "            row = i\n",
    "            break\n",
    "    if row > 0:\n",
    "        n -= KEYBOARD_LAYOUT_CUMSUM_SHAPE[row - 1]\n",
    "    column = n\n",
    "    return shift, row, column"
   ]
  },
  {
   "cell_type": "code",
   "execution_count": 38,
   "metadata": {},
   "outputs": [
    {
     "data": {
      "text/plain": [
       "(14, 14, 14, 14, 11)"
      ]
     },
     "execution_count": 38,
     "metadata": {},
     "output_type": "execute_result"
    }
   ],
   "source": [
    "KEYBOARD_LAYOUT_SHAPE"
   ]
  },
  {
   "cell_type": "code",
   "execution_count": 39,
   "metadata": {},
   "outputs": [],
   "source": [
    "def encode_decode_buttons(buttons: set[str]) -> tuple[dict[str, int], dict[int, str]]:\n",
    "    letters_dict = {}\n",
    "    for idx, letter in enumerate(\"abcdefghijklmnopqrsuvwxyz\"):\n",
    "        letters_dict[letter] = idx + 1\n",
    "        letters_dict[letter.upper()] = -(idx + 1)\n",
    "\n",
    "    encode_value = (len(letters_dict) // 2) + 1\n",
    "    encode_dict = {}\n",
    "    decode_dict = {}\n",
    "    for btn in buttons:\n",
    "        if btn in letters_dict:\n",
    "            decode_dict[letters_dict[btn]] = btn\n",
    "            encode_dict[btn] = letters_dict[btn]\n",
    "        else:\n",
    "            decode_dict[encode_value] = btn\n",
    "            encode_dict[btn] = encode_value\n",
    "            encode_value += 1\n",
    "    return encode_dict, decode_dict\n",
    "\n",
    "\n",
    "ENCODE_DICT, DECODE_DICT = encode_decode_buttons(BUTTONS_SET)\n",
    "ENCODED_BUTTONS_SET = {ENCODE_DICT[btn] for btn in BUTTONS_SET}\n",
    "SHIFT_CODE = ENCODE_DICT[\"<shift>\"]"
   ]
  },
  {
   "cell_type": "code",
   "execution_count": 40,
   "metadata": {},
   "outputs": [],
   "source": [
    "for btn in BUTTONS_SET:\n",
    "    assert btn == DECODE_DICT[ENCODE_DICT[btn]]"
   ]
  },
  {
   "cell_type": "code",
   "execution_count": 41,
   "metadata": {},
   "outputs": [],
   "source": [
    "Layout = list[list[int]]\n",
    "\n",
    "\n",
    "def encode_layout(layout: list[list[str]]) -> Layout:\n",
    "    return [[ENCODE_DICT[btn] for btn in layout[i]] for i in range(len(layout))]\n",
    "\n",
    "\n",
    "def decode_layout(layout: Layout) -> list[list[str]]:\n",
    "    return [[DECODE_DICT[btn] for btn in layout[i]] for i in range(len(layout))]\n",
    "\n",
    "\n",
    "QWERTY_ENCODED_HIGH: Layout = encode_layout(QWERTY_HIGH_LAYOUT)\n",
    "QWERTY_ENCODED_LOW: Layout = encode_layout(QWERTY_LOW_LAYOUT)"
   ]
  },
  {
   "cell_type": "code",
   "execution_count": 42,
   "metadata": {},
   "outputs": [],
   "source": [
    "def get_all_buttons_encoded(high_layout: Layout, low_layout: Layout) -> list[int]:\n",
    "    all_buttons = []\n",
    "\n",
    "    for layout in (low_layout, high_layout):\n",
    "        for row in layout:\n",
    "            all_buttons.extend(row)\n",
    "    return all_buttons\n",
    "\n",
    "\n",
    "ALL_BUTTONS_ENCODED = get_all_buttons_encoded(QWERTY_ENCODED_HIGH, QWERTY_ENCODED_LOW)"
   ]
  },
  {
   "cell_type": "code",
   "execution_count": 43,
   "metadata": {},
   "outputs": [],
   "source": [
    "LogType = Literal[\"basic\"] | Literal[\"debug\"] | Literal[\"error\"]\n",
    "\n",
    "\n",
    "class Logger:\n",
    "    def __init__(self, verbose: bool = True, hide_types: list[LogType] = []) -> None:\n",
    "        self.verbose = verbose\n",
    "        self.hide_types = set(hide_types)\n",
    "\n",
    "    def log(self, message: str, log_type: LogType = \"basic\") -> None:\n",
    "        if self.verbose and log_type not in self.hide_types:\n",
    "            print(message)\n",
    "\n",
    "\n",
    "LOGGER = Logger()"
   ]
  },
  {
   "cell_type": "code",
   "execution_count": 44,
   "metadata": {},
   "outputs": [],
   "source": [
    "Position = tuple[int, int]\n",
    "\n",
    "\n",
    "class Finger:\n",
    "    def __init__(\n",
    "        self, initial_position: Position, name: str, logger: Logger = LOGGER\n",
    "    ) -> None:\n",
    "        self.name = name\n",
    "        self.initial_position = initial_position\n",
    "\n",
    "        self.logger = logger\n",
    "\n",
    "        self.reset()\n",
    "\n",
    "        # Constants\n",
    "\n",
    "        self.wait_before_return = 4  # in ticks\n",
    "\n",
    "        self.long_row_move_shift = 3\n",
    "        self.long_row_move_penalty = 1\n",
    "\n",
    "        self.row_penalty_coefficient = 1\n",
    "        self.column_penalty_coefficient = 1.2\n",
    "\n",
    "    def reset(self):\n",
    "        self.current_position = self.initial_position\n",
    "        self.ticks_before_return = 0  # if == 0, returns to the initial position\n",
    "        self.typed_keys = 0\n",
    "\n",
    "    def move(self, position: Position):\n",
    "        self.current_position = position\n",
    "\n",
    "        self.ticks_before_return = self.wait_before_return\n",
    "        self.typed_keys += 1\n",
    "\n",
    "    def tick(self) -> float:\n",
    "        if self.ticks_before_return > 0:\n",
    "            self.ticks_before_return -= 1\n",
    "\n",
    "        if self.ticks_before_return == 0:\n",
    "            score = self.get_score(self.initial_position)\n",
    "            self.current_position = self.initial_position\n",
    "            return score\n",
    "\n",
    "        return 0\n",
    "\n",
    "    def get_score(self, target_position: Position) -> float:\n",
    "        x1, y1 = self.current_position\n",
    "        x2, y2 = target_position\n",
    "\n",
    "        row_distance = abs(x1 - x2) ** 2\n",
    "        column_distance = abs(y1 - y2) ** 2\n",
    "\n",
    "        penalty = 0\n",
    "        if row_distance > self.long_row_move_shift:\n",
    "            penalty = self.long_row_move_penalty\n",
    "        return (\n",
    "            row_distance * self.row_penalty_coefficient\n",
    "            + column_distance * self.column_penalty_coefficient\n",
    "            + penalty\n",
    "        )\n",
    "\n",
    "    def show_statistics(self):\n",
    "        self.logger.log(\n",
    "            f\"Name: {self.name:22} \\\n",
    "            Typed keys: {self.typed_keys:5} \\\n",
    "            Ticks before return: {self.ticks_before_return:5} \\\n",
    "            Current position: {self.current_position}\\t\\\n",
    "            Default position: {self.initial_position}\"\n",
    "        )"
   ]
  },
  {
   "cell_type": "code",
   "execution_count": 45,
   "metadata": {},
   "outputs": [],
   "source": [
    "DEFAULT_FINGERS: list[Finger] = [\n",
    "    Finger((2, 1), \"левый мизинец\"),\n",
    "    Finger((2, 2), \"левый безымянный\"),\n",
    "    Finger((2, 3), \"левый средний\"),\n",
    "    Finger((2, 4), \"левый указательный\"),\n",
    "    Finger((4, 3), \"левый большой\"),\n",
    "    Finger((4, 6), \"правый большой\"),\n",
    "    Finger((2, 7), \"правый указательный\"),\n",
    "    Finger((2, 8), \"правый средний\"),\n",
    "    Finger((2, 9), \"правый безымянный\"),\n",
    "    Finger((2, 10), \"правый мизинец\"),\n",
    "]\n",
    "\n",
    "SwapType = Literal[\"low_layout\"] | Literal[\"high_layout\"] | Literal[\"between_layouts\"]\n",
    "\n",
    "\n",
    "class KeyboardLayout:\n",
    "    @staticmethod\n",
    "    def layout_to_dict(\n",
    "        layout: Layout, unused_layout: Layout\n",
    "    ) -> dict[int, list[Position]]:\n",
    "        layout_dict: dict[int, list[Position]] = {}\n",
    "\n",
    "        for i in range(len(layout)):\n",
    "            for j in range(len(layout[i])):\n",
    "                button = layout[i][j]\n",
    "                if button in layout_dict:\n",
    "                    layout_dict[button].append((i, j))\n",
    "                else:\n",
    "                    layout_dict[button] = [(i, j)]\n",
    "\n",
    "        for i in range(len(unused_layout)):\n",
    "            for j in range(len(unused_layout[i])):\n",
    "                button = unused_layout[i][j]\n",
    "                if button not in layout_dict:\n",
    "                    layout_dict[button] = []\n",
    "\n",
    "        return layout_dict\n",
    "\n",
    "    def _finish_move(self):\n",
    "        for finger in self.fingers:\n",
    "            self.total_score += finger.tick()\n",
    "\n",
    "    def __init__(self, low_layout: Layout, high_layout: Layout, logger: Logger = LOGGER):\n",
    "        self.low_layout = deepcopy(low_layout)\n",
    "        self.high_layout = deepcopy(high_layout)\n",
    "\n",
    "        self.low_layout_dict = KeyboardLayout.layout_to_dict(\n",
    "            self.low_layout, self.high_layout\n",
    "        )\n",
    "        self.high_layout_dict = KeyboardLayout.layout_to_dict(\n",
    "            self.high_layout, self.low_layout\n",
    "        )\n",
    "\n",
    "        self.logger = logger\n",
    "\n",
    "        self.fingers = deepcopy(DEFAULT_FINGERS)\n",
    "\n",
    "        self.reset()\n",
    "\n",
    "    def reset(self):\n",
    "        self.total_score: float = 0\n",
    "        self.typed_keys: int = 0\n",
    "        for f in self.fingers:\n",
    "            f.reset()\n",
    "\n",
    "    def move_one_finger(\n",
    "        self, positions: list[Position], busy_finger_id: Optional[int] = None\n",
    "    ) -> tuple[tuple[int, Position], float]:\n",
    "        best_finger_id: int = 0\n",
    "        best_score = np.inf\n",
    "\n",
    "        final_position: Position = (0, 0)\n",
    "\n",
    "        for position in positions:\n",
    "            scores = [\n",
    "                finger.get_score(position) if i != busy_finger_id else np.inf\n",
    "                for i, finger in enumerate(self.fingers)\n",
    "            ]\n",
    "\n",
    "            candidate_finger_id = int(np.argmin(scores))\n",
    "            candidate_score = scores[candidate_finger_id]\n",
    "\n",
    "            if candidate_score < best_score:\n",
    "                best_score = candidate_score\n",
    "                best_finger_id = candidate_finger_id\n",
    "                final_position = position\n",
    "\n",
    "        return (best_finger_id, final_position), best_score\n",
    "\n",
    "    def move_two_fingers(\n",
    "        self, positions: list[Position]\n",
    "    ) -> tuple[tuple[int, Position], tuple[int, Position], float]:\n",
    "        shift_positions = self.low_layout_dict[SHIFT_CODE]\n",
    "        if len(shift_positions) == 0:\n",
    "            print(\"ERROR SHIFT IS UNREACHABLE\")\n",
    "            return (0, (0, 0)), (0, (0, 0)), 9999\n",
    "\n",
    "        # firstly reach SHIFT, then - positions\n",
    "        finger_shift_info_1, shift_distance_1 = self.move_one_finger(shift_positions)\n",
    "        finger_btn_info_1, d1_btn = self.move_one_finger(\n",
    "            positions, finger_shift_info_1[0]\n",
    "        )\n",
    "        total_distance_1 = shift_distance_1 + d1_btn\n",
    "\n",
    "        # firstly reach positions, then - SHIFT\n",
    "        finger_btn_info_2, d1_btn = self.move_one_finger(positions)\n",
    "        finger_shift_info_2, shift_distance_2 = self.move_one_finger(\n",
    "            shift_positions, finger_btn_info_2[0]\n",
    "        )\n",
    "        total_distance_2 = shift_distance_2 + d1_btn\n",
    "\n",
    "        if total_distance_1 < total_distance_2:\n",
    "            return finger_btn_info_1, finger_shift_info_1, total_distance_1\n",
    "\n",
    "        return finger_btn_info_2, finger_shift_info_2, total_distance_2\n",
    "\n",
    "    def find_button(self, button: int):\n",
    "        if button in self.low_layout_dict:\n",
    "            (finger_id, finger_position), score = self.move_one_finger(\n",
    "                self.low_layout_dict[button]\n",
    "            )\n",
    "\n",
    "            self.fingers[finger_id].move(finger_position)\n",
    "            self.total_score += score\n",
    "            self.typed_keys += 1\n",
    "\n",
    "            self.logger.log(f\"{button}:\\t{self.fingers[finger_id].name}\")\n",
    "\n",
    "        elif button in self.high_layout_dict:\n",
    "            (\n",
    "                (finger_id_1, finger_position_1),\n",
    "                (finger_id_2, finger_position_2),\n",
    "                score,\n",
    "            ) = self.move_two_fingers(self.high_layout_dict[button])\n",
    "\n",
    "            self.fingers[finger_id_1].move(finger_position_1)\n",
    "            self.fingers[finger_id_2].move(finger_position_2)\n",
    "            self.total_score += score\n",
    "            self.typed_keys += 2\n",
    "\n",
    "            self.logger.log(\n",
    "                f\"{button}:\\t{self.fingers[finger_id_1].name} + {self.fingers[finger_id_2].name}\"\n",
    "            )\n",
    "\n",
    "        else:\n",
    "            self.logger.log(f\"NO SUCH KEY: {button}\")\n",
    "\n",
    "        self._finish_move()\n",
    "\n",
    "    def type_text(self, text: list[str]) -> float:\n",
    "        for button in text:\n",
    "            self.find_button(ENCODE_DICT[button])\n",
    "\n",
    "        return self.total_score\n",
    "\n",
    "    def type_encoded_text(self, encoded_text: list[int]) -> float:\n",
    "        for button in encoded_text:\n",
    "            self.find_button(button)\n",
    "        return self.total_score\n",
    "\n",
    "    def swap_buttons(self, position1: Position, position2: Position, swap_type: SwapType):\n",
    "        if swap_type == \"high_layout\":\n",
    "            layout_from = layout_to = self.high_layout\n",
    "            layout_from_dict = layout_to_dict = self.high_layout_dict\n",
    "        elif swap_type == \"low_layout\":\n",
    "            layout_from = layout_to = self.low_layout\n",
    "            layout_from_dict = layout_to_dict = self.low_layout_dict\n",
    "        else:  # swap_type == \"between_layouts\"\n",
    "            layout_from = self.low_layout\n",
    "            layout_to = self.high_layout\n",
    "            layout_from_dict = self.low_layout_dict\n",
    "            layout_to_dict = self.high_layout_dict\n",
    "\n",
    "        x1, y1 = position1\n",
    "        btn1 = layout_from[x1][y1]\n",
    "        x2, y2 = position2\n",
    "        btn2 = layout_to[x2][y2]\n",
    "\n",
    "        layout_from[x1][y1], layout_to[x2][y2] = layout_to[x2][y2], layout_from[x1][y1]\n",
    "\n",
    "        layout_from_dict[btn1].remove(position1)\n",
    "        layout_to_dict[btn2].remove(position2)\n",
    "\n",
    "        if btn2 in layout_from_dict:\n",
    "            layout_from_dict[btn2].append(position1)\n",
    "        else:\n",
    "            layout_from_dict[btn2] = [position1]\n",
    "        if btn1 in layout_to_dict:\n",
    "            layout_to_dict[btn1].append(position2)\n",
    "        else:\n",
    "            layout_to_dict[btn1] = [position2]\n",
    "\n",
    "    def decode_layouts(self) -> tuple[list[list[str]], list[list[str]]]:\n",
    "        return (decode_layout(self.low_layout), decode_layout(self.high_layout))\n",
    "\n",
    "    def get_sting_layouts(self) -> str:\n",
    "        low_layout, high_layout = self.decode_layouts()\n",
    "        result_string = \"High layout:\\n\"\n",
    "        for row in high_layout:\n",
    "            for s in row:\n",
    "                result_string += f\"{s:8}\"\n",
    "            result_string += \"\\n\"\n",
    "        result_string += \"\\n\"\n",
    "\n",
    "        result_string += \"\\nLow layout:\\n\"\n",
    "        for row in low_layout:\n",
    "            for s in row:\n",
    "                result_string += f\"{s:8}\"\n",
    "            result_string += \"\\n\"\n",
    "        result_string += \"\\n\"\n",
    "\n",
    "        return result_string\n",
    "\n",
    "    def show_statistics(self):\n",
    "        self.logger.log(\"\\nStatistics:\")\n",
    "        for f in self.fingers:\n",
    "            f.show_statistics()\n",
    "\n",
    "    def flatten(self):\n",
    "        flatten = []\n",
    "        for row in self.low_layout:\n",
    "            flatten.extend(row)\n",
    "        for row in self.high_layout:\n",
    "            flatten.extend(row)\n",
    "        return torch.as_tensor(flatten, dtype=torch.float32)\n",
    "\n",
    "    def get_average_score(self) -> float:\n",
    "        return self.total_score / self.typed_keys"
   ]
  },
  {
   "cell_type": "code",
   "execution_count": 46,
   "metadata": {},
   "outputs": [
    {
     "data": {
      "text/plain": [
       "([[35, -21, 25, 16, 62, 15, 72, 38, 75, -23, -7, 47, -1, -24],\n",
       "  [53, 56, 32, 67, 27, 36, 67, -5, 60, 30, 67, 31, 67, 67],\n",
       "  [-18, 53, -13, 53, 19, 67, 46, 74, 21, 18, -20, 45, 69, 49],\n",
       "  [47, 67, 3, 17, 10, 47, 60, -9, 4, -10, -22, 55, 1, -8],\n",
       "  [53, 77, 54, 39, 20, 44, 14, 53, 57, 57, -19]],\n",
       " [[61, -3, 22, 7, 67, 33, 67, 36, -25, 71, 9, 67, 46, 28],\n",
       "  [53, -17, 41, 48, 36, 63, 76, 58, 60, -16, 42, 8, 26, 50],\n",
       "  [40, -12, 37, 65, 11, 67, 2, 51, 53, 34, 26, 68, -14, 23],\n",
       "  [36, 59, 67, 52, -11, 73, 29, 6, 53, 67, 67, -6, 60, 12],\n",
       "  [64, -15, 66, 5, 43, 24, 70, -4, 13, 47, -2]])"
      ]
     },
     "execution_count": 46,
     "metadata": {},
     "output_type": "execute_result"
    }
   ],
   "source": [
    "def generate_random_layout(\n",
    "    all_buttons_encoded: list[int],\n",
    "    keyboard_shape: tuple[int, ...],\n",
    "    seed: Optional[int] = None,\n",
    ") -> tuple[Layout, Layout]:\n",
    "    if seed is not None:\n",
    "        random.seed(seed)\n",
    "\n",
    "    all_buttons = all_buttons_encoded.copy()\n",
    "\n",
    "    low_layout = [[0 for _ in range(row_length)] for row_length in keyboard_shape]\n",
    "    high_layout = [[0 for _ in range(row_length)] for row_length in keyboard_shape]\n",
    "\n",
    "    # Push single SHIFT to the low layout\n",
    "    all_buttons.remove(SHIFT_CODE)\n",
    "    random.shuffle(all_buttons)\n",
    "\n",
    "    shift_position_low_layout = random.randint(0, len(all_buttons_encoded) // 2)\n",
    "    all_buttons.insert(shift_position_low_layout, SHIFT_CODE)\n",
    "    pointer = 0\n",
    "    for layout in (low_layout, high_layout):\n",
    "        for i, row_length in enumerate(keyboard_shape):\n",
    "            for j in range(row_length):\n",
    "                layout[i][j] = all_buttons[pointer]\n",
    "                pointer += 1\n",
    "\n",
    "    return low_layout, high_layout\n",
    "\n",
    "\n",
    "sample_low_layout, sample_high_layout = generate_random_layout(\n",
    "    ALL_BUTTONS_ENCODED, KEYBOARD_LAYOUT_SHAPE\n",
    ")\n",
    "sample_low_layout, sample_high_layout"
   ]
  },
  {
   "cell_type": "markdown",
   "metadata": {},
   "source": [
    "### Test Keyboard"
   ]
  },
  {
   "cell_type": "code",
   "execution_count": 47,
   "metadata": {},
   "outputs": [
    {
     "name": "stdout",
     "output_type": "stream",
     "text": [
      "High layout:\n",
      "~       !       @       #       $       %       ^       &       *       (       )       _       +       <back>  \n",
      "<tab>   Q       W       E       R       T       Y       U       I       O       P       {       }       |       \n",
      "<caps>  A       S       D       F       G       H       J       K       L       :       \"       <enter> <enter> \n",
      "<shift> <shift> Z       X       C       V       B       N       M       <       >       ?       <shift> <shift> \n",
      "<ctrl>  <alt>   <space> <space> <space> <space> <space> <space> <space> <alt>   <ctrl>  \n",
      "\n",
      "\n",
      "Low layout:\n",
      "`       1       2       3       4       5       6       7       8       9       0       -       =       <back>  \n",
      "<tab>   q       w       e       r       t       y       u       i       o       p       [       ]       \\       \n",
      "<caps>  a       s       d       f       g       h       j       k       l       ;       '       <enter> <enter> \n",
      "<shift> <shift> z       x       c       v       b       n       m       ,       .       /       <shift> <shift> \n",
      "<ctrl>  <alt>   <space> <space> <space> <space> <space> <space> <space> <alt>   <ctrl>  \n",
      "\n",
      "\n"
     ]
    }
   ],
   "source": [
    "qwerty_keyboard = KeyboardLayout(QWERTY_ENCODED_LOW, QWERTY_ENCODED_HIGH, LOGGER)\n",
    "print(qwerty_keyboard.get_sting_layouts())"
   ]
  },
  {
   "cell_type": "code",
   "execution_count": 48,
   "metadata": {},
   "outputs": [
    {
     "name": "stdout",
     "output_type": "stream",
     "text": [
      "[(2, 2)]\n",
      "[(0, 2)]\n",
      "[(2, 2)]\n",
      "[(0, 2)]\n"
     ]
    }
   ],
   "source": [
    "print(qwerty_keyboard.low_layout_dict[ENCODE_DICT[\"s\"]])\n",
    "print(qwerty_keyboard.low_layout_dict[ENCODE_DICT[\"2\"]])\n",
    "print(qwerty_keyboard.high_layout_dict[ENCODE_DICT[\"S\"]])\n",
    "print(qwerty_keyboard.high_layout_dict[ENCODE_DICT[\"@\"]])"
   ]
  },
  {
   "cell_type": "code",
   "execution_count": 49,
   "metadata": {},
   "outputs": [
    {
     "name": "stdout",
     "output_type": "stream",
     "text": [
      "[(0, 2)]\n",
      "[(2, 2)]\n",
      "[(0, 2)]\n",
      "[(2, 2)]\n"
     ]
    }
   ],
   "source": [
    "qwerty_keyboard.swap_buttons((2, 2), (0, 2), \"low_layout\")\n",
    "qwerty_keyboard.swap_buttons((2, 2), (0, 2), \"high_layout\")\n",
    "\n",
    "print(qwerty_keyboard.low_layout_dict[ENCODE_DICT[\"s\"]])\n",
    "print(qwerty_keyboard.low_layout_dict[ENCODE_DICT[\"2\"]])\n",
    "print(qwerty_keyboard.high_layout_dict[ENCODE_DICT[\"S\"]])\n",
    "print(qwerty_keyboard.high_layout_dict[ENCODE_DICT[\"@\"]])"
   ]
  },
  {
   "cell_type": "code",
   "execution_count": 50,
   "metadata": {},
   "outputs": [
    {
     "name": "stdout",
     "output_type": "stream",
     "text": [
      "45\n",
      "-24\n"
     ]
    }
   ],
   "source": [
    "print(qwerty_keyboard.low_layout[0][5])\n",
    "print(qwerty_keyboard.high_layout[1][6])"
   ]
  },
  {
   "cell_type": "code",
   "execution_count": 51,
   "metadata": {},
   "outputs": [
    {
     "name": "stdout",
     "output_type": "stream",
     "text": [
      "-24\n",
      "45\n"
     ]
    }
   ],
   "source": [
    "qwerty_keyboard.swap_buttons((0, 5), (1, 6), \"between_layouts\")\n",
    "print(qwerty_keyboard.low_layout[0][5])\n",
    "print(qwerty_keyboard.high_layout[1][6])"
   ]
  },
  {
   "cell_type": "code",
   "execution_count": 52,
   "metadata": {},
   "outputs": [
    {
     "name": "stdout",
     "output_type": "stream",
     "text": [
      "\n",
      "Statistics:\n",
      "Name: левый мизинец                      Typed keys:     0             Ticks before return:     0             Current position: (2, 1)\t            Default position: (2, 1)\n",
      "Name: левый безымянный                   Typed keys:     0             Ticks before return:     0             Current position: (2, 2)\t            Default position: (2, 2)\n",
      "Name: левый средний                      Typed keys:     0             Ticks before return:     0             Current position: (2, 3)\t            Default position: (2, 3)\n",
      "Name: левый указательный                 Typed keys:     0             Ticks before return:     0             Current position: (2, 4)\t            Default position: (2, 4)\n",
      "Name: левый большой                      Typed keys:     0             Ticks before return:     0             Current position: (4, 3)\t            Default position: (4, 3)\n",
      "Name: правый большой                     Typed keys:     0             Ticks before return:     0             Current position: (4, 6)\t            Default position: (4, 6)\n",
      "Name: правый указательный                Typed keys:     0             Ticks before return:     0             Current position: (2, 7)\t            Default position: (2, 7)\n",
      "Name: правый средний                     Typed keys:     0             Ticks before return:     0             Current position: (2, 8)\t            Default position: (2, 8)\n",
      "Name: правый безымянный                  Typed keys:     0             Ticks before return:     0             Current position: (2, 9)\t            Default position: (2, 9)\n",
      "Name: правый мизинец                     Typed keys:     0             Ticks before return:     0             Current position: (2, 10)\t            Default position: (2, 10)\n"
     ]
    }
   ],
   "source": [
    "qwerty_keyboard.show_statistics()"
   ]
  },
  {
   "cell_type": "code",
   "execution_count": 53,
   "metadata": {},
   "outputs": [
    {
     "name": "stdout",
     "output_type": "stream",
     "text": [
      "-16:\tправый мизинец + левый мизинец\n",
      "18:\tлевый указательный\n",
      "15:\tправый безымянный\n",
      "3:\tлевый средний\n",
      "18:\tлевый указательный\n",
      "1:\tлевый мизинец\n",
      "19:\tлевый безымянный\n",
      "56:\tлевый указательный\n",
      "9:\tправый средний\n",
      "14:\tправый указательный\n",
      "1:\tлевый мизинец\n",
      "56:\tлевый указательный\n",
      "9:\tправый средний\n",
      "15:\tправый безымянный\n",
      "14:\tправый указательный\n",
      "64:\tлевый мизинец + левый безымянный\n"
     ]
    },
    {
     "data": {
      "text/plain": [
       "44.400000000000006"
      ]
     },
     "execution_count": 53,
     "metadata": {},
     "output_type": "execute_result"
    }
   ],
   "source": [
    "qwerty_keyboard.type_text(list(\"Procrastination!\"))"
   ]
  },
  {
   "cell_type": "code",
   "execution_count": 54,
   "metadata": {},
   "outputs": [
    {
     "name": "stdout",
     "output_type": "stream",
     "text": [
      "\n",
      "Statistics:\n",
      "Name: левый мизинец                      Typed keys:     4             Ticks before return:     3             Current position: (0, 1)\t            Default position: (2, 1)\n",
      "Name: левый безымянный                   Typed keys:     2             Ticks before return:     3             Current position: (3, 1)\t            Default position: (2, 2)\n",
      "Name: левый средний                      Typed keys:     1             Ticks before return:     0             Current position: (2, 3)\t            Default position: (2, 3)\n",
      "Name: левый указательный                 Typed keys:     4             Ticks before return:     0             Current position: (2, 4)\t            Default position: (2, 4)\n",
      "Name: левый большой                      Typed keys:     0             Ticks before return:     0             Current position: (4, 3)\t            Default position: (4, 3)\n",
      "Name: правый большой                     Typed keys:     0             Ticks before return:     0             Current position: (4, 6)\t            Default position: (4, 6)\n",
      "Name: правый указательный                Typed keys:     2             Ticks before return:     2             Current position: (3, 7)\t            Default position: (2, 7)\n",
      "Name: правый средний                     Typed keys:     2             Ticks before return:     0             Current position: (2, 8)\t            Default position: (2, 8)\n",
      "Name: правый безымянный                  Typed keys:     2             Ticks before return:     1             Current position: (1, 9)\t            Default position: (2, 9)\n",
      "Name: правый мизинец                     Typed keys:     1             Ticks before return:     0             Current position: (2, 10)\t            Default position: (2, 10)\n"
     ]
    }
   ],
   "source": [
    "qwerty_keyboard.show_statistics()"
   ]
  },
  {
   "cell_type": "markdown",
   "metadata": {},
   "source": [
    "As we can see, we successfully can swap different keys in given keyboard and calculate distance function fro given string.\n"
   ]
  },
  {
   "cell_type": "markdown",
   "metadata": {},
   "source": [
    "## Data loading & preprocessing"
   ]
  },
  {
   "cell_type": "code",
   "execution_count": 55,
   "metadata": {},
   "outputs": [
    {
     "data": {
      "text/html": [
       "<div>\n",
       "<style scoped>\n",
       "    .dataframe tbody tr th:only-of-type {\n",
       "        vertical-align: middle;\n",
       "    }\n",
       "\n",
       "    .dataframe tbody tr th {\n",
       "        vertical-align: top;\n",
       "    }\n",
       "\n",
       "    .dataframe thead th {\n",
       "        text-align: right;\n",
       "    }\n",
       "</style>\n",
       "<table border=\"1\" class=\"dataframe\">\n",
       "  <thead>\n",
       "    <tr style=\"text-align: right;\">\n",
       "      <th></th>\n",
       "      <th>text</th>\n",
       "    </tr>\n",
       "  </thead>\n",
       "  <tbody>\n",
       "    <tr>\n",
       "      <th>0</th>\n",
       "      <td>point operator-(point p1,point p2)\\r\\n  p1.x-=...</td>\n",
       "    </tr>\n",
       "    <tr>\n",
       "      <th>1</th>\n",
       "      <td>int main() {\\r\\n    map&lt;char, int&gt; m;\\r\\n    m...</td>\n",
       "    </tr>\n",
       "    <tr>\n",
       "      <th>2</th>\n",
       "      <td>int main()\\r\\n\\tint n,s[1001],cnt=0;\\r\\n\\tscan...</td>\n",
       "    </tr>\n",
       "    <tr>\n",
       "      <th>3</th>\n",
       "      <td>int main() {\\r\\n\\tcin &gt;&gt; n;\\r\\n\\tfor (int i = ...</td>\n",
       "    </tr>\n",
       "    <tr>\n",
       "      <th>4</th>\n",
       "      <td>int main()\\r\\n      char a, b, c, d, kozir;\\...</td>\n",
       "    </tr>\n",
       "  </tbody>\n",
       "</table>\n",
       "</div>"
      ],
      "text/plain": [
       "                                                text\n",
       "0  point operator-(point p1,point p2)\\r\\n  p1.x-=...\n",
       "1  int main() {\\r\\n    map<char, int> m;\\r\\n    m...\n",
       "2  int main()\\r\\n\\tint n,s[1001],cnt=0;\\r\\n\\tscan...\n",
       "3  int main() {\\r\\n\\tcin >> n;\\r\\n\\tfor (int i = ...\n",
       "4    int main()\\r\\n      char a, b, c, d, kozir;\\..."
      ]
     },
     "execution_count": 55,
     "metadata": {},
     "output_type": "execute_result"
    }
   ],
   "source": [
    "data_frame = pd.read_csv(\"../data/raw/cpp_programs.csv\", index_col=0)\n",
    "data_frame.head()"
   ]
  },
  {
   "cell_type": "code",
   "execution_count": 56,
   "metadata": {},
   "outputs": [
    {
     "name": "stdout",
     "output_type": "stream",
     "text": [
      "Mean length: 484.69309686721283\n",
      "Max length: 62514\n",
      "Min length: 13\n"
     ]
    }
   ],
   "source": [
    "text_lengths = data_frame[\"text\"].apply(len)\n",
    "print(f\"Mean length: {text_lengths.mean()}\")\n",
    "print(f\"Max length: {text_lengths.max()}\")\n",
    "print(f\"Min length: {text_lengths.min()}\")"
   ]
  },
  {
   "cell_type": "code",
   "execution_count": 57,
   "metadata": {},
   "outputs": [],
   "source": [
    "MAX_LENGTH = 400\n",
    "PADDING_VALUE = ENCODE_DICT[\"<space>\"]\n",
    "\n",
    "SPECIAL_SYMBOLS = {\n",
    "    \"\\t\": \"<tab>\",\n",
    "    \"\\n\": \"<enter>\",\n",
    "    \" \": \"<space>\",\n",
    "}\n",
    "\n",
    "\n",
    "def preprocess_text(text: str) -> list[int]:\n",
    "    splitted_text = [\n",
    "        SPECIAL_SYMBOLS[s] if s in SPECIAL_SYMBOLS else s for s in list(text)\n",
    "    ]\n",
    "    encoded_text = [\n",
    "        ENCODE_DICT[symbol]\n",
    "        for symbol in list(filter(lambda s: s in BUTTONS_SET, splitted_text))[:MAX_LENGTH]\n",
    "    ]\n",
    "    return encoded_text + [PADDING_VALUE for _ in range(MAX_LENGTH - len(encoded_text))]\n",
    "\n",
    "\n",
    "data_frame[\"encoded_text\"] = data_frame[\"text\"].apply(preprocess_text)"
   ]
  },
  {
   "cell_type": "code",
   "execution_count": 58,
   "metadata": {},
   "outputs": [
    {
     "data": {
      "text/plain": [
       "(119989, 400)"
      ]
     },
     "execution_count": 58,
     "metadata": {},
     "output_type": "execute_result"
    }
   ],
   "source": [
    "dataset = np.array([np.array(text) for text in data_frame[\"encoded_text\"].to_list()])\n",
    "dataset.shape"
   ]
  },
  {
   "cell_type": "markdown",
   "metadata": {},
   "source": [
    "## Measure QWERTY"
   ]
  },
  {
   "cell_type": "code",
   "execution_count": 59,
   "metadata": {},
   "outputs": [
    {
     "name": "stderr",
     "output_type": "stream",
     "text": [
      "  0%|          | 0/100 [00:00<?, ?it/s]"
     ]
    },
    {
     "name": "stderr",
     "output_type": "stream",
     "text": [
      "100%|██████████| 100/100 [00:05<00:00, 17.32it/s, qwerty=1e+5, random=1.23e+5]  \n"
     ]
    }
   ],
   "source": [
    "qwerty_keyboard = KeyboardLayout(\n",
    "    QWERTY_ENCODED_LOW, QWERTY_ENCODED_HIGH, Logger(verbose=False)\n",
    ")\n",
    "\n",
    "random_low, random_high = generate_random_layout(\n",
    "    ALL_BUTTONS_ENCODED, KEYBOARD_LAYOUT_SHAPE, seed=42\n",
    ")\n",
    "random_keyboard = KeyboardLayout(random_low, random_high, Logger(verbose=False))\n",
    "\n",
    "\n",
    "loop = tqdm(dataset[:100])\n",
    "for text in loop:\n",
    "    qwerty_score_total = qwerty_keyboard.type_encoded_text(text)\n",
    "    random_score_total = random_keyboard.type_encoded_text(text)\n",
    "    loop.set_postfix({\"qwerty\": qwerty_score_total, \"random\": random_score_total})"
   ]
  },
  {
   "cell_type": "code",
   "execution_count": 60,
   "metadata": {},
   "outputs": [
    {
     "name": "stdout",
     "output_type": "stream",
     "text": [
      "qwerty_keyboard.total_score=100223\n",
      "random_keyboard.total_score=123039\n"
     ]
    }
   ],
   "source": [
    "print(f\"{qwerty_keyboard.total_score=:.0f}\")\n",
    "print(f\"{random_keyboard.total_score=:.0f}\")"
   ]
  },
  {
   "cell_type": "code",
   "execution_count": 61,
   "metadata": {},
   "outputs": [
    {
     "name": "stdout",
     "output_type": "stream",
     "text": [
      "High layout:\n",
      "H       &       V       <tab>   8       p       v       l       <space> 0       <space> q       @       <space> \n",
      "5       g       X       x       c       =       n       N       <space> |       <ctrl>  t       G       z       \n",
      ">       \"       y       D       `       <space> ?       <space> <ctrl>  <shift> <shift> O       E       {       \n",
      "[       %       M       _       <alt>   a       \\       <shift> 3       4       <shift> (       -       #       \n",
      "B       <space> Y       <back>  <caps>  j       <space> <space> $       6       <caps>  \n",
      "\n",
      "\n",
      "Low layout:\n",
      "]       m       F       b       <enter> u       1       :       d       ^       9       w       <alt>   '       \n",
      "<shift> U       7       P       s       <space> .       <alt>   C       ,       f       K       <space> <ctrl>  \n",
      "r       <alt>   Q       *       <shift> k       2       !       Z       S       <tab>   }       /       <shift> \n",
      "<space> R       W       h       J       <space> ;       <       <enter> A       <enter> <space> <shift> I       \n",
      "i       <back>  ~       o       L       <enter> <ctrl>  e       )       T       +       \n",
      "\n",
      "\n"
     ]
    }
   ],
   "source": [
    "print(random_keyboard.get_sting_layouts())"
   ]
  },
  {
   "cell_type": "markdown",
   "metadata": {},
   "source": [
    "## Score estimator "
   ]
  },
  {
   "cell_type": "code",
   "execution_count": 111,
   "metadata": {},
   "outputs": [],
   "source": [
    "def generate_random_layouts(n: int) -> list[KeyboardLayout]:\n",
    "    layouts = []\n",
    "    for i in range(n):\n",
    "        random_low, random_high = generate_random_layout(\n",
    "            ALL_BUTTONS_ENCODED, KEYBOARD_LAYOUT_SHAPE, seed=i\n",
    "        )\n",
    "        layouts.append(KeyboardLayout(random_low, random_high, Logger(verbose=False)))\n",
    "    return layouts\n",
    "\n",
    "\n",
    "def estimate_layouts(layouts: list[KeyboardLayout], dataset: np.ndarray) -> list[float]:\n",
    "    scores = []\n",
    "    loop = tqdm(dataset)\n",
    "    for layout in layouts:\n",
    "        layout.reset()\n",
    "    for text in loop:\n",
    "        for layout in layouts:\n",
    "            layout.type_encoded_text(text)\n",
    "    for layout in layouts:\n",
    "        scores.append(layout.total_score)\n",
    "        # scores.append(layout.get_average_score())\n",
    "    return torch.as_tensor(scores)"
   ]
  },
  {
   "cell_type": "code",
   "execution_count": 63,
   "metadata": {},
   "outputs": [
    {
     "name": "stderr",
     "output_type": "stream",
     "text": [
      "100%|██████████| 10/10 [02:49<00:00, 16.94s/it]\n"
     ]
    }
   ],
   "source": [
    "random_layouts_100 = generate_random_layouts(500)\n",
    "random_layouts_100_scores = estimate_layouts(random_layouts_100, dataset[:10])"
   ]
  },
  {
   "cell_type": "code",
   "execution_count": 64,
   "metadata": {},
   "outputs": [],
   "source": [
    "# for i in range(100):\n",
    "#     if random_layouts_100_scores[i] < qwerty_score_total:\n",
    "#         print(i, random_layouts_100_scores[i])"
   ]
  },
  {
   "cell_type": "code",
   "execution_count": 65,
   "metadata": {},
   "outputs": [
    {
     "name": "stdout",
     "output_type": "stream",
     "text": [
      "High layout:\n",
      ":       W       <tab>   p       &       <tab>   <space> V       <space> h       C       <shift> 7       <space> \n",
      "=       R       L       j       <alt>   l       x       <ctrl>  K       2       |       O       d       <space> \n",
      "E       a       m       J       <shift> {       G       o       %       *       ;       S       <ctrl>  \\       \n",
      "9       <shift> w       U       '       <caps>  c       }       k       <enter> N       `       _       <enter> \n",
      "D       <space> <space> t       y       4       <ctrl>  F       Y       M       <space> \n",
      "\n",
      "\n",
      "Low layout:\n",
      "u       <shift> <enter> X       <space> 5       <alt>   <back>  <space> ,       \"       3       <caps>  <space> \n",
      "<enter> <ctrl>  >       <alt>   f       e       <back>  b       v       ^       ~       0       $       <space> \n",
      "Z       <       <shift> P       /       r       .       )       s       g       1       z       I       <shift> \n",
      "<shift> B       6       <space> ]       A       !       @       Q       ?       i       T       <space> q       \n",
      "<alt>   #       <shift> +       8       -       (       [       H       <space> n       \n",
      "\n",
      "\n"
     ]
    }
   ],
   "source": [
    "print(random_layouts_100[81].get_sting_layouts())"
   ]
  },
  {
   "cell_type": "code",
   "execution_count": 66,
   "metadata": {},
   "outputs": [
    {
     "data": {
      "text/plain": [
       "134"
      ]
     },
     "execution_count": 66,
     "metadata": {},
     "output_type": "execute_result"
    }
   ],
   "source": [
    "sum(KEYBOARD_LAYOUT_SHAPE) * 2"
   ]
  },
  {
   "cell_type": "code",
   "execution_count": 67,
   "metadata": {},
   "outputs": [],
   "source": [
    "import torch\n",
    "import torch.nn as nn\n",
    "import torch.nn.functional as F"
   ]
  },
  {
   "cell_type": "code",
   "execution_count": 68,
   "metadata": {},
   "outputs": [],
   "source": [
    "class Net(nn.Module):\n",
    "    def __init__(self, in_size: int = KEYS):\n",
    "        super(Net, self).__init__()\n",
    "        self.fc1 = nn.Linear(in_size, 256)\n",
    "        self.fc2 = nn.Linear(256, 64)\n",
    "        self.fc3 = nn.Linear(64, 1)\n",
    "\n",
    "    def forward(self, x):\n",
    "        x = F.relu(self.fc1(x))\n",
    "        x = F.relu(self.fc2(x))\n",
    "        x = F.relu(self.fc3(x))\n",
    "        return x"
   ]
  },
  {
   "cell_type": "code",
   "execution_count": 69,
   "metadata": {},
   "outputs": [],
   "source": [
    "score_model = Net()\n",
    "device = torch.device(\"cuda\" if torch.cuda.is_available() else \"cpu\")\n",
    "score_model.to(device)\n",
    "optimizer = torch.optim.Adam(score_model.parameters(), lr=1e-3)\n",
    "criterion = nn.MSELoss()"
   ]
  },
  {
   "cell_type": "code",
   "execution_count": 70,
   "metadata": {},
   "outputs": [],
   "source": [
    "data_loader = list(zip(random_layouts_100, random_layouts_100_scores))"
   ]
  },
  {
   "cell_type": "code",
   "execution_count": 71,
   "metadata": {},
   "outputs": [],
   "source": [
    "def train_epoch(model, loader, optimizer, loss_fn, epoch):\n",
    "    model.train()\n",
    "    train_loss = 0.0\n",
    "    total = 0\n",
    "    loop = loader\n",
    "    # loop = tqdm(\n",
    "    #     loader,\n",
    "    #     total=len(loader),\n",
    "    #     desc=f\"Epoch {epoch}: train\",\n",
    "    #     leave=True,\n",
    "    # )\n",
    "    for data in loop:\n",
    "        layout, score = data\n",
    "        data = layout.flatten()\n",
    "        values, targets = data.to(device), score.to(device)\n",
    "        optimizer.zero_grad()\n",
    "        outputs = model(values)\n",
    "        # outputs.backward(my_loss)\n",
    "        loss = loss_fn(outputs, targets)\n",
    "        loss.backward()\n",
    "        optimizer.step()\n",
    "        total += 1\n",
    "        train_loss += loss.item()\n",
    "    return train_loss / total\n",
    "    # loop.set_postfix({\"loss\": train_loss / total})"
   ]
  },
  {
   "cell_type": "code",
   "execution_count": 72,
   "metadata": {},
   "outputs": [
    {
     "name": "stderr",
     "output_type": "stream",
     "text": [
      "Train::   0%|          | 0/400 [00:00<?, ?it/s]c:\\Users\\kadav\\VSCodeProjects\\Project\\RL_for_keyboard_layout\\.venv\\lib\\site-packages\\torch\\nn\\modules\\loss.py:535: UserWarning: Using a target size (torch.Size([])) that is different to the input size (torch.Size([1])). This will likely lead to incorrect results due to broadcasting. Please ensure they have the same size.\n",
      "  return F.mse_loss(input, target, reduction=self.reduction)\n",
      "Loss: 56362.1231: 100%|██████████| 400/400 [07:21<00:00,  1.10s/it] \n"
     ]
    }
   ],
   "source": [
    "loop = tqdm(range(400), desc=\"Train:\")\n",
    "for epoch in loop:\n",
    "    loss = train_epoch(score_model, data_loader, optimizer, criterion, epoch)\n",
    "    loop.set_description(\"Loss: {:.4f}\".format(loss))"
   ]
  },
  {
   "cell_type": "code",
   "execution_count": 73,
   "metadata": {},
   "outputs": [
    {
     "name": "stdout",
     "output_type": "stream",
     "text": [
      "tensor(11684.5996)\n"
     ]
    }
   ],
   "source": [
    "a, b = data_loader[13]\n",
    "print(b)\n",
    "a, b = a.flatten().to(device), b.to(device)"
   ]
  },
  {
   "cell_type": "code",
   "execution_count": 74,
   "metadata": {},
   "outputs": [
    {
     "data": {
      "text/plain": [
       "tensor([12101.0703], device='cuda:0', grad_fn=<ReluBackward0>)"
      ]
     },
     "execution_count": 74,
     "metadata": {},
     "output_type": "execute_result"
    }
   ],
   "source": [
    "score_model(a)"
   ]
  },
  {
   "cell_type": "code",
   "execution_count": 139,
   "metadata": {},
   "outputs": [],
   "source": [
    "class ActionNet(nn.Module):\n",
    "    def __init__(self, in_size: int = KEYS):\n",
    "        super(ActionNet, self).__init__()\n",
    "        self.fc1 = nn.Linear(in_size, 256)\n",
    "        self.fc2 = nn.Linear(256, 64)\n",
    "        self.fc3 = nn.Linear(64, KEYS)\n",
    "        self.fc4 = nn.Linear(64, KEYS)\n",
    "\n",
    "    def forward(self, x):\n",
    "        x = F.relu(self.fc1(x))\n",
    "        x = F.relu(self.fc2(x))\n",
    "        x1 = F.softmax(self.fc3(x), dim=0)\n",
    "        x2 = F.softmax(self.fc4(x), dim=0)\n",
    "        return x1, x2"
   ]
  },
  {
   "cell_type": "code",
   "execution_count": 154,
   "metadata": {},
   "outputs": [
    {
     "data": {
      "text/plain": [
       "ActionNet(\n",
       "  (fc1): Linear(in_features=134, out_features=256, bias=True)\n",
       "  (fc2): Linear(in_features=256, out_features=64, bias=True)\n",
       "  (fc3): Linear(in_features=64, out_features=134, bias=True)\n",
       "  (fc4): Linear(in_features=64, out_features=134, bias=True)\n",
       ")"
      ]
     },
     "execution_count": 154,
     "metadata": {},
     "output_type": "execute_result"
    }
   ],
   "source": [
    "action_model = ActionNet()\n",
    "device = torch.device(\"cuda\" if torch.cuda.is_available() else \"cpu\")\n",
    "action_optimizer = torch.optim.Adam(action_model.parameters(), lr=1e-3)\n",
    "action_model.to(device)"
   ]
  },
  {
   "cell_type": "code",
   "execution_count": 155,
   "metadata": {},
   "outputs": [
    {
     "name": "stderr",
     "output_type": "stream",
     "text": [
      "100%|██████████| 10/10 [00:00<00:00, 35.71it/s]\n"
     ]
    },
    {
     "data": {
      "text/plain": [
       "10272.599609375"
      ]
     },
     "execution_count": 155,
     "metadata": {},
     "output_type": "execute_result"
    }
   ],
   "source": [
    "new_keyboard = KeyboardLayout(\n",
    "    QWERTY_ENCODED_LOW, QWERTY_ENCODED_HIGH, Logger(verbose=False)\n",
    ")\n",
    "\n",
    "new_keyboard_score = estimate_layouts([new_keyboard], dataset[:10])\n",
    "last_score = new_keyboard_score.item()\n",
    "best_score = new_keyboard_score.item()\n",
    "best_score"
   ]
  },
  {
   "cell_type": "code",
   "execution_count": 156,
   "metadata": {},
   "outputs": [
    {
     "data": {
      "text/plain": [
       "2.3330910742675557"
      ]
     },
     "execution_count": 156,
     "metadata": {},
     "output_type": "execute_result"
    }
   ],
   "source": [
    "new_keyboard.get_average_score()"
   ]
  },
  {
   "cell_type": "code",
   "execution_count": 157,
   "metadata": {},
   "outputs": [
    {
     "name": "stderr",
     "output_type": "stream",
     "text": [
      "  0%|          | 0/20 [00:00<?, ?it/s]"
     ]
    },
    {
     "name": "stdout",
     "output_type": "stream",
     "text": [
      "tensor([9.9978e-05, 4.0685e-05, 1.3357e-05, 6.5578e-05, 7.2768e-07, 2.3466e-03,\n",
      "        2.1941e-04, 7.8379e-08, 4.8077e-04, 4.4775e-08], device='cuda:0',\n",
      "       grad_fn=<SliceBackward0>)\n"
     ]
    },
    {
     "name": "stderr",
     "output_type": "stream",
     "text": [
      "100%|██████████| 10/10 [00:00<00:00, 32.89it/s]\n",
      " 50%|█████     | 10/20 [00:00<00:00, 29.71it/s]"
     ]
    },
    {
     "name": "stdout",
     "output_type": "stream",
     "text": [
      "[0. 0. 0. 0. 0. 0. 0. 0. 0. 0.]\n",
      "tensor([3.9583e-05, 1.8214e-06, 4.4327e-08, 4.5765e-05, 4.6259e-08, 1.0615e-04,\n",
      "        1.2514e-05, 5.0852e-10, 2.5919e-06, 2.8420e-11], device='cuda:0',\n",
      "       grad_fn=<SliceBackward0>)\n",
      "[0. 0. 0. 0. 0. 0. 0. 0. 0. 0.]\n",
      "tensor([6.3480e-05, 4.2534e-06, 1.0808e-08, 8.5929e-04, 1.0329e-07, 1.4147e-04,\n",
      "        5.1622e-05, 1.6009e-09, 1.5702e-06, 3.1955e-12], device='cuda:0',\n",
      "       grad_fn=<SliceBackward0>)\n",
      "[0. 0. 0. 0. 0. 0. 0. 0. 0. 0.]\n",
      "tensor([4.6567e-07, 2.6730e-07, 1.4714e-10, 2.3469e-04, 3.1595e-09, 5.0389e-06,\n",
      "        3.7720e-06, 3.9927e-10, 4.2528e-08, 5.0389e-15], device='cuda:0',\n",
      "       grad_fn=<SliceBackward0>)\n",
      "[0. 0. 0. 0. 0. 0. 0. 0. 0. 0.]\n",
      "tensor([1.0100e-08, 2.1407e-08, 5.5372e-12, 4.4931e-05, 7.6682e-11, 1.7576e-07,\n",
      "        2.8006e-07, 7.2006e-11, 1.4178e-09, 2.0314e-17], device='cuda:0',\n",
      "       grad_fn=<SliceBackward0>)\n",
      "[0. 0. 0. 0. 0. 0. 0. 0. 0. 0.]\n",
      "tensor([1.0916e-09, 2.7020e-09, 1.0592e-12, 1.3144e-05, 5.4185e-12, 2.0912e-08,\n",
      "        5.4323e-08, 1.8233e-11, 2.0833e-10, 3.1464e-19], device='cuda:0',\n",
      "       grad_fn=<SliceBackward0>)\n",
      "[0. 0. 0. 0. 0. 0. 0. 0. 0. 0.]\n",
      "tensor([3.0401e-10, 6.3542e-10, 4.5242e-13, 4.3175e-06, 6.6835e-13, 4.0824e-09,\n",
      "        2.3033e-08, 6.4036e-12, 8.3968e-11, 1.5206e-20], device='cuda:0',\n",
      "       grad_fn=<SliceBackward0>)\n",
      "[0. 0. 0. 0. 0. 0. 0. 0. 0. 0.]\n",
      "tensor([4.6765e-11, 2.1634e-10, 1.1722e-13, 3.5231e-06, 1.0247e-13, 7.9014e-10,\n",
      "        9.5828e-09, 2.3974e-12, 2.2238e-11, 2.1108e-21], device='cuda:0',\n",
      "       grad_fn=<SliceBackward0>)\n",
      "[0. 0. 0. 0. 0. 0. 0. 0. 0. 0.]\n",
      "tensor([8.7910e-12, 9.7282e-11, 4.9359e-14, 4.5148e-06, 2.2085e-14, 3.9728e-10,\n",
      "        3.1518e-09, 9.6473e-13, 7.8842e-12, 3.0477e-22], device='cuda:0',\n",
      "       grad_fn=<SliceBackward0>)\n",
      "[0. 0. 0. 0. 0. 0. 0. 0. 0. 0.]\n",
      "tensor([2.1083e-12, 3.9931e-11, 1.9910e-14, 5.1143e-06, 5.7149e-15, 1.5635e-10,\n",
      "        1.3781e-09, 4.1633e-13, 3.0658e-12, 6.0207e-23], device='cuda:0',\n",
      "       grad_fn=<SliceBackward0>)\n",
      "[0. 0. 0. 0. 0. 0. 0. 0. 0. 0.]\n",
      "tensor([6.1390e-13, 2.2620e-11, 9.5958e-15, 5.1799e-06, 1.5369e-15, 6.4731e-11,\n",
      "        6.4099e-10, 2.2322e-13, 1.4305e-12, 1.3590e-23], device='cuda:0',\n",
      "       grad_fn=<SliceBackward0>)\n"
     ]
    },
    {
     "name": "stderr",
     "output_type": "stream",
     "text": [
      "100%|██████████| 10/10 [00:00<00:00, 29.03it/s]\n",
      "100%|██████████| 20/20 [00:00<00:00, 24.05it/s]"
     ]
    },
    {
     "name": "stdout",
     "output_type": "stream",
     "text": [
      "[0. 0. 0. 0. 0. 0. 0. 0. 0. 0.]\n",
      "tensor([nan, nan, nan, nan, nan, nan, nan, nan, nan, nan], device='cuda:0',\n",
      "       grad_fn=<SliceBackward0>)\n",
      "[ 0. inf inf inf inf inf inf inf inf inf]\n",
      "tensor([nan, nan, nan, nan, nan, nan, nan, nan, nan, nan], device='cuda:0',\n",
      "       grad_fn=<SliceBackward0>)\n",
      "[ 0. inf inf inf inf inf inf inf inf inf]\n",
      "tensor([nan, nan, nan, nan, nan, nan, nan, nan, nan, nan], device='cuda:0',\n",
      "       grad_fn=<SliceBackward0>)\n",
      "[ 0. inf inf inf inf inf inf inf inf inf]\n",
      "tensor([nan, nan, nan, nan, nan, nan, nan, nan, nan, nan], device='cuda:0',\n",
      "       grad_fn=<SliceBackward0>)\n",
      "[ 0. inf inf inf inf inf inf inf inf inf]\n",
      "tensor([nan, nan, nan, nan, nan, nan, nan, nan, nan, nan], device='cuda:0',\n",
      "       grad_fn=<SliceBackward0>)\n",
      "[ 0. inf inf inf inf inf inf inf inf inf]\n",
      "tensor([nan, nan, nan, nan, nan, nan, nan, nan, nan, nan], device='cuda:0',\n",
      "       grad_fn=<SliceBackward0>)\n",
      "[ 0. inf inf inf inf inf inf inf inf inf]\n",
      "tensor([nan, nan, nan, nan, nan, nan, nan, nan, nan, nan], device='cuda:0',\n",
      "       grad_fn=<SliceBackward0>)\n",
      "[ 0. inf inf inf inf inf inf inf inf inf]\n",
      "tensor([nan, nan, nan, nan, nan, nan, nan, nan, nan, nan], device='cuda:0',\n",
      "       grad_fn=<SliceBackward0>)\n",
      "[ 0. inf inf inf inf inf inf inf inf inf]\n",
      "tensor([nan, nan, nan, nan, nan, nan, nan, nan, nan, nan], device='cuda:0',\n",
      "       grad_fn=<SliceBackward0>)\n",
      "[ 0. inf inf inf inf inf inf inf inf inf]\n"
     ]
    },
    {
     "name": "stderr",
     "output_type": "stream",
     "text": [
      "\n"
     ]
    }
   ],
   "source": [
    "steps = 20\n",
    "best_keyboard = deepcopy(new_keyboard)\n",
    "\n",
    "for i in tqdm(range(steps)):\n",
    "    action_optimizer.zero_grad()\n",
    "\n",
    "    cur_layout = new_keyboard.flatten().to(device)\n",
    "    output_1, output_2 = action_model(cur_layout)\n",
    "    n_1, n_2 = torch.argmax(output_1, dim=0).item(), torch.argmax(output_2, dim=0).item()\n",
    "    cord_1, cord_2 = convert_int_to_cord(n_1), convert_int_to_cord(n_2)\n",
    "\n",
    "    loss_1 = np.zeros(KEYS)\n",
    "    loss_2 = np.zeros(KEYS)\n",
    "\n",
    "    cur_loss = score_model(cur_layout)\n",
    "\n",
    "    if (\n",
    "        cord_1[0] == 2\n",
    "        or cord_2[0] == 2\n",
    "        or (cord_1[1] == cord_2[1] and cord_1[2] == cord_2[2])\n",
    "    ):\n",
    "        print(output_1[:10])\n",
    "        loss = last_score\n",
    "        for i in range(KEYS):\n",
    "            loss_1[i] = loss\n",
    "            loss_2[i] = loss\n",
    "        loss_1[n_1] = 0\n",
    "        loss_2[n_2] = 0\n",
    "    else:\n",
    "        print(output_1[:10])\n",
    "        pos_1 = (cord_1[1], cord_1[2])\n",
    "        pos_2 = (cord_2[1], cord_2[2])\n",
    "        if cord_1[0] == 0 and cord_2[0] == 0:\n",
    "            new_keyboard.swap_buttons(pos_1, pos_2, \"low_layout\")\n",
    "        elif cord_1[0] == 1 and cord_2[0] == 1:\n",
    "            new_keyboard.swap_buttons(pos_1, pos_2, \"high_layout\")\n",
    "        else:\n",
    "            new_keyboard.swap_buttons(pos_1, pos_2, \"between_layouts\")\n",
    "\n",
    "        if i % 10 == 0:\n",
    "            new_keyboard_score = estimate_layouts([new_keyboard], dataset[:10])\n",
    "            score = new_keyboard_score.item()\n",
    "        else:\n",
    "            new_layout = new_keyboard.flatten().to(device)\n",
    "            score = score_model(new_layout).item()\n",
    "        # print(score)\n",
    "        if score < best_score:\n",
    "            best_score = score\n",
    "            best_keyboard = deepcopy(new_keyboard)\n",
    "        loss_1[n_1] = score\n",
    "        loss_2[n_2] = score\n",
    "        last_score = score\n",
    "\n",
    "    print(loss_1[:10])\n",
    "    back_score_1 = torch.as_tensor(loss_1)\n",
    "    back_score_1 = back_score_1.to(device)\n",
    "    back_score_2 = torch.as_tensor(loss_2)\n",
    "    back_score_2 = back_score_2.to(device)\n",
    "    output_1.backward(back_score_1, retain_graph=True)\n",
    "    output_2.backward(back_score_2)\n",
    "\n",
    "    action_optimizer.step()"
   ]
  },
  {
   "cell_type": "code",
   "execution_count": 80,
   "metadata": {},
   "outputs": [
    {
     "name": "stdout",
     "output_type": "stream",
     "text": [
      "High layout:\n",
      "~       N       @       #       $       %       )       &       *       (       <shift> _       +       <back>  \n",
      "<tab>   Q       W       E       R       T       Y       U       I       O       P       {       }       X       \n",
      "<caps>  A       !       D       F       G       H       <       K       L       :       \"       <enter> <enter> \n",
      "<shift> <shift> Z       |       C       V       B       S       M       J       >       ?       <shift> <enter> \n",
      "<ctrl>  <alt>   <space> <space> <space> <space> <space> <space> <space> <alt>   <ctrl>  \n",
      "\n",
      "\n",
      "Low layout:\n",
      "`       1       2       3       4       5       w       7       8       9       0       -       =       <back>  \n",
      "<tab>   q       6       e       r       t       y       u       i       o       p       [       ]       \\       \n",
      "<caps>  a       s       d       f       ^       h       j       k       l       ;       '       g       <enter> \n",
      "<shift> <shift> z       x       c       v       b       n       m       ,       .       /       <shift> <shift> \n",
      "<ctrl>  <alt>   <space> <space> <space> <space> <space> <space> <space> <alt>   <ctrl>  \n",
      "\n",
      "\n"
     ]
    }
   ],
   "source": [
    "print(new_keyboard.get_sting_layouts())"
   ]
  },
  {
   "cell_type": "code",
   "execution_count": 92,
   "metadata": {},
   "outputs": [
    {
     "data": {
      "text/plain": [
       "10272.599609375"
      ]
     },
     "execution_count": 92,
     "metadata": {},
     "output_type": "execute_result"
    }
   ],
   "source": [
    "best_score"
   ]
  },
  {
   "cell_type": "code",
   "execution_count": null,
   "metadata": {},
   "outputs": [],
   "source": []
  }
 ],
 "metadata": {
  "kernelspec": {
   "display_name": "d_env",
   "language": "python",
   "name": "python3"
  },
  "language_info": {
   "codemirror_mode": {
    "name": "ipython",
    "version": 3
   },
   "file_extension": ".py",
   "mimetype": "text/x-python",
   "name": "python",
   "nbconvert_exporter": "python",
   "pygments_lexer": "ipython3",
   "version": "3.11.0"
  }
 },
 "nbformat": 4,
 "nbformat_minor": 2
}

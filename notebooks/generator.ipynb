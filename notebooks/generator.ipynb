{
 "cells": [
  {
   "cell_type": "markdown",
   "metadata": {},
   "source": [
    "# Main generator\n"
   ]
  },
  {
   "cell_type": "code",
   "execution_count": 39,
   "metadata": {},
   "outputs": [],
   "source": [
    "import random\n",
    "from copy import deepcopy\n",
    "from typing import Literal, Optional\n",
    "\n",
    "import numpy as np\n",
    "import pandas as pd\n",
    "from tqdm import tqdm"
   ]
  },
  {
   "cell_type": "code",
   "execution_count": 2,
   "metadata": {},
   "outputs": [],
   "source": [
    "QWERTY_LOW_LAYOUT: list[list[str]] = [\n",
    "    [\"`\", \"1\", \"2\", \"3\", \"4\", \"5\", \"6\", \"7\", \"8\", \"9\", \"0\", \"-\", \"=\", \"<back>\"],\n",
    "    [\"<tab>\", \"q\", \"w\", \"e\", \"r\", \"t\", \"y\", \"u\", \"i\", \"o\", \"p\", \"[\", \"]\", \"\\\\\"],\n",
    "    [\"<caps>\", \"a\", \"s\", \"d\", \"f\", \"g\", \"h\", \"j\", \"k\", \"l\", \";\", \"'\", \"<enter>\"],\n",
    "    [\"<shift>\", \"z\", \"x\", \"c\", \"v\", \"b\", \"n\", \"m\", \",\", \".\", \"/\", \"<shift>\"],\n",
    "    [\"<ctrl>\", \"<alt>\", \" \", \" \", \" \", \" \", \" \", \" \", \"<alt>\", \"<ctrl>\"],\n",
    "]\n",
    "\n",
    "QWERTY_HIGH_LAYOUT: list[list[str]] = [\n",
    "    [\"~\", \"!\", \"@\", \"#\", \"$\", \"%\", \"^\", \"&\", \"*\", \"(\", \")\", \"_\", \"+\", \"<back>\"],\n",
    "    [\"<tab>\", \"Q\", \"W\", \"E\", \"R\", \"T\", \"Y\", \"U\", \"I\", \"O\", \"P\", \"{\", \"}\", \"|\"],\n",
    "    [\"<caps>\", \"A\", \"S\", \"D\", \"F\", \"G\", \"H\", \"J\", \"K\", \"L\", \":\", '\"', \"<enter>\"],\n",
    "    [\"<shift>\", \"Z\", \"X\", \"C\", \"V\", \"B\", \"N\", \"M\", \"<\", \">\", \"?\", \"<shift>\"],\n",
    "    [\"<ctrl>\", \"<alt>\", \" \", \" \", \" \", \" \", \" \", \" \", \"<alt>\", \"<ctrl>\"],\n",
    "]"
   ]
  },
  {
   "cell_type": "code",
   "execution_count": 3,
   "metadata": {},
   "outputs": [],
   "source": [
    "def get_buttons_set(\n",
    "    low_layout: list[list[str]], high_layout: list[list[str]]\n",
    ") -> set[str]:\n",
    "    buttons: set[str] = set()\n",
    "\n",
    "    for layout in [low_layout, high_layout]:\n",
    "        for i in range(len(layout)):\n",
    "            for btn in layout[i]:\n",
    "                buttons.add(btn)\n",
    "\n",
    "    return buttons\n",
    "\n",
    "\n",
    "def get_keyboard_shape(layout: list[list[str]]) -> tuple[int, ...]:\n",
    "    shape = [len(row) for row in layout]\n",
    "\n",
    "    return tuple(shape)\n",
    "\n",
    "\n",
    "BUTTONS_SET = get_buttons_set(QWERTY_LOW_LAYOUT, QWERTY_HIGH_LAYOUT)\n",
    "KEYBOARD_LAYOUT_SHAPE = get_keyboard_shape(QWERTY_LOW_LAYOUT)"
   ]
  },
  {
   "cell_type": "code",
   "execution_count": 4,
   "metadata": {},
   "outputs": [],
   "source": [
    "def encode_decode_buttons(buttons: set[str]) -> tuple[dict[str, int], dict[int, str]]:\n",
    "    letters_dict = {}\n",
    "    for idx, letter in enumerate(\"abcdefghijklmnopqrsuvwxyz\"):\n",
    "        letters_dict[letter] = idx + 1\n",
    "        letters_dict[letter.upper()] = -(idx + 1)\n",
    "\n",
    "    encode_value = (len(letters_dict) // 2) + 1\n",
    "    encode_dict = {}\n",
    "    decode_dict = {}\n",
    "    for btn in buttons:\n",
    "        if btn in letters_dict:\n",
    "            decode_dict[letters_dict[btn]] = btn\n",
    "            encode_dict[btn] = letters_dict[btn]\n",
    "        else:\n",
    "            decode_dict[encode_value] = btn\n",
    "            encode_dict[btn] = encode_value\n",
    "            encode_value += 1\n",
    "    return encode_dict, decode_dict\n",
    "\n",
    "\n",
    "ENCODE_DICT, DECODE_DICT = encode_decode_buttons(BUTTONS_SET)\n",
    "ENCODED_BUTTONS_SET = {ENCODE_DICT[btn] for btn in BUTTONS_SET}\n",
    "SHIFT_CODE = ENCODE_DICT[\"<shift>\"]"
   ]
  },
  {
   "cell_type": "code",
   "execution_count": 5,
   "metadata": {},
   "outputs": [],
   "source": [
    "for btn in BUTTONS_SET:\n",
    "    assert btn == DECODE_DICT[ENCODE_DICT[btn]]"
   ]
  },
  {
   "cell_type": "code",
   "execution_count": 6,
   "metadata": {},
   "outputs": [],
   "source": [
    "Layout = list[list[int]]\n",
    "\n",
    "\n",
    "def encode_layout(layout: list[list[str]]) -> Layout:\n",
    "    return [[ENCODE_DICT[btn] for btn in layout[i]] for i in range(len(layout))]\n",
    "\n",
    "\n",
    "def decode_layout(layout: Layout) -> list[list[str]]:\n",
    "    return [[DECODE_DICT[btn] for btn in layout[i]] for i in range(len(layout))]\n",
    "\n",
    "\n",
    "QWERTY_ENCODED_HIGH: Layout = encode_layout(QWERTY_HIGH_LAYOUT)\n",
    "QWERTY_ENCODED_LOW: Layout = encode_layout(QWERTY_LOW_LAYOUT)"
   ]
  },
  {
   "cell_type": "code",
   "execution_count": 7,
   "metadata": {},
   "outputs": [],
   "source": [
    "def get_all_buttons_encoded(high_layout: Layout, low_layout: Layout) -> list[int]:\n",
    "    all_buttons = []\n",
    "\n",
    "    for layout in (low_layout, high_layout):\n",
    "        for row in layout:\n",
    "            all_buttons.extend(row)\n",
    "    return all_buttons\n",
    "\n",
    "\n",
    "ALL_BUTTONS_ENCODED = get_all_buttons_encoded(QWERTY_ENCODED_HIGH, QWERTY_ENCODED_LOW)"
   ]
  },
  {
   "cell_type": "code",
   "execution_count": 8,
   "metadata": {},
   "outputs": [],
   "source": [
    "LogType = Literal[\"basic\"] | Literal[\"debug\"] | Literal[\"error\"]\n",
    "\n",
    "\n",
    "class Logger:\n",
    "    def __init__(self, verbose: bool = True, hide_types: list[LogType] = []) -> None:\n",
    "        self.verbose = verbose\n",
    "        self.hide_types = set(hide_types)\n",
    "\n",
    "    def log(self, message: str, log_type: LogType = \"basic\") -> None:\n",
    "        if self.verbose and log_type not in self.hide_types:\n",
    "            print(message)\n",
    "\n",
    "\n",
    "LOGGER = Logger()"
   ]
  },
  {
   "cell_type": "code",
   "execution_count": 9,
   "metadata": {},
   "outputs": [],
   "source": [
    "Position = tuple[int, int]\n",
    "\n",
    "\n",
    "class Finger:\n",
    "    def __init__(\n",
    "        self, initial_position: Position, name: str, logger: Logger = LOGGER\n",
    "    ) -> None:\n",
    "        self.name = name\n",
    "        self.initial_position = initial_position\n",
    "\n",
    "        self.logger = logger\n",
    "\n",
    "        self.reset()\n",
    "\n",
    "        # Constants\n",
    "\n",
    "        self.wait_before_return = 4  # in ticks\n",
    "\n",
    "        self.long_row_move_shift = 3\n",
    "        self.long_row_move_penalty = 1\n",
    "\n",
    "        self.row_penalty_coefficient = 1\n",
    "        self.column_penalty_coefficient = 1.2\n",
    "\n",
    "    def reset(self):\n",
    "        self.current_position = self.initial_position\n",
    "        self.ticks_before_return = 0  # if == 0, returns to the initial position\n",
    "        self.typed_keys = 0\n",
    "\n",
    "    def move(self, position: Position):\n",
    "        self.current_position = position\n",
    "\n",
    "        self.ticks_before_return = self.wait_before_return\n",
    "        self.typed_keys += 1\n",
    "\n",
    "    def tick(self) -> float:\n",
    "        if self.ticks_before_return > 0:\n",
    "            self.ticks_before_return -= 1\n",
    "\n",
    "        if self.ticks_before_return == 0:\n",
    "            score = self.get_score(self.initial_position)\n",
    "            self.current_position = self.initial_position\n",
    "            return score\n",
    "\n",
    "        return 0\n",
    "\n",
    "    def get_score(self, target_position: Position) -> float:\n",
    "        x1, y1 = self.current_position\n",
    "        x2, y2 = target_position\n",
    "\n",
    "        row_distance = abs(x1 - x2) ** 2\n",
    "        column_distance = abs(y1 - y2) ** 2\n",
    "\n",
    "        penalty = 0\n",
    "        if row_distance > self.long_row_move_shift:\n",
    "            penalty = self.long_row_move_penalty\n",
    "        return (\n",
    "            row_distance * self.row_penalty_coefficient\n",
    "            + column_distance * self.column_penalty_coefficient\n",
    "            + penalty\n",
    "        )\n",
    "\n",
    "    def show_statistics(self):\n",
    "        self.logger.log(\n",
    "            f\"Name: {self.name:22} \\\n",
    "            Typed keys: {self.typed_keys:5} \\\n",
    "            Ticks before return: {self.ticks_before_return:5} \\\n",
    "            Current position: {self.current_position}\\t\\\n",
    "            Default position: {self.initial_position}\"\n",
    "        )"
   ]
  },
  {
   "cell_type": "code",
   "execution_count": 46,
   "metadata": {},
   "outputs": [],
   "source": [
    "DEFAULT_FINGERS: list[Finger] = [\n",
    "    Finger((2, 1), \"левый мизинец\"),\n",
    "    Finger((2, 2), \"левый безымянный\"),\n",
    "    Finger((2, 3), \"левый средний\"),\n",
    "    Finger((2, 4), \"левый указательный\"),\n",
    "    Finger((4, 3), \"левый большой\"),\n",
    "    Finger((4, 6), \"правый большой\"),\n",
    "    Finger((2, 7), \"правый указательный\"),\n",
    "    Finger((2, 8), \"правый средний\"),\n",
    "    Finger((2, 9), \"правый безымянный\"),\n",
    "    Finger((2, 10), \"правый мизинец\"),\n",
    "]\n",
    "\n",
    "SwapType = Literal[\"low_layout\"] | Literal[\"high_layout\"] | Literal[\"between_layouts\"]\n",
    "\n",
    "\n",
    "class KeyboardLayout:\n",
    "    @staticmethod\n",
    "    def layout_to_dict(layout: Layout) -> dict[int, list[Position]]:\n",
    "        layout_dict: dict[int, list[Position]] = {}\n",
    "\n",
    "        for i in range(len(layout)):\n",
    "            for j in range(len(layout[i])):\n",
    "                button = layout[i][j]\n",
    "                if button in layout_dict:\n",
    "                    layout_dict[button].append((i, j))\n",
    "                else:\n",
    "                    layout_dict[button] = [(i, j)]\n",
    "\n",
    "        return layout_dict\n",
    "\n",
    "    def _finish_move(self):\n",
    "        for finger in self.fingers:\n",
    "            self.total_score += finger.tick()\n",
    "\n",
    "    def __init__(self, low_layout: Layout, high_layout: Layout, logger: Logger = LOGGER):\n",
    "        self.low_layout = deepcopy(low_layout)\n",
    "        self.high_layout = deepcopy(high_layout)\n",
    "\n",
    "        self.low_layout_dict = KeyboardLayout.layout_to_dict(self.low_layout)\n",
    "        self.high_layout_dict = KeyboardLayout.layout_to_dict(self.high_layout)\n",
    "\n",
    "        self.logger = logger\n",
    "\n",
    "        self.fingers = deepcopy(DEFAULT_FINGERS)\n",
    "\n",
    "        self.reset()\n",
    "\n",
    "    def reset(self):\n",
    "        self.total_score: float = 0\n",
    "        for f in self.fingers:\n",
    "            f.reset()\n",
    "\n",
    "    def move_one_finger(\n",
    "        self, positions: list[Position], busy_finger_id: Optional[int] = None\n",
    "    ) -> tuple[tuple[int, Position], float]:\n",
    "        best_finger_id: int = 0\n",
    "        best_score = np.inf\n",
    "\n",
    "        final_position: Position = (0, 0)\n",
    "\n",
    "        for position in positions:\n",
    "            scores = [\n",
    "                finger.get_score(position) if i != busy_finger_id else np.inf\n",
    "                for i, finger in enumerate(self.fingers)\n",
    "            ]\n",
    "\n",
    "            candidate_finger_id = int(np.argmin(scores))\n",
    "            candidate_score = scores[candidate_finger_id]\n",
    "\n",
    "            if candidate_score < best_score:\n",
    "                best_score = candidate_score\n",
    "                best_finger_id = candidate_finger_id\n",
    "                final_position = position\n",
    "\n",
    "        return (best_finger_id, final_position), best_score\n",
    "\n",
    "    def move_two_fingers(\n",
    "        self, positions: list[Position]\n",
    "    ) -> tuple[tuple[int, Position], tuple[int, Position], float]:\n",
    "        shift_positions = self.low_layout_dict[SHIFT_CODE]\n",
    "\n",
    "        # firstly reach SHIFT, then - positions\n",
    "        finger_shift_info_1, shift_distance_1 = self.move_one_finger(shift_positions)\n",
    "        finger_btn_info_1, d1_btn = self.move_one_finger(\n",
    "            positions, finger_shift_info_1[0]\n",
    "        )\n",
    "        total_distance_1 = shift_distance_1 + d1_btn\n",
    "\n",
    "        # firstly reach positions, then - SHIFT\n",
    "        finger_btn_info_2, d1_btn = self.move_one_finger(positions)\n",
    "        finger_shift_info_2, shift_distance_2 = self.move_one_finger(\n",
    "            shift_positions, finger_btn_info_2[0]\n",
    "        )\n",
    "        total_distance_2 = shift_distance_2 + d1_btn\n",
    "\n",
    "        if total_distance_1 < total_distance_2:\n",
    "            return finger_btn_info_1, finger_shift_info_1, total_distance_1\n",
    "\n",
    "        return finger_btn_info_2, finger_shift_info_2, total_distance_2\n",
    "\n",
    "    def find_button(self, button: int):\n",
    "        if button in self.low_layout_dict:\n",
    "            (finger_id, finger_position), score = self.move_one_finger(\n",
    "                self.low_layout_dict[button]\n",
    "            )\n",
    "\n",
    "            self.fingers[finger_id].move(finger_position)\n",
    "            self.total_score += score\n",
    "\n",
    "            self.logger.log(f\"{button}:\\t{self.fingers[finger_id].name}\")\n",
    "\n",
    "        elif button in self.high_layout_dict:\n",
    "            (\n",
    "                (finger_id_1, finger_position_1),\n",
    "                (finger_id_2, finger_position_2),\n",
    "                score,\n",
    "            ) = self.move_two_fingers(self.high_layout_dict[button])\n",
    "\n",
    "            self.fingers[finger_id_1].move(finger_position_1)\n",
    "            self.fingers[finger_id_2].move(finger_position_2)\n",
    "            self.total_score += score\n",
    "\n",
    "            self.logger.log(\n",
    "                f\"{button}:\\t{self.fingers[finger_id_1].name} + {self.fingers[finger_id_2].name}\"\n",
    "            )\n",
    "\n",
    "        else:\n",
    "            self.logger.log(f\"NO SUCH KEY: {button}\")\n",
    "\n",
    "        self._finish_move()\n",
    "\n",
    "    def type_text(self, text: list[str]) -> float:\n",
    "        for button in text:\n",
    "            self.find_button(ENCODE_DICT[button])\n",
    "\n",
    "        return self.total_score\n",
    "\n",
    "    def type_encoded_text(self, encoded_text: list[int]) -> float:\n",
    "        for button in encoded_text:\n",
    "            self.find_button(button)\n",
    "        return self.total_score\n",
    "\n",
    "    def swap_buttons(self, position1: Position, position2: Position, swap_type: SwapType):\n",
    "        if swap_type == \"high_layout\":\n",
    "            layout_from = layout_to = self.high_layout\n",
    "            layout_from_dict = layout_to_dict = self.high_layout_dict\n",
    "        elif swap_type == \"low_layout\":\n",
    "            layout_from = layout_to = self.low_layout\n",
    "            layout_from_dict = layout_to_dict = self.low_layout_dict\n",
    "        else:  # swap_type == \"between_layouts\"\n",
    "            layout_from = self.low_layout\n",
    "            layout_to = self.high_layout\n",
    "            layout_from_dict = self.low_layout_dict\n",
    "            layout_to_dict = self.high_layout_dict\n",
    "\n",
    "        x1, y1 = position1\n",
    "        btn1 = layout_from[x1][y1]\n",
    "        x2, y2 = position2\n",
    "        btn2 = layout_to[x2][y2]\n",
    "\n",
    "        layout_from[x1][y1], layout_to[x2][y2] = layout_to[x2][y2], layout_from[x1][y1]\n",
    "\n",
    "        layout_from_dict[btn1].remove(position1)\n",
    "        layout_from_dict[btn1].append(position2)\n",
    "\n",
    "        layout_to_dict[btn2].append(position1)\n",
    "        layout_to_dict[btn2].remove(position2)\n",
    "\n",
    "    def show_statistics(self):\n",
    "        self.logger.log(\"\\nStatistics:\")\n",
    "        for f in self.fingers:\n",
    "            f.show_statistics()"
   ]
  },
  {
   "cell_type": "code",
   "execution_count": 44,
   "metadata": {},
   "outputs": [
    {
     "data": {
      "text/plain": [
       "([[-4, 44, -11, 74, 38, 47, 51, 30, 31, 8, 35, 19, 35, -25],\n",
       "  [57, 20, 57, 68, 35, 75, 35, 66, 42, 30, 30, 66, -1, 72],\n",
       "  [65, 60, 54, 46, 71, 69, 49, 24, 58, -7, 14, -15, 77],\n",
       "  [57, 35, 36, 37, -18, 35, 16, 7, 41, 29, 33, 17],\n",
       "  [-3, 35, 63, 35, 28, 22, 64, 76, 11, 66]],\n",
       " [[66, 39, 57, 23, -8, 9, -6, 35, 56, 40, 21, -5, 59, 27],\n",
       "  [6, -17, -16, -14, 62, 75, -20, 48, 10, -23, -24, -13, 15, 4],\n",
       "  [61, 53, 1, 25, 35, -10, -9, 12, 3, 31, 18, -22, 5],\n",
       "  [-12, 30, 32, 26, 77, 13, 70, 52, 45, 55, -19, 73],\n",
       "  [34, 43, -2, 42, -21, 35, 35, 2, 50, 67]])"
      ]
     },
     "execution_count": 44,
     "metadata": {},
     "output_type": "execute_result"
    }
   ],
   "source": [
    "def generate_random_layouts(\n",
    "    all_buttons_encoded: list[int],\n",
    "    keyboard_shape: tuple[int, ...],\n",
    "    seed: Optional[int] = None,\n",
    ") -> tuple[Layout, Layout]:\n",
    "    if seed is not None:\n",
    "        random.seed(seed)\n",
    "\n",
    "    all_buttons = all_buttons_encoded.copy()\n",
    "\n",
    "    low_layout = [[0 for _ in range(row_length)] for row_length in keyboard_shape]\n",
    "    high_layout = [[0 for _ in range(row_length)] for row_length in keyboard_shape]\n",
    "\n",
    "    # Push single SHIFT to the low layout\n",
    "    all_buttons.remove(SHIFT_CODE)\n",
    "    random.shuffle(all_buttons)\n",
    "\n",
    "    shift_position_low_layout = random.randint(0, len(all_buttons_encoded) // 2)\n",
    "    all_buttons.insert(shift_position_low_layout, SHIFT_CODE)\n",
    "    pointer = 0\n",
    "    for layout in (low_layout, high_layout):\n",
    "        for i, row_length in enumerate(keyboard_shape):\n",
    "            for j in range(row_length):\n",
    "                layout[i][j] = all_buttons[pointer]\n",
    "                pointer += 1\n",
    "\n",
    "    return low_layout, high_layout\n",
    "\n",
    "\n",
    "sample_low_layout, sample_high_layout = generate_random_layouts(\n",
    "    ALL_BUTTONS_ENCODED, KEYBOARD_LAYOUT_SHAPE\n",
    ")\n",
    "sample_low_layout, sample_high_layout"
   ]
  },
  {
   "cell_type": "markdown",
   "metadata": {},
   "source": [
    "### Test Keyboard"
   ]
  },
  {
   "cell_type": "code",
   "execution_count": 12,
   "metadata": {},
   "outputs": [
    {
     "name": "stdout",
     "output_type": "stream",
     "text": [
      "[(2, 2)]\n",
      "[(0, 2)]\n",
      "[(2, 2)]\n",
      "[(0, 2)]\n"
     ]
    }
   ],
   "source": [
    "qwerty_keyboard = KeyboardLayout(QWERTY_ENCODED_LOW, QWERTY_ENCODED_HIGH, LOGGER)\n",
    "print(qwerty_keyboard.low_layout_dict[ENCODE_DICT[\"s\"]])\n",
    "print(qwerty_keyboard.low_layout_dict[ENCODE_DICT[\"2\"]])\n",
    "print(qwerty_keyboard.high_layout_dict[ENCODE_DICT[\"S\"]])\n",
    "print(qwerty_keyboard.high_layout_dict[ENCODE_DICT[\"@\"]])"
   ]
  },
  {
   "cell_type": "code",
   "execution_count": 13,
   "metadata": {},
   "outputs": [
    {
     "name": "stdout",
     "output_type": "stream",
     "text": [
      "[(0, 2)]\n",
      "[(2, 2)]\n",
      "[(0, 2)]\n",
      "[(2, 2)]\n"
     ]
    }
   ],
   "source": [
    "qwerty_keyboard.swap_buttons((2, 2), (0, 2), \"low_layout\")\n",
    "qwerty_keyboard.swap_buttons((2, 2), (0, 2), \"high_layout\")\n",
    "\n",
    "print(qwerty_keyboard.low_layout_dict[ENCODE_DICT[\"s\"]])\n",
    "print(qwerty_keyboard.low_layout_dict[ENCODE_DICT[\"2\"]])\n",
    "print(qwerty_keyboard.high_layout_dict[ENCODE_DICT[\"S\"]])\n",
    "print(qwerty_keyboard.high_layout_dict[ENCODE_DICT[\"@\"]])"
   ]
  },
  {
   "cell_type": "code",
   "execution_count": 14,
   "metadata": {},
   "outputs": [
    {
     "name": "stdout",
     "output_type": "stream",
     "text": [
      "52\n",
      "-24\n"
     ]
    }
   ],
   "source": [
    "print(qwerty_keyboard.low_layout[0][5])\n",
    "print(qwerty_keyboard.high_layout[1][6])"
   ]
  },
  {
   "cell_type": "code",
   "execution_count": 15,
   "metadata": {},
   "outputs": [
    {
     "name": "stdout",
     "output_type": "stream",
     "text": [
      "-24\n",
      "52\n"
     ]
    }
   ],
   "source": [
    "qwerty_keyboard.swap_buttons((0, 5), (1, 6), \"between_layouts\")\n",
    "print(qwerty_keyboard.low_layout[0][5])\n",
    "print(qwerty_keyboard.high_layout[1][6])"
   ]
  },
  {
   "cell_type": "code",
   "execution_count": 16,
   "metadata": {},
   "outputs": [
    {
     "name": "stdout",
     "output_type": "stream",
     "text": [
      "\n",
      "Statistics:\n",
      "Name: левый мизинец                      Typed keys:     0             Ticks before return:     0             Current position: (2, 1)\t            Default position: (2, 1)\n",
      "Name: левый безымянный                   Typed keys:     0             Ticks before return:     0             Current position: (2, 2)\t            Default position: (2, 2)\n",
      "Name: левый средний                      Typed keys:     0             Ticks before return:     0             Current position: (2, 3)\t            Default position: (2, 3)\n",
      "Name: левый указательный                 Typed keys:     0             Ticks before return:     0             Current position: (2, 4)\t            Default position: (2, 4)\n",
      "Name: левый большой                      Typed keys:     0             Ticks before return:     0             Current position: (4, 3)\t            Default position: (4, 3)\n",
      "Name: правый большой                     Typed keys:     0             Ticks before return:     0             Current position: (4, 6)\t            Default position: (4, 6)\n",
      "Name: правый указательный                Typed keys:     0             Ticks before return:     0             Current position: (2, 7)\t            Default position: (2, 7)\n",
      "Name: правый средний                     Typed keys:     0             Ticks before return:     0             Current position: (2, 8)\t            Default position: (2, 8)\n",
      "Name: правый безымянный                  Typed keys:     0             Ticks before return:     0             Current position: (2, 9)\t            Default position: (2, 9)\n",
      "Name: правый мизинец                     Typed keys:     0             Ticks before return:     0             Current position: (2, 10)\t            Default position: (2, 10)\n"
     ]
    }
   ],
   "source": [
    "qwerty_keyboard.show_statistics()"
   ]
  },
  {
   "cell_type": "code",
   "execution_count": 17,
   "metadata": {},
   "outputs": [
    {
     "name": "stdout",
     "output_type": "stream",
     "text": [
      "-8:\tправый указательный + левый мизинец\n",
      "9:\tправый средний\n",
      "35:\tлевый большой\n",
      "13:\tправый большой\n",
      "24:\tправый указательный\n",
      "35:\tлевый большой\n",
      "14:\tправый большой\n",
      "1:\tлевый мизинец\n",
      "13:\tправый указательный\n",
      "5:\tлевый средний\n",
      "35:\tлевый большой\n",
      "9:\tправый средний\n",
      "19:\tлевый средний\n",
      "35:\tлевый большой\n",
      "-2:\tлевый указательный + левый мизинец\n",
      "15:\tправый безымянный\n",
      "2:\tлевый указательный\n",
      "45:\tлевый безымянный + левый мизинец\n"
     ]
    },
    {
     "data": {
      "text/plain": [
       "42.6"
      ]
     },
     "execution_count": 17,
     "metadata": {},
     "output_type": "execute_result"
    }
   ],
   "source": [
    "qwerty_keyboard.type_text(list(\"Hi my name is Bob!\"))"
   ]
  },
  {
   "cell_type": "code",
   "execution_count": 18,
   "metadata": {},
   "outputs": [
    {
     "name": "stdout",
     "output_type": "stream",
     "text": [
      "\n",
      "Statistics:\n",
      "Name: левый мизинец                      Typed keys:     4             Ticks before return:     3             Current position: (3, 0)\t            Default position: (2, 1)\n",
      "Name: левый безымянный                   Typed keys:     1             Ticks before return:     3             Current position: (0, 1)\t            Default position: (2, 2)\n",
      "Name: левый средний                      Typed keys:     2             Ticks before return:     0             Current position: (2, 3)\t            Default position: (2, 3)\n",
      "Name: левый указательный                 Typed keys:     2             Ticks before return:     2             Current position: (3, 5)\t            Default position: (2, 4)\n",
      "Name: левый большой                      Typed keys:     4             Ticks before return:     0             Current position: (4, 3)\t            Default position: (4, 3)\n",
      "Name: правый большой                     Typed keys:     2             Ticks before return:     0             Current position: (4, 6)\t            Default position: (4, 6)\n",
      "Name: правый указательный                Typed keys:     3             Ticks before return:     0             Current position: (2, 7)\t            Default position: (2, 7)\n",
      "Name: правый средний                     Typed keys:     2             Ticks before return:     0             Current position: (2, 8)\t            Default position: (2, 8)\n",
      "Name: правый безымянный                  Typed keys:     1             Ticks before return:     1             Current position: (1, 9)\t            Default position: (2, 9)\n",
      "Name: правый мизинец                     Typed keys:     0             Ticks before return:     0             Current position: (2, 10)\t            Default position: (2, 10)\n"
     ]
    }
   ],
   "source": [
    "qwerty_keyboard.show_statistics()"
   ]
  },
  {
   "cell_type": "markdown",
   "metadata": {},
   "source": [
    "As we can see, we successfully can swap different keys in given keyboard and calculate distance function fro given string.\n"
   ]
  },
  {
   "cell_type": "markdown",
   "metadata": {},
   "source": [
    "## Data loading & preprocessing"
   ]
  },
  {
   "cell_type": "code",
   "execution_count": 27,
   "metadata": {},
   "outputs": [
    {
     "data": {
      "text/html": [
       "<div>\n",
       "<style scoped>\n",
       "    .dataframe tbody tr th:only-of-type {\n",
       "        vertical-align: middle;\n",
       "    }\n",
       "\n",
       "    .dataframe tbody tr th {\n",
       "        vertical-align: top;\n",
       "    }\n",
       "\n",
       "    .dataframe thead th {\n",
       "        text-align: right;\n",
       "    }\n",
       "</style>\n",
       "<table border=\"1\" class=\"dataframe\">\n",
       "  <thead>\n",
       "    <tr style=\"text-align: right;\">\n",
       "      <th></th>\n",
       "      <th>text</th>\n",
       "    </tr>\n",
       "  </thead>\n",
       "  <tbody>\n",
       "    <tr>\n",
       "      <th>0</th>\n",
       "      <td>point operator-(point p1,point p2)\\n  p1.x-=p2...</td>\n",
       "    </tr>\n",
       "    <tr>\n",
       "      <th>1</th>\n",
       "      <td>int main() {\\n    map&lt;char, int&gt; m;\\n    m['6'...</td>\n",
       "    </tr>\n",
       "    <tr>\n",
       "      <th>2</th>\n",
       "      <td>int main()\\n\\tint n,s[1001],cnt=0;\\n\\tscanf(\"%...</td>\n",
       "    </tr>\n",
       "    <tr>\n",
       "      <th>3</th>\n",
       "      <td>int main() {\\n\\tcin &gt;&gt; n;\\n\\tfor (int i = 0; i...</td>\n",
       "    </tr>\n",
       "    <tr>\n",
       "      <th>4</th>\n",
       "      <td>int main()\\n      char a, b, c, d, kozir;\\n ...</td>\n",
       "    </tr>\n",
       "  </tbody>\n",
       "</table>\n",
       "</div>"
      ],
      "text/plain": [
       "                                                text\n",
       "0  point operator-(point p1,point p2)\\n  p1.x-=p2...\n",
       "1  int main() {\\n    map<char, int> m;\\n    m['6'...\n",
       "2  int main()\\n\\tint n,s[1001],cnt=0;\\n\\tscanf(\"%...\n",
       "3  int main() {\\n\\tcin >> n;\\n\\tfor (int i = 0; i...\n",
       "4    int main()\\n      char a, b, c, d, kozir;\\n ..."
      ]
     },
     "execution_count": 27,
     "metadata": {},
     "output_type": "execute_result"
    }
   ],
   "source": [
    "data_frame = pd.read_csv(\"../data/raw/cpp_programs.csv\", index_col=0)\n",
    "data_frame.head()"
   ]
  },
  {
   "cell_type": "code",
   "execution_count": 28,
   "metadata": {},
   "outputs": [
    {
     "name": "stdout",
     "output_type": "stream",
     "text": [
      "Mean length: 466.05414663010777\n",
      "Max length: 62313\n",
      "Min length: 12\n"
     ]
    }
   ],
   "source": [
    "text_lengths = data_frame[\"text\"].apply(len)\n",
    "print(f\"Mean length: {text_lengths.mean()}\")\n",
    "print(f\"Max length: {text_lengths.max()}\")\n",
    "print(f\"Min length: {text_lengths.min()}\")"
   ]
  },
  {
   "cell_type": "code",
   "execution_count": 33,
   "metadata": {},
   "outputs": [],
   "source": [
    "MAX_LENGTH = 400\n",
    "PADDING_VALUE = ENCODE_DICT[\" \"]\n",
    "\n",
    "\n",
    "def preprocess_text(text: str) -> list[int]:\n",
    "    encoded_text = [\n",
    "        ENCODE_DICT[symbol]\n",
    "        for symbol in list(filter(lambda s: s in BUTTONS_SET, text))[:MAX_LENGTH]\n",
    "    ]\n",
    "    return encoded_text + [PADDING_VALUE for _ in range(MAX_LENGTH - len(encoded_text))]\n",
    "\n",
    "\n",
    "data_frame[\"encoded_text\"] = data_frame[\"text\"].apply(preprocess_text)"
   ]
  },
  {
   "cell_type": "code",
   "execution_count": 38,
   "metadata": {},
   "outputs": [
    {
     "data": {
      "text/plain": [
       "(119989, 400)"
      ]
     },
     "execution_count": 38,
     "metadata": {},
     "output_type": "execute_result"
    }
   ],
   "source": [
    "dataset = np.array([np.array(text) for text in data_frame[\"encoded_text\"].to_list()])\n",
    "dataset.shape"
   ]
  },
  {
   "cell_type": "markdown",
   "metadata": {},
   "source": [
    "## Measure QWERTY"
   ]
  },
  {
   "cell_type": "code",
   "execution_count": 54,
   "metadata": {},
   "outputs": [
    {
     "name": "stderr",
     "output_type": "stream",
     "text": [
      "100%|██████████| 100/100 [00:05<00:00, 19.62it/s, qwerty=8.88e+4, random=1.11e+5]\n"
     ]
    }
   ],
   "source": [
    "qwerty_keyboard = KeyboardLayout(\n",
    "    QWERTY_ENCODED_LOW, QWERTY_ENCODED_HIGH, Logger(verbose=False)\n",
    ")\n",
    "\n",
    "random_low, random_high = generate_random_layouts(\n",
    "    ALL_BUTTONS_ENCODED, KEYBOARD_LAYOUT_SHAPE, seed=42\n",
    ")\n",
    "random_keyboard = KeyboardLayout(random_low, random_high, Logger(verbose=False))\n",
    "\n",
    "\n",
    "loop = tqdm(dataset[:100])\n",
    "for text in loop:\n",
    "    qwerty_score_total = qwerty_keyboard.type_encoded_text(text)\n",
    "    random_score_total = random_keyboard.type_encoded_text(text)\n",
    "    loop.set_postfix({\"qwerty\": qwerty_score_total, \"random\": random_score_total})"
   ]
  },
  {
   "cell_type": "code",
   "execution_count": 55,
   "metadata": {},
   "outputs": [
    {
     "name": "stdout",
     "output_type": "stream",
     "text": [
      "qwerty_keyboard.total_score=88775\n",
      "random_keyboard.total_score=111273\n"
     ]
    }
   ],
   "source": [
    "print(f\"{qwerty_keyboard.total_score=:.0f}\")\n",
    "print(f\"{random_keyboard.total_score=:.0f}\")"
   ]
  }
 ],
 "metadata": {
  "kernelspec": {
   "display_name": "d_env",
   "language": "python",
   "name": "python3"
  },
  "language_info": {
   "codemirror_mode": {
    "name": "ipython",
    "version": 3
   },
   "file_extension": ".py",
   "mimetype": "text/x-python",
   "name": "python",
   "nbconvert_exporter": "python",
   "pygments_lexer": "ipython3",
   "version": "3.11.0"
  }
 },
 "nbformat": 4,
 "nbformat_minor": 2
}
